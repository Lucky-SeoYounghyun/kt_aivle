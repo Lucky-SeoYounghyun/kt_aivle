{
 "cells": [
  {
   "cell_type": "markdown",
   "metadata": {
    "id": "OZoqODKZL2NO"
   },
   "source": [
    "# AIVLE스쿨 2차 미니프로젝트: 신규 아파트 주차 수요 예측"
   ]
  },
  {
   "cell_type": "markdown",
   "metadata": {
    "id": "smKmJd_eL2NP"
   },
   "source": [
    "<img src = \"https://github.com/Jangrae/img/blob/master/parking.png?raw=true\" width=800, align=\"left\"/>"
   ]
  },
  {
   "cell_type": "markdown",
   "metadata": {
    "id": "mJlY5pHkC2AM"
   },
   "source": [
    "# 단계 1: 데이터 전처리"
   ]
  },
  {
   "cell_type": "markdown",
   "metadata": {
    "id": "-FPypzell2uc"
   },
   "source": [
    "## [미션]\n",
    "\n",
    "단지별 등록 차량 수를 예측하기에 적합한 형태로 데이터 전처리를 수행합니다.\n",
    "\n",
    "1) 필요한 변수를 추가하고 불필요한 변수를 제거합니다.\n",
    "2) 단지별 데이터와 상세 데이터를 분리합니다.\n",
    "3) 상세 데이터를 단지별로 집계합니다.\n",
    "    - 단지별 총면적 집계\n",
    "    - 전용면적구간 집계 (피벗형태)\n",
    "    - 단지별 임대보증금, 임대료 평균 집계\n",
    "4) 단지별 데이터와 집계 데이터를 하나로 합칩니다.\n",
    "5) 변수 추가 (옵션)\n",
    "    - 등록 차량수를 예측하기 위해 필요한 변수를 추가합니다."
   ]
  },
  {
   "cell_type": "markdown",
   "metadata": {
    "id": "NCptKiLOAn7l"
   },
   "source": [
    "## 1. 환경설정"
   ]
  },
  {
   "cell_type": "markdown",
   "metadata": {
    "id": "gklxNfgNpkls"
   },
   "source": [
    "### (1) 로컬 수행(Anaconda)\n",
    "\n",
    "- project 폴더에 필요한 파일들을 넣고, 본 파일을 열었다면, 별도 경로 지정이 필요하지 않습니다."
   ]
  },
  {
   "cell_type": "code",
   "execution_count": 1,
   "metadata": {
    "id": "PNI6X2yxpkls",
    "tags": []
   },
   "outputs": [],
   "source": [
    "# 기본 경로\n",
    "path = ''"
   ]
  },
  {
   "cell_type": "markdown",
   "metadata": {
    "id": "7rWT4biQpkls"
   },
   "source": [
    "### (2) 구글 콜랩 수행\n",
    "\n",
    "- 구글 콜랩을 사용중이면 구글 드라이브를 연결합니다."
   ]
  },
  {
   "cell_type": "code",
   "execution_count": null,
   "metadata": {
    "id": "CLasRk8Spklt",
    "tags": []
   },
   "outputs": [],
   "source": [
    "# 구글 드라이브 연결, 패스 지정\n",
    "import sys\n",
    "if 'google.colab' in sys.modules:\n",
    "    from google.colab import drive\n",
    "    drive.mount('/content/drive')\n",
    "    path = '/content/drive/MyDrive/project/'"
   ]
  },
  {
   "cell_type": "markdown",
   "metadata": {
    "id": "wkcb3dwgL2NR"
   },
   "source": [
    "### (3) 한글 폰트 표시용 라이브러리 설치"
   ]
  },
  {
   "cell_type": "code",
   "execution_count": 2,
   "metadata": {
    "id": "QP8erRAbL2NR"
   },
   "outputs": [],
   "source": [
    "# 한글 표시를 위한 라이브러리 설치\n",
    "!pip install koreanize_matplotlib -q"
   ]
  },
  {
   "cell_type": "markdown",
   "metadata": {
    "id": "Nkoo0SzIL2NR"
   },
   "source": [
    "### (4) 라이브러리 불러오기"
   ]
  },
  {
   "cell_type": "code",
   "execution_count": 3,
   "metadata": {
    "id": "wqct4c1DL2NR",
    "tags": []
   },
   "outputs": [],
   "source": [
    "# 라이브러리 불러오기\n",
    "import numpy as np\n",
    "import pandas as pd\n",
    "import matplotlib.pyplot as plt\n",
    "import koreanize_matplotlib\n",
    "import seaborn as sns\n",
    "\n",
    "import joblib\n",
    "import warnings\n",
    "\n",
    "warnings.filterwarnings(action='ignore')\n",
    "%config InlineBackend.figure_format='retina'"
   ]
  },
  {
   "cell_type": "markdown",
   "metadata": {
    "id": "dPfPWkG1txqV"
   },
   "source": [
    "### (5) 데이터 불러오기\n",
    "\n",
    "- 학습용 데이터(train.xlsx)를 읽어옵니다.\n",
    "- 읽어온 데이터를 apart 데이터프레임으로 선언합니다.\n",
    "- 평가용 데이터(test.xlsx) 파일은 모델 완성 후 사용할 미래의 데이터입니다."
   ]
  },
  {
   "cell_type": "markdown",
   "metadata": {
    "id": "fmgUEGOipvG5"
   },
   "source": [
    "#### 1) 데이터 불러오기"
   ]
  },
  {
   "cell_type": "code",
   "execution_count": 4,
   "metadata": {
    "id": "ZpMoNMpcQoQ5"
   },
   "outputs": [],
   "source": [
    "# 파일 불러오기\n",
    "apart = pd.read_excel(path+'train.xlsx')"
   ]
  },
  {
   "cell_type": "markdown",
   "metadata": {
    "id": "aI7qJqz3pr3m"
   },
   "source": [
    "#### 2) 기본 정보 조회"
   ]
  },
  {
   "cell_type": "code",
   "execution_count": 5,
   "metadata": {
    "id": "yFVSAGNhpr3m"
   },
   "outputs": [
    {
     "name": "stdout",
     "output_type": "stream",
     "text": [
      "<class 'pandas.core.frame.DataFrame'>\n",
      "RangeIndex: 1157 entries, 0 to 1156\n",
      "Data columns (total 15 columns):\n",
      " #   Column    Non-Null Count  Dtype  \n",
      "---  ------    --------------  -----  \n",
      " 0   단지코드      1157 non-null   object \n",
      " 1   단지명       1157 non-null   object \n",
      " 2   총세대수      1157 non-null   int64  \n",
      " 3   전용면적별세대수  1157 non-null   int64  \n",
      " 4   지역        1157 non-null   object \n",
      " 5   준공일자      1157 non-null   int64  \n",
      " 6   건물형태      1135 non-null   object \n",
      " 7   난방방식      1082 non-null   object \n",
      " 8   승강기설치여부   1059 non-null   object \n",
      " 9   단지내주차면수   1157 non-null   int64  \n",
      " 10  전용면적      1157 non-null   float64\n",
      " 11  공용면적      1157 non-null   float64\n",
      " 12  임대보증금     1157 non-null   int64  \n",
      " 13  임대료       1157 non-null   int64  \n",
      " 14  실차량수      1157 non-null   int64  \n",
      "dtypes: float64(2), int64(7), object(6)\n",
      "memory usage: 135.7+ KB\n"
     ]
    }
   ],
   "source": [
    "apart.info()\n"
   ]
  },
  {
   "cell_type": "code",
   "execution_count": 6,
   "metadata": {
    "id": "xJnnr8K-pr3m"
   },
   "outputs": [
    {
     "data": {
      "text/html": [
       "<div>\n",
       "<style scoped>\n",
       "    .dataframe tbody tr th:only-of-type {\n",
       "        vertical-align: middle;\n",
       "    }\n",
       "\n",
       "    .dataframe tbody tr th {\n",
       "        vertical-align: top;\n",
       "    }\n",
       "\n",
       "    .dataframe thead th {\n",
       "        text-align: right;\n",
       "    }\n",
       "</style>\n",
       "<table border=\"1\" class=\"dataframe\">\n",
       "  <thead>\n",
       "    <tr style=\"text-align: right;\">\n",
       "      <th></th>\n",
       "      <th>총세대수</th>\n",
       "      <th>전용면적별세대수</th>\n",
       "      <th>준공일자</th>\n",
       "      <th>단지내주차면수</th>\n",
       "      <th>전용면적</th>\n",
       "      <th>공용면적</th>\n",
       "      <th>임대보증금</th>\n",
       "      <th>임대료</th>\n",
       "      <th>실차량수</th>\n",
       "    </tr>\n",
       "  </thead>\n",
       "  <tbody>\n",
       "    <tr>\n",
       "      <th>count</th>\n",
       "      <td>1157.000000</td>\n",
       "      <td>1157.000000</td>\n",
       "      <td>1.157000e+03</td>\n",
       "      <td>1157.000000</td>\n",
       "      <td>1157.000000</td>\n",
       "      <td>1157.000000</td>\n",
       "      <td>1.157000e+03</td>\n",
       "      <td>1.157000e+03</td>\n",
       "      <td>1157.000000</td>\n",
       "    </tr>\n",
       "    <tr>\n",
       "      <th>mean</th>\n",
       "      <td>659.075194</td>\n",
       "      <td>163.691443</td>\n",
       "      <td>2.008667e+07</td>\n",
       "      <td>682.261884</td>\n",
       "      <td>51.565584</td>\n",
       "      <td>20.562360</td>\n",
       "      <td>2.850789e+07</td>\n",
       "      <td>2.259409e+05</td>\n",
       "      <td>650.762316</td>\n",
       "    </tr>\n",
       "    <tr>\n",
       "      <th>std</th>\n",
       "      <td>456.110643</td>\n",
       "      <td>166.766358</td>\n",
       "      <td>6.777985e+04</td>\n",
       "      <td>473.331805</td>\n",
       "      <td>18.243315</td>\n",
       "      <td>5.164405</td>\n",
       "      <td>2.890687e+07</td>\n",
       "      <td>1.768102e+05</td>\n",
       "      <td>390.573462</td>\n",
       "    </tr>\n",
       "    <tr>\n",
       "      <th>min</th>\n",
       "      <td>1.000000</td>\n",
       "      <td>1.000000</td>\n",
       "      <td>1.992010e+07</td>\n",
       "      <td>10.000000</td>\n",
       "      <td>17.590000</td>\n",
       "      <td>5.850000</td>\n",
       "      <td>0.000000e+00</td>\n",
       "      <td>0.000000e+00</td>\n",
       "      <td>21.000000</td>\n",
       "    </tr>\n",
       "    <tr>\n",
       "      <th>25%</th>\n",
       "      <td>315.000000</td>\n",
       "      <td>44.000000</td>\n",
       "      <td>2.005031e+07</td>\n",
       "      <td>308.000000</td>\n",
       "      <td>39.480000</td>\n",
       "      <td>16.997400</td>\n",
       "      <td>1.379700e+07</td>\n",
       "      <td>1.177400e+05</td>\n",
       "      <td>320.000000</td>\n",
       "    </tr>\n",
       "    <tr>\n",
       "      <th>50%</th>\n",
       "      <td>595.000000</td>\n",
       "      <td>112.000000</td>\n",
       "      <td>2.010042e+07</td>\n",
       "      <td>629.000000</td>\n",
       "      <td>46.900000</td>\n",
       "      <td>20.384700</td>\n",
       "      <td>1.997300e+07</td>\n",
       "      <td>1.842900e+05</td>\n",
       "      <td>626.000000</td>\n",
       "    </tr>\n",
       "    <tr>\n",
       "      <th>75%</th>\n",
       "      <td>918.000000</td>\n",
       "      <td>229.000000</td>\n",
       "      <td>2.013121e+07</td>\n",
       "      <td>911.000000</td>\n",
       "      <td>59.810000</td>\n",
       "      <td>23.722500</td>\n",
       "      <td>3.375300e+07</td>\n",
       "      <td>2.634400e+05</td>\n",
       "      <td>894.000000</td>\n",
       "    </tr>\n",
       "    <tr>\n",
       "      <th>max</th>\n",
       "      <td>2289.000000</td>\n",
       "      <td>1258.000000</td>\n",
       "      <td>2.022071e+07</td>\n",
       "      <td>4553.000000</td>\n",
       "      <td>139.350000</td>\n",
       "      <td>42.760000</td>\n",
       "      <td>2.549220e+08</td>\n",
       "      <td>1.058030e+06</td>\n",
       "      <td>1657.000000</td>\n",
       "    </tr>\n",
       "  </tbody>\n",
       "</table>\n",
       "</div>"
      ],
      "text/plain": [
       "              총세대수     전용면적별세대수          준공일자      단지내주차면수         전용면적  \\\n",
       "count  1157.000000  1157.000000  1.157000e+03  1157.000000  1157.000000   \n",
       "mean    659.075194   163.691443  2.008667e+07   682.261884    51.565584   \n",
       "std     456.110643   166.766358  6.777985e+04   473.331805    18.243315   \n",
       "min       1.000000     1.000000  1.992010e+07    10.000000    17.590000   \n",
       "25%     315.000000    44.000000  2.005031e+07   308.000000    39.480000   \n",
       "50%     595.000000   112.000000  2.010042e+07   629.000000    46.900000   \n",
       "75%     918.000000   229.000000  2.013121e+07   911.000000    59.810000   \n",
       "max    2289.000000  1258.000000  2.022071e+07  4553.000000   139.350000   \n",
       "\n",
       "              공용면적         임대보증금           임대료         실차량수  \n",
       "count  1157.000000  1.157000e+03  1.157000e+03  1157.000000  \n",
       "mean     20.562360  2.850789e+07  2.259409e+05   650.762316  \n",
       "std       5.164405  2.890687e+07  1.768102e+05   390.573462  \n",
       "min       5.850000  0.000000e+00  0.000000e+00    21.000000  \n",
       "25%      16.997400  1.379700e+07  1.177400e+05   320.000000  \n",
       "50%      20.384700  1.997300e+07  1.842900e+05   626.000000  \n",
       "75%      23.722500  3.375300e+07  2.634400e+05   894.000000  \n",
       "max      42.760000  2.549220e+08  1.058030e+06  1657.000000  "
      ]
     },
     "execution_count": 6,
     "metadata": {},
     "output_type": "execute_result"
    }
   ],
   "source": [
    "apart.describe()\n"
   ]
  },
  {
   "cell_type": "code",
   "execution_count": 58,
   "metadata": {
    "id": "ajJ1qJkhpr3n"
   },
   "outputs": [
    {
     "name": "stdout",
     "output_type": "stream",
     "text": [
      "<class 'pandas.core.frame.DataFrame'>\n",
      "RangeIndex: 1157 entries, 0 to 1156\n",
      "Data columns (total 15 columns):\n",
      " #   Column    Non-Null Count  Dtype  \n",
      "---  ------    --------------  -----  \n",
      " 0   단지코드      1157 non-null   object \n",
      " 1   단지명       1157 non-null   object \n",
      " 2   총세대수      1157 non-null   int64  \n",
      " 3   전용면적별세대수  1157 non-null   int64  \n",
      " 4   지역        1157 non-null   object \n",
      " 5   준공일자      1157 non-null   int64  \n",
      " 6   건물형태      1135 non-null   object \n",
      " 7   난방방식      1082 non-null   object \n",
      " 8   승강기설치여부   1059 non-null   object \n",
      " 9   단지내주차면수   1157 non-null   int64  \n",
      " 10  전용면적      1157 non-null   float64\n",
      " 11  공용면적      1157 non-null   float64\n",
      " 12  임대보증금     1157 non-null   int64  \n",
      " 13  임대료       1157 non-null   int64  \n",
      " 14  실차량수      1157 non-null   int64  \n",
      "dtypes: float64(2), int64(7), object(6)\n",
      "memory usage: 135.7+ KB\n"
     ]
    }
   ],
   "source": [
    "import pandas as pd\n",
    "apart.info()"
   ]
  },
  {
   "cell_type": "code",
   "execution_count": null,
   "metadata": {
    "id": "Jn78I6JFpr3n"
   },
   "outputs": [],
   "source": []
  },
  {
   "cell_type": "markdown",
   "metadata": {
    "id": "wcSokv_rvG-R"
   },
   "source": [
    "## 2. 데이터 전처리 ①\n",
    "\n",
    "- 결측치 존재 여부를 확인하고 적절히 처리합니다.\n",
    "- 필요한 변수를 추가하고, 불필요한 변수를 제거합니다."
   ]
  },
  {
   "cell_type": "markdown",
   "metadata": {
    "id": "Qa6M07r39NgH"
   },
   "source": [
    "### (1) 결측치 처리\n",
    "\n",
    "- 결측치가 있는 지 확인합니다."
   ]
  },
  {
   "cell_type": "code",
   "execution_count": 7,
   "metadata": {
    "id": "eooU_CN4x_B6"
   },
   "outputs": [
    {
     "data": {
      "text/plain": [
       "단지코드         0\n",
       "단지명          0\n",
       "총세대수         0\n",
       "전용면적별세대수     0\n",
       "지역           0\n",
       "준공일자         0\n",
       "건물형태        22\n",
       "난방방식        75\n",
       "승강기설치여부     98\n",
       "단지내주차면수      0\n",
       "전용면적         0\n",
       "공용면적         0\n",
       "임대보증금        0\n",
       "임대료          0\n",
       "실차량수         0\n",
       "dtype: int64"
      ]
     },
     "execution_count": 7,
     "metadata": {},
     "output_type": "execute_result"
    }
   ],
   "source": [
    "apart.isna().sum()"
   ]
  },
  {
   "cell_type": "markdown",
   "metadata": {},
   "source": [
    "- 결측치는 적절한 값으로 채웁니다.\n",
    "- 예를 들어 범주형 변수인 경우는 각 변수의 최빈값으로 채울 수 있습니다."
   ]
  },
  {
   "cell_type": "code",
   "execution_count": 8,
   "metadata": {},
   "outputs": [
    {
     "name": "stdout",
     "output_type": "stream",
     "text": [
      "건물형태의 고유 값들:\n",
      "['계단식' '복도식' '혼합식']\n",
      "난방방식의 고유 값들:\n",
      "['개별가스난방' '지역난방' '지역가스난방' '중앙가스난방' '개별유류난방' '중앙난방' '지역유류난방' '중앙유류난방']\n",
      "승강기설치여부의 고유 값들:\n",
      "['전체동 설치' '일부동 설치' '미설치']\n"
     ]
    }
   ],
   "source": [
    "columns_with_missing = ['건물형태', '난방방식', '승강기설치여부']\n",
    "for column in columns_with_missing:\n",
    "    mode_value = apart[column].mode()[0]\n",
    "    apart[column].fillna(mode_value, inplace=True)\n",
    "\n",
    "print(\"건물형태의 고유 값들:\")\n",
    "print(apart['건물형태'].unique())\n",
    "\n",
    "print(\"난방방식의 고유 값들:\")\n",
    "print(apart['난방방식'].unique())\n",
    "\n",
    "print(\"승강기설치여부의 고유 값들:\")\n",
    "print(apart['승강기설치여부'].unique())"
   ]
  },
  {
   "cell_type": "code",
   "execution_count": 61,
   "metadata": {},
   "outputs": [],
   "source": [
    "import pandas as pd\n",
    "import numpy as np\n",
    "from sklearn.preprocessing import LabelEncoder\n",
    "from xgboost import XGBClassifier\n",
    "from sklearn.model_selection import train_test_split\n",
    "import xgboost as xgb"
   ]
  },
  {
   "cell_type": "code",
   "execution_count": 62,
   "metadata": {},
   "outputs": [
    {
     "name": "stdout",
     "output_type": "stream",
     "text": [
      "       단지코드              단지명  총세대수  전용면적별세대수    지역      준공일자 건물형태    난방방식  \\\n",
      "0     C0001       엘에이치 서초4단지    78        35    서울  20131204  계단식  개별가스난방   \n",
      "1     C0001       엘에이치 서초4단지    78        43    서울  20131204  계단식  개별가스난방   \n",
      "2     C0002          LH삼성아파트    35        26    서울  20130801  복도식  개별가스난방   \n",
      "3     C0002          LH삼성아파트    35         9    서울  20130801  복도식  개별가스난방   \n",
      "4     C0003          강남LH8단지    88         7    서울  20131023  계단식  개별가스난방   \n",
      "...     ...              ...   ...       ...   ...       ...  ...     ...   \n",
      "1152  C0356       덕유마을 주공1단지   956       956    경기  19941130  복도식  지역가스난방   \n",
      "1153  C0358  화천신읍(공공실버) 영구임대   120        66    강원  20200110  복도식  개별가스난방   \n",
      "1154  C0358  화천신읍(공공실버) 영구임대   120        54    강원  20200110  복도식  개별가스난방   \n",
      "1155  C0359            영천야사4   447       149  대구경북  19940615  복도식  중앙유류난방   \n",
      "1156  C0359            영천야사4   447       298  대구경북  19940615  복도식  중앙유류난방   \n",
      "\n",
      "     승강기설치여부  단지내주차면수   전용면적     공용면적     임대보증금     임대료  실차량수  \n",
      "0     전체동 설치      120  51.89  19.2603  50758000  620370   109  \n",
      "1     전체동 설치      120  59.93  22.2446  63166000  665490   109  \n",
      "2     전체동 설치       47  27.75  16.5375  63062000  458640    35  \n",
      "3     전체동 설치       47  29.08  17.3302  63062000  481560    35  \n",
      "4     전체동 설치      106  59.47  21.9462  72190000  586540    88  \n",
      "...      ...      ...    ...      ...       ...     ...   ...  \n",
      "1152  전체동 설치      202  26.37  12.7500   9931000  134540   243  \n",
      "1153  전체동 설치       40  24.83  15.1557   2129000   42350    47  \n",
      "1154  전체동 설치       40  33.84  20.6553   2902000   57730    47  \n",
      "1155  전체동 설치       89  26.37  13.3800   7134000  118880    78  \n",
      "1156  전체동 설치       89  31.32  13.8500   8122000  131140    78  \n",
      "\n",
      "[1157 rows x 15 columns]\n"
     ]
    }
   ],
   "source": [
    "# def train_and_predict_missing_values(df, target_column):\n",
    "#     # 결측치가 있는 행과 없는 행으로 분리\n",
    "#     train_data = df[df[target_column].notnull()]\n",
    "#     test_data = df[df[target_column].isnull()]\n",
    "    \n",
    "#     if len(test_data) == 0:\n",
    "#         return df  # 결측치가 없는 경우 예측할 필요가 없음\n",
    "    \n",
    "#     # 변수 분리~\n",
    "#     X_train = train_data.drop(columns=[target_column])\n",
    "#     y_train = train_data[target_column]\n",
    "#     X_test = test_data.drop(columns=[target_column])\n",
    "    \n",
    "#     X_train_encoded = pd.get_dummies(X_train, drop_first=True)\n",
    "#     X_test_encoded = pd.get_dummies(X_test, drop_first=True)\n",
    "\n",
    "#     # 학습 데이터와 테스트 데이터의 열을 동일하게 맞춤\n",
    "#     X_train_encoded, X_test_encoded = X_train_encoded.align(X_test_encoded, join='left', axis=1, fill_value=0)\n",
    "    \n",
    "#     # 타겟 변수 레이블 인코딩\n",
    "#     le = LabelEncoder()\n",
    "#     y_train_encoded = le.fit_transform(y_train)\n",
    "    \n",
    "#     model = xgb.XGBClassifier()\n",
    "#     model.fit(X_train_encoded, y_train_encoded)\n",
    "\n",
    "#     y_pred_encoded = model.predict(X_test_encoded)\n",
    "    \n",
    "#     y_pred = le.inverse_transform(y_pred_encoded)\n",
    "\n",
    "#     df.loc[df[target_column].isnull(), target_column] = y_pred\n",
    "#     return df\n",
    "\n",
    "# categorical_columns_with_nan = ['건물형태', '난방방식', '승강기설치여부']\n",
    "\n",
    "# for col in categorical_columns_with_nan:\n",
    "#     apart = train_and_predict_missing_values(apart, col)\n",
    "\n",
    "# print(apart)"
   ]
  },
  {
   "cell_type": "code",
   "execution_count": 63,
   "metadata": {},
   "outputs": [
    {
     "name": "stdout",
     "output_type": "stream",
     "text": [
      "건물형태의 고유 값들:\n",
      "['계단식' '복도식' '혼합식']\n",
      "난방방식의 고유 값들:\n",
      "['개별가스난방' '지역난방' '지역가스난방' '중앙가스난방' '개별유류난방' '중앙난방' '지역유류난방' '중앙유류난방']\n",
      "승강기설치여부의 고유 값들:\n",
      "['전체동 설치' '일부동 설치' '미설치']\n"
     ]
    }
   ],
   "source": [
    "print(\"건물형태의 고유 값들:\")\n",
    "print(apart['건물형태'].unique())\n",
    "\n",
    "print(\"난방방식의 고유 값들:\")\n",
    "print(apart['난방방식'].unique())\n",
    "\n",
    "print(\"승강기설치여부의 고유 값들:\")\n",
    "print(apart['승강기설치여부'].unique())"
   ]
  },
  {
   "cell_type": "code",
   "execution_count": 64,
   "metadata": {},
   "outputs": [
    {
     "data": {
      "text/html": [
       "<div>\n",
       "<style scoped>\n",
       "    .dataframe tbody tr th:only-of-type {\n",
       "        vertical-align: middle;\n",
       "    }\n",
       "\n",
       "    .dataframe tbody tr th {\n",
       "        vertical-align: top;\n",
       "    }\n",
       "\n",
       "    .dataframe thead th {\n",
       "        text-align: right;\n",
       "    }\n",
       "</style>\n",
       "<table border=\"1\" class=\"dataframe\">\n",
       "  <thead>\n",
       "    <tr style=\"text-align: right;\">\n",
       "      <th></th>\n",
       "      <th>단지코드</th>\n",
       "      <th>단지명</th>\n",
       "      <th>총세대수</th>\n",
       "      <th>전용면적별세대수</th>\n",
       "      <th>지역</th>\n",
       "      <th>준공일자</th>\n",
       "      <th>건물형태</th>\n",
       "      <th>난방방식</th>\n",
       "      <th>승강기설치여부</th>\n",
       "      <th>단지내주차면수</th>\n",
       "      <th>전용면적</th>\n",
       "      <th>공용면적</th>\n",
       "      <th>임대보증금</th>\n",
       "      <th>임대료</th>\n",
       "      <th>실차량수</th>\n",
       "    </tr>\n",
       "  </thead>\n",
       "  <tbody>\n",
       "    <tr>\n",
       "      <th>0</th>\n",
       "      <td>C0001</td>\n",
       "      <td>엘에이치 서초4단지</td>\n",
       "      <td>78</td>\n",
       "      <td>35</td>\n",
       "      <td>서울</td>\n",
       "      <td>20131204</td>\n",
       "      <td>계단식</td>\n",
       "      <td>개별가스난방</td>\n",
       "      <td>전체동 설치</td>\n",
       "      <td>120</td>\n",
       "      <td>51.89</td>\n",
       "      <td>19.2603</td>\n",
       "      <td>50758000</td>\n",
       "      <td>620370</td>\n",
       "      <td>109</td>\n",
       "    </tr>\n",
       "    <tr>\n",
       "      <th>1</th>\n",
       "      <td>C0001</td>\n",
       "      <td>엘에이치 서초4단지</td>\n",
       "      <td>78</td>\n",
       "      <td>43</td>\n",
       "      <td>서울</td>\n",
       "      <td>20131204</td>\n",
       "      <td>계단식</td>\n",
       "      <td>개별가스난방</td>\n",
       "      <td>전체동 설치</td>\n",
       "      <td>120</td>\n",
       "      <td>59.93</td>\n",
       "      <td>22.2446</td>\n",
       "      <td>63166000</td>\n",
       "      <td>665490</td>\n",
       "      <td>109</td>\n",
       "    </tr>\n",
       "    <tr>\n",
       "      <th>2</th>\n",
       "      <td>C0002</td>\n",
       "      <td>LH삼성아파트</td>\n",
       "      <td>35</td>\n",
       "      <td>26</td>\n",
       "      <td>서울</td>\n",
       "      <td>20130801</td>\n",
       "      <td>복도식</td>\n",
       "      <td>개별가스난방</td>\n",
       "      <td>전체동 설치</td>\n",
       "      <td>47</td>\n",
       "      <td>27.75</td>\n",
       "      <td>16.5375</td>\n",
       "      <td>63062000</td>\n",
       "      <td>458640</td>\n",
       "      <td>35</td>\n",
       "    </tr>\n",
       "    <tr>\n",
       "      <th>3</th>\n",
       "      <td>C0002</td>\n",
       "      <td>LH삼성아파트</td>\n",
       "      <td>35</td>\n",
       "      <td>9</td>\n",
       "      <td>서울</td>\n",
       "      <td>20130801</td>\n",
       "      <td>복도식</td>\n",
       "      <td>개별가스난방</td>\n",
       "      <td>전체동 설치</td>\n",
       "      <td>47</td>\n",
       "      <td>29.08</td>\n",
       "      <td>17.3302</td>\n",
       "      <td>63062000</td>\n",
       "      <td>481560</td>\n",
       "      <td>35</td>\n",
       "    </tr>\n",
       "    <tr>\n",
       "      <th>4</th>\n",
       "      <td>C0003</td>\n",
       "      <td>강남LH8단지</td>\n",
       "      <td>88</td>\n",
       "      <td>7</td>\n",
       "      <td>서울</td>\n",
       "      <td>20131023</td>\n",
       "      <td>계단식</td>\n",
       "      <td>개별가스난방</td>\n",
       "      <td>전체동 설치</td>\n",
       "      <td>106</td>\n",
       "      <td>59.47</td>\n",
       "      <td>21.9462</td>\n",
       "      <td>72190000</td>\n",
       "      <td>586540</td>\n",
       "      <td>88</td>\n",
       "    </tr>\n",
       "  </tbody>\n",
       "</table>\n",
       "</div>"
      ],
      "text/plain": [
       "    단지코드         단지명  총세대수  전용면적별세대수  지역      준공일자 건물형태    난방방식 승강기설치여부  \\\n",
       "0  C0001  엘에이치 서초4단지    78        35  서울  20131204  계단식  개별가스난방  전체동 설치   \n",
       "1  C0001  엘에이치 서초4단지    78        43  서울  20131204  계단식  개별가스난방  전체동 설치   \n",
       "2  C0002     LH삼성아파트    35        26  서울  20130801  복도식  개별가스난방  전체동 설치   \n",
       "3  C0002     LH삼성아파트    35         9  서울  20130801  복도식  개별가스난방  전체동 설치   \n",
       "4  C0003     강남LH8단지    88         7  서울  20131023  계단식  개별가스난방  전체동 설치   \n",
       "\n",
       "   단지내주차면수   전용면적     공용면적     임대보증금     임대료  실차량수  \n",
       "0      120  51.89  19.2603  50758000  620370   109  \n",
       "1      120  59.93  22.2446  63166000  665490   109  \n",
       "2       47  27.75  16.5375  63062000  458640    35  \n",
       "3       47  29.08  17.3302  63062000  481560    35  \n",
       "4      106  59.47  21.9462  72190000  586540    88  "
      ]
     },
     "execution_count": 64,
     "metadata": {},
     "output_type": "execute_result"
    }
   ],
   "source": [
    "apart.head()"
   ]
  },
  {
   "cell_type": "markdown",
   "metadata": {
    "id": "bfXfHCsDL2NS"
   },
   "source": [
    "### (2) 변수 추가\n",
    "\n",
    "- '준공일자' 변수 값 앞 4 자리를 갖는 int 형 변수 '준공연도'를 추가합니다.\n",
    "- 총면적 = (전용면적 + 공용면적) * 전용면적별세대수 공식에 따른'총면적' 변수를 추가합니다."
   ]
  },
  {
   "cell_type": "code",
   "execution_count": 9,
   "metadata": {
    "id": "nX8-ZC5k3JQv"
   },
   "outputs": [],
   "source": [
    "apart['준공연도'] = apart['준공일자'].astype(str).str[:4].astype(int)\n",
    "apart['총면적'] = (apart['전용면적'] + apart['공용면적']) * apart['전용면적별세대수']"
   ]
  },
  {
   "cell_type": "code",
   "execution_count": 10,
   "metadata": {},
   "outputs": [
    {
     "data": {
      "text/html": [
       "<div>\n",
       "<style scoped>\n",
       "    .dataframe tbody tr th:only-of-type {\n",
       "        vertical-align: middle;\n",
       "    }\n",
       "\n",
       "    .dataframe tbody tr th {\n",
       "        vertical-align: top;\n",
       "    }\n",
       "\n",
       "    .dataframe thead th {\n",
       "        text-align: right;\n",
       "    }\n",
       "</style>\n",
       "<table border=\"1\" class=\"dataframe\">\n",
       "  <thead>\n",
       "    <tr style=\"text-align: right;\">\n",
       "      <th></th>\n",
       "      <th>단지코드</th>\n",
       "      <th>단지명</th>\n",
       "      <th>총세대수</th>\n",
       "      <th>전용면적별세대수</th>\n",
       "      <th>지역</th>\n",
       "      <th>준공일자</th>\n",
       "      <th>건물형태</th>\n",
       "      <th>난방방식</th>\n",
       "      <th>승강기설치여부</th>\n",
       "      <th>단지내주차면수</th>\n",
       "      <th>전용면적</th>\n",
       "      <th>공용면적</th>\n",
       "      <th>임대보증금</th>\n",
       "      <th>임대료</th>\n",
       "      <th>실차량수</th>\n",
       "      <th>준공연도</th>\n",
       "      <th>총면적</th>\n",
       "    </tr>\n",
       "  </thead>\n",
       "  <tbody>\n",
       "    <tr>\n",
       "      <th>0</th>\n",
       "      <td>C0001</td>\n",
       "      <td>엘에이치 서초4단지</td>\n",
       "      <td>78</td>\n",
       "      <td>35</td>\n",
       "      <td>서울</td>\n",
       "      <td>20131204</td>\n",
       "      <td>계단식</td>\n",
       "      <td>개별가스난방</td>\n",
       "      <td>전체동 설치</td>\n",
       "      <td>120</td>\n",
       "      <td>51.89</td>\n",
       "      <td>19.2603</td>\n",
       "      <td>50758000</td>\n",
       "      <td>620370</td>\n",
       "      <td>109</td>\n",
       "      <td>2013</td>\n",
       "      <td>2490.2605</td>\n",
       "    </tr>\n",
       "    <tr>\n",
       "      <th>1</th>\n",
       "      <td>C0001</td>\n",
       "      <td>엘에이치 서초4단지</td>\n",
       "      <td>78</td>\n",
       "      <td>43</td>\n",
       "      <td>서울</td>\n",
       "      <td>20131204</td>\n",
       "      <td>계단식</td>\n",
       "      <td>개별가스난방</td>\n",
       "      <td>전체동 설치</td>\n",
       "      <td>120</td>\n",
       "      <td>59.93</td>\n",
       "      <td>22.2446</td>\n",
       "      <td>63166000</td>\n",
       "      <td>665490</td>\n",
       "      <td>109</td>\n",
       "      <td>2013</td>\n",
       "      <td>3533.5078</td>\n",
       "    </tr>\n",
       "    <tr>\n",
       "      <th>2</th>\n",
       "      <td>C0002</td>\n",
       "      <td>LH삼성아파트</td>\n",
       "      <td>35</td>\n",
       "      <td>26</td>\n",
       "      <td>서울</td>\n",
       "      <td>20130801</td>\n",
       "      <td>복도식</td>\n",
       "      <td>개별가스난방</td>\n",
       "      <td>전체동 설치</td>\n",
       "      <td>47</td>\n",
       "      <td>27.75</td>\n",
       "      <td>16.5375</td>\n",
       "      <td>63062000</td>\n",
       "      <td>458640</td>\n",
       "      <td>35</td>\n",
       "      <td>2013</td>\n",
       "      <td>1151.4750</td>\n",
       "    </tr>\n",
       "    <tr>\n",
       "      <th>3</th>\n",
       "      <td>C0002</td>\n",
       "      <td>LH삼성아파트</td>\n",
       "      <td>35</td>\n",
       "      <td>9</td>\n",
       "      <td>서울</td>\n",
       "      <td>20130801</td>\n",
       "      <td>복도식</td>\n",
       "      <td>개별가스난방</td>\n",
       "      <td>전체동 설치</td>\n",
       "      <td>47</td>\n",
       "      <td>29.08</td>\n",
       "      <td>17.3302</td>\n",
       "      <td>63062000</td>\n",
       "      <td>481560</td>\n",
       "      <td>35</td>\n",
       "      <td>2013</td>\n",
       "      <td>417.6918</td>\n",
       "    </tr>\n",
       "    <tr>\n",
       "      <th>4</th>\n",
       "      <td>C0003</td>\n",
       "      <td>강남LH8단지</td>\n",
       "      <td>88</td>\n",
       "      <td>7</td>\n",
       "      <td>서울</td>\n",
       "      <td>20131023</td>\n",
       "      <td>계단식</td>\n",
       "      <td>개별가스난방</td>\n",
       "      <td>전체동 설치</td>\n",
       "      <td>106</td>\n",
       "      <td>59.47</td>\n",
       "      <td>21.9462</td>\n",
       "      <td>72190000</td>\n",
       "      <td>586540</td>\n",
       "      <td>88</td>\n",
       "      <td>2013</td>\n",
       "      <td>569.9134</td>\n",
       "    </tr>\n",
       "  </tbody>\n",
       "</table>\n",
       "</div>"
      ],
      "text/plain": [
       "    단지코드         단지명  총세대수  전용면적별세대수  지역      준공일자 건물형태    난방방식 승강기설치여부  \\\n",
       "0  C0001  엘에이치 서초4단지    78        35  서울  20131204  계단식  개별가스난방  전체동 설치   \n",
       "1  C0001  엘에이치 서초4단지    78        43  서울  20131204  계단식  개별가스난방  전체동 설치   \n",
       "2  C0002     LH삼성아파트    35        26  서울  20130801  복도식  개별가스난방  전체동 설치   \n",
       "3  C0002     LH삼성아파트    35         9  서울  20130801  복도식  개별가스난방  전체동 설치   \n",
       "4  C0003     강남LH8단지    88         7  서울  20131023  계단식  개별가스난방  전체동 설치   \n",
       "\n",
       "   단지내주차면수   전용면적     공용면적     임대보증금     임대료  실차량수  준공연도        총면적  \n",
       "0      120  51.89  19.2603  50758000  620370   109  2013  2490.2605  \n",
       "1      120  59.93  22.2446  63166000  665490   109  2013  3533.5078  \n",
       "2       47  27.75  16.5375  63062000  458640    35  2013  1151.4750  \n",
       "3       47  29.08  17.3302  63062000  481560    35  2013   417.6918  \n",
       "4      106  59.47  21.9462  72190000  586540    88  2013   569.9134  "
      ]
     },
     "execution_count": 10,
     "metadata": {},
     "output_type": "execute_result"
    }
   ],
   "source": [
    "apart.head()"
   ]
  },
  {
   "cell_type": "markdown",
   "metadata": {
    "id": "YYkmS8hZvG-T"
   },
   "source": [
    "### (3) 불필요한 변수 제거\n",
    "\n",
    "- '단지명' 변수는 단일값을 가지므로 제거합니다.\n",
    "- '단지내주차면수' 변숫값을 기반으로 등록 차량수를 예측하는 것은 의미가 없으니, '단지내주차면수' 변수를 제거합니다.\n",
    "- '준공연도' 변수를 추가했으니 '준공일자' 변수를 제거합니다."
   ]
  },
  {
   "cell_type": "code",
   "execution_count": 11,
   "metadata": {
    "id": "9M9lBu6TvG-U"
   },
   "outputs": [
    {
     "data": {
      "text/html": [
       "<div>\n",
       "<style scoped>\n",
       "    .dataframe tbody tr th:only-of-type {\n",
       "        vertical-align: middle;\n",
       "    }\n",
       "\n",
       "    .dataframe tbody tr th {\n",
       "        vertical-align: top;\n",
       "    }\n",
       "\n",
       "    .dataframe thead th {\n",
       "        text-align: right;\n",
       "    }\n",
       "</style>\n",
       "<table border=\"1\" class=\"dataframe\">\n",
       "  <thead>\n",
       "    <tr style=\"text-align: right;\">\n",
       "      <th></th>\n",
       "      <th>단지코드</th>\n",
       "      <th>단지명</th>\n",
       "      <th>총세대수</th>\n",
       "      <th>전용면적별세대수</th>\n",
       "      <th>지역</th>\n",
       "      <th>건물형태</th>\n",
       "      <th>난방방식</th>\n",
       "      <th>승강기설치여부</th>\n",
       "      <th>단지내주차면수</th>\n",
       "      <th>전용면적</th>\n",
       "      <th>공용면적</th>\n",
       "      <th>임대보증금</th>\n",
       "      <th>임대료</th>\n",
       "      <th>실차량수</th>\n",
       "      <th>준공연도</th>\n",
       "      <th>총면적</th>\n",
       "    </tr>\n",
       "  </thead>\n",
       "  <tbody>\n",
       "    <tr>\n",
       "      <th>0</th>\n",
       "      <td>C0001</td>\n",
       "      <td>엘에이치 서초4단지</td>\n",
       "      <td>78</td>\n",
       "      <td>35</td>\n",
       "      <td>서울</td>\n",
       "      <td>계단식</td>\n",
       "      <td>개별가스난방</td>\n",
       "      <td>전체동 설치</td>\n",
       "      <td>120</td>\n",
       "      <td>51.89</td>\n",
       "      <td>19.2603</td>\n",
       "      <td>50758000</td>\n",
       "      <td>620370</td>\n",
       "      <td>109</td>\n",
       "      <td>2013</td>\n",
       "      <td>2490.2605</td>\n",
       "    </tr>\n",
       "    <tr>\n",
       "      <th>1</th>\n",
       "      <td>C0001</td>\n",
       "      <td>엘에이치 서초4단지</td>\n",
       "      <td>78</td>\n",
       "      <td>43</td>\n",
       "      <td>서울</td>\n",
       "      <td>계단식</td>\n",
       "      <td>개별가스난방</td>\n",
       "      <td>전체동 설치</td>\n",
       "      <td>120</td>\n",
       "      <td>59.93</td>\n",
       "      <td>22.2446</td>\n",
       "      <td>63166000</td>\n",
       "      <td>665490</td>\n",
       "      <td>109</td>\n",
       "      <td>2013</td>\n",
       "      <td>3533.5078</td>\n",
       "    </tr>\n",
       "    <tr>\n",
       "      <th>2</th>\n",
       "      <td>C0002</td>\n",
       "      <td>LH삼성아파트</td>\n",
       "      <td>35</td>\n",
       "      <td>26</td>\n",
       "      <td>서울</td>\n",
       "      <td>복도식</td>\n",
       "      <td>개별가스난방</td>\n",
       "      <td>전체동 설치</td>\n",
       "      <td>47</td>\n",
       "      <td>27.75</td>\n",
       "      <td>16.5375</td>\n",
       "      <td>63062000</td>\n",
       "      <td>458640</td>\n",
       "      <td>35</td>\n",
       "      <td>2013</td>\n",
       "      <td>1151.4750</td>\n",
       "    </tr>\n",
       "    <tr>\n",
       "      <th>3</th>\n",
       "      <td>C0002</td>\n",
       "      <td>LH삼성아파트</td>\n",
       "      <td>35</td>\n",
       "      <td>9</td>\n",
       "      <td>서울</td>\n",
       "      <td>복도식</td>\n",
       "      <td>개별가스난방</td>\n",
       "      <td>전체동 설치</td>\n",
       "      <td>47</td>\n",
       "      <td>29.08</td>\n",
       "      <td>17.3302</td>\n",
       "      <td>63062000</td>\n",
       "      <td>481560</td>\n",
       "      <td>35</td>\n",
       "      <td>2013</td>\n",
       "      <td>417.6918</td>\n",
       "    </tr>\n",
       "    <tr>\n",
       "      <th>4</th>\n",
       "      <td>C0003</td>\n",
       "      <td>강남LH8단지</td>\n",
       "      <td>88</td>\n",
       "      <td>7</td>\n",
       "      <td>서울</td>\n",
       "      <td>계단식</td>\n",
       "      <td>개별가스난방</td>\n",
       "      <td>전체동 설치</td>\n",
       "      <td>106</td>\n",
       "      <td>59.47</td>\n",
       "      <td>21.9462</td>\n",
       "      <td>72190000</td>\n",
       "      <td>586540</td>\n",
       "      <td>88</td>\n",
       "      <td>2013</td>\n",
       "      <td>569.9134</td>\n",
       "    </tr>\n",
       "  </tbody>\n",
       "</table>\n",
       "</div>"
      ],
      "text/plain": [
       "    단지코드         단지명  총세대수  전용면적별세대수  지역 건물형태    난방방식 승강기설치여부  단지내주차면수   전용면적  \\\n",
       "0  C0001  엘에이치 서초4단지    78        35  서울  계단식  개별가스난방  전체동 설치      120  51.89   \n",
       "1  C0001  엘에이치 서초4단지    78        43  서울  계단식  개별가스난방  전체동 설치      120  59.93   \n",
       "2  C0002     LH삼성아파트    35        26  서울  복도식  개별가스난방  전체동 설치       47  27.75   \n",
       "3  C0002     LH삼성아파트    35         9  서울  복도식  개별가스난방  전체동 설치       47  29.08   \n",
       "4  C0003     강남LH8단지    88         7  서울  계단식  개별가스난방  전체동 설치      106  59.47   \n",
       "\n",
       "      공용면적     임대보증금     임대료  실차량수  준공연도        총면적  \n",
       "0  19.2603  50758000  620370   109  2013  2490.2605  \n",
       "1  22.2446  63166000  665490   109  2013  3533.5078  \n",
       "2  16.5375  63062000  458640    35  2013  1151.4750  \n",
       "3  17.3302  63062000  481560    35  2013   417.6918  \n",
       "4  21.9462  72190000  586540    88  2013   569.9134  "
      ]
     },
     "execution_count": 11,
     "metadata": {},
     "output_type": "execute_result"
    }
   ],
   "source": [
    "apart.drop(columns = '준공일자', inplace=True)\n",
    "apart.head()"
   ]
  },
  {
   "cell_type": "markdown",
   "metadata": {
    "id": "lzvfiO7kvG-U"
   },
   "source": [
    "## 3. 데이터 전처리 ②\n",
    "\n",
    "- 단지별 데이터와 상세 데이터로 분리합니다.\n",
    "- 상세 데이터를 3가지 형태로 집계합니다.\n",
    "- 단지별 데이터와 상세 데이터 집계 결과를 조인(Merge) 합니다."
   ]
  },
  {
   "cell_type": "markdown",
   "metadata": {
    "id": "sRbzjQyevG-V"
   },
   "source": [
    "### (1) 데이터 분리\n",
    "\n",
    "- 단지별 데이터를 갖는 data01 데이터프레임을 선언합니다.\n",
    "- 상세 데이터를 갖는 data02 데이터프레임을 선언합니다."
   ]
  },
  {
   "cell_type": "markdown",
   "metadata": {
    "id": "IJ8edb40L-7C"
   },
   "source": [
    "#### 1) 단지별 데이터 분리\n",
    "\n",
    "- 다음 열을 갖는 data01 데이터프레임으로 선언합니다.\n",
    "    - '단지코드', '총세대수', '지역', '준공연도', '건물형태', '난방방식', '승강기설치여부', '실차량수'\n",
    "- data01 데이터프레임의 중복행을 제거합니다.\n",
    "- 인덱스를 초기화 합니다. (단, 기존 인덱스 제거)\n",
    "- 중복행 제거 여부를 필히 확인합니다."
   ]
  },
  {
   "cell_type": "code",
   "execution_count": 12,
   "metadata": {
    "id": "u6VNeJjfvG-V"
   },
   "outputs": [
    {
     "data": {
      "text/plain": [
       "812"
      ]
     },
     "execution_count": 12,
     "metadata": {},
     "output_type": "execute_result"
    }
   ],
   "source": [
    "data01 = apart[['단지코드', '총세대수', '지역', '준공연도', '건물형태', '난방방식', '승강기설치여부', '실차량수']]\n",
    "data01.duplicated().sum()\n"
   ]
  },
  {
   "cell_type": "code",
   "execution_count": 13,
   "metadata": {},
   "outputs": [],
   "source": [
    "data01.drop_duplicates(inplace=True)\n",
    "\n",
    "data01.reset_index(drop=True, inplace=True)"
   ]
  },
  {
   "cell_type": "code",
   "execution_count": 14,
   "metadata": {},
   "outputs": [
    {
     "data": {
      "text/plain": [
       "0"
      ]
     },
     "execution_count": 14,
     "metadata": {},
     "output_type": "execute_result"
    }
   ],
   "source": [
    "data01.duplicated().sum()\n"
   ]
  },
  {
   "cell_type": "markdown",
   "metadata": {
    "id": "58dBzVONvG-X"
   },
   "source": [
    "#### 2) 상세 데이터 분리\n",
    "    \n",
    "- 다음 열을 갖는 data02 데이터프레임으로 선언합니다.\n",
    "    - '단지코드', '총면적', '전용면적별세대수', '전용면적', '공용면적', '임대보증금', '임대료'"
   ]
  },
  {
   "cell_type": "code",
   "execution_count": 15,
   "metadata": {
    "id": "Ugp8UiSdvG-X"
   },
   "outputs": [],
   "source": [
    "data02 = apart[['단지코드', '총면적', '전용면적별세대수', '전용면적', '공용면적', '임대보증금', '임대료']]"
   ]
  },
  {
   "cell_type": "markdown",
   "metadata": {
    "id": "EwiNeoG0vG-X"
   },
   "source": [
    "### (2) 상세 데이터 집계\n",
    "\n",
    "- 앞에서 선언한 data02 데이터프레임을 대상으로 다음 3가지 형태로 집계합니다.\n",
    "    - 단지코드별 총면적 합을 집계합니다.\n",
    "    - 전용면적을 의미있는 구간으로 나누어 피벗 형태로 집계합니다.\n",
    "    - 단지코드별 임대보증금, 임대료 평균을 집계합니다"
   ]
  },
  {
   "cell_type": "markdown",
   "metadata": {
    "id": "PG1oAMsxvG-a"
   },
   "source": [
    "#### 1) 단지코드별 총면적 합 집계\n",
    "\n",
    "- 단지코드별 총면적 합을 집계합니다.\n",
    "- 집계한 결과를 df_area 데이터프레임으로 선언합니다."
   ]
  },
  {
   "cell_type": "code",
   "execution_count": 16,
   "metadata": {
    "id": "e_FHC-_BvG-a"
   },
   "outputs": [],
   "source": [
    "df_area = data02.groupby('단지코드')['총면적'].sum().reset_index()"
   ]
  },
  {
   "cell_type": "code",
   "execution_count": 17,
   "metadata": {},
   "outputs": [
    {
     "data": {
      "text/html": [
       "<div>\n",
       "<style scoped>\n",
       "    .dataframe tbody tr th:only-of-type {\n",
       "        vertical-align: middle;\n",
       "    }\n",
       "\n",
       "    .dataframe tbody tr th {\n",
       "        vertical-align: top;\n",
       "    }\n",
       "\n",
       "    .dataframe thead th {\n",
       "        text-align: right;\n",
       "    }\n",
       "</style>\n",
       "<table border=\"1\" class=\"dataframe\">\n",
       "  <thead>\n",
       "    <tr style=\"text-align: right;\">\n",
       "      <th></th>\n",
       "      <th>단지코드</th>\n",
       "      <th>총면적</th>\n",
       "    </tr>\n",
       "  </thead>\n",
       "  <tbody>\n",
       "    <tr>\n",
       "      <th>0</th>\n",
       "      <td>C0001</td>\n",
       "      <td>6023.7683</td>\n",
       "    </tr>\n",
       "    <tr>\n",
       "      <th>1</th>\n",
       "      <td>C0002</td>\n",
       "      <td>1569.1668</td>\n",
       "    </tr>\n",
       "    <tr>\n",
       "      <th>2</th>\n",
       "      <td>C0003</td>\n",
       "      <td>7180.1396</td>\n",
       "    </tr>\n",
       "    <tr>\n",
       "      <th>3</th>\n",
       "      <td>C0004</td>\n",
       "      <td>47058.9273</td>\n",
       "    </tr>\n",
       "    <tr>\n",
       "      <th>4</th>\n",
       "      <td>C0006</td>\n",
       "      <td>543.0268</td>\n",
       "    </tr>\n",
       "  </tbody>\n",
       "</table>\n",
       "</div>"
      ],
      "text/plain": [
       "    단지코드         총면적\n",
       "0  C0001   6023.7683\n",
       "1  C0002   1569.1668\n",
       "2  C0003   7180.1396\n",
       "3  C0004  47058.9273\n",
       "4  C0006    543.0268"
      ]
     },
     "execution_count": 17,
     "metadata": {},
     "output_type": "execute_result"
    }
   ],
   "source": [
    "df_area.head()"
   ]
  },
  {
   "cell_type": "markdown",
   "metadata": {
    "id": "79Z7k93MvG-X"
   },
   "source": [
    "#### 2) 전용면적 구간별 집계 (피벗 형태)\n",
    "\n",
    "- data02 데이터프레임에 전용면적을 몇몇 구간으로 나눈 범줏값을 갖는 변수를 추가합니다.\n",
    "- 구간을 어떻게 나눌 지 충분히 고민해 봅니다.\n",
    "    - 구간 예: 10-30, 30-40, 40-50, 50-60, 60-70, 70-80, 80-200 \n",
    "- 추가할 변수 이름은 '전용면적구간'으로 합니다.\n",
    "- 참고: pd.cut() 함수를 활용합니다."
   ]
  },
  {
   "cell_type": "code",
   "execution_count": 18,
   "metadata": {},
   "outputs": [],
   "source": [
    "import pandas as pd\n",
    "from sklearn.cluster import KMeans\n",
    "import numpy as np\n",
    "import matplotlib.pyplot as plt\n",
    "import seaborn as sns"
   ]
  },
  {
   "cell_type": "code",
   "execution_count": 19,
   "metadata": {},
   "outputs": [],
   "source": [
    "area_data = data02[['전용면적']].values\n",
    "\n",
    "k = 8\n",
    "kmeans = KMeans(n_clusters=k, random_state=42)\n",
    "data02['군집'] = kmeans.fit_predict(area_data)\n",
    "\n",
    "cluster_centers = np.sort(kmeans.cluster_centers_.flatten())\n",
    "\n",
    "epsilon = 0.01\n",
    "bins = np.insert(cluster_centers, 0, data02['전용면적'].min()-epsilon)\n",
    "bins = np.append(bins, data02['전용면적'].max() + epsilon)\n",
    "\n",
    "new_labels = [f'면적{int(bins[i])}_{int(bins[i+1])}' for i in range(len(bins)-1)]\n",
    "\n",
    "data02['전용면적구간'] = pd.cut(data02['전용면적'], bins=bins, labels=new_labels, include_lowest=True, right=True)"
   ]
  },
  {
   "cell_type": "code",
   "execution_count": 20,
   "metadata": {},
   "outputs": [
    {
     "data": {
      "text/html": [
       "<div>\n",
       "<style scoped>\n",
       "    .dataframe tbody tr th:only-of-type {\n",
       "        vertical-align: middle;\n",
       "    }\n",
       "\n",
       "    .dataframe tbody tr th {\n",
       "        vertical-align: top;\n",
       "    }\n",
       "\n",
       "    .dataframe thead th {\n",
       "        text-align: right;\n",
       "    }\n",
       "</style>\n",
       "<table border=\"1\" class=\"dataframe\">\n",
       "  <thead>\n",
       "    <tr style=\"text-align: right;\">\n",
       "      <th></th>\n",
       "      <th>단지코드</th>\n",
       "      <th>총면적</th>\n",
       "      <th>전용면적별세대수</th>\n",
       "      <th>전용면적</th>\n",
       "      <th>공용면적</th>\n",
       "      <th>임대보증금</th>\n",
       "      <th>임대료</th>\n",
       "      <th>군집</th>\n",
       "      <th>전용면적구간</th>\n",
       "    </tr>\n",
       "  </thead>\n",
       "  <tbody>\n",
       "    <tr>\n",
       "      <th>0</th>\n",
       "      <td>C0001</td>\n",
       "      <td>2490.2605</td>\n",
       "      <td>35</td>\n",
       "      <td>51.89</td>\n",
       "      <td>19.2603</td>\n",
       "      <td>50758000</td>\n",
       "      <td>620370</td>\n",
       "      <td>7</td>\n",
       "      <td>면적51_59</td>\n",
       "    </tr>\n",
       "    <tr>\n",
       "      <th>1</th>\n",
       "      <td>C0001</td>\n",
       "      <td>3533.5078</td>\n",
       "      <td>43</td>\n",
       "      <td>59.93</td>\n",
       "      <td>22.2446</td>\n",
       "      <td>63166000</td>\n",
       "      <td>665490</td>\n",
       "      <td>3</td>\n",
       "      <td>면적59_74</td>\n",
       "    </tr>\n",
       "    <tr>\n",
       "      <th>2</th>\n",
       "      <td>C0002</td>\n",
       "      <td>1151.4750</td>\n",
       "      <td>26</td>\n",
       "      <td>27.75</td>\n",
       "      <td>16.5375</td>\n",
       "      <td>63062000</td>\n",
       "      <td>458640</td>\n",
       "      <td>5</td>\n",
       "      <td>면적26_38</td>\n",
       "    </tr>\n",
       "    <tr>\n",
       "      <th>3</th>\n",
       "      <td>C0002</td>\n",
       "      <td>417.6918</td>\n",
       "      <td>9</td>\n",
       "      <td>29.08</td>\n",
       "      <td>17.3302</td>\n",
       "      <td>63062000</td>\n",
       "      <td>481560</td>\n",
       "      <td>5</td>\n",
       "      <td>면적26_38</td>\n",
       "    </tr>\n",
       "    <tr>\n",
       "      <th>4</th>\n",
       "      <td>C0003</td>\n",
       "      <td>569.9134</td>\n",
       "      <td>7</td>\n",
       "      <td>59.47</td>\n",
       "      <td>21.9462</td>\n",
       "      <td>72190000</td>\n",
       "      <td>586540</td>\n",
       "      <td>3</td>\n",
       "      <td>면적51_59</td>\n",
       "    </tr>\n",
       "  </tbody>\n",
       "</table>\n",
       "</div>"
      ],
      "text/plain": [
       "    단지코드        총면적  전용면적별세대수   전용면적     공용면적     임대보증금     임대료  군집   전용면적구간\n",
       "0  C0001  2490.2605        35  51.89  19.2603  50758000  620370   7  면적51_59\n",
       "1  C0001  3533.5078        43  59.93  22.2446  63166000  665490   3  면적59_74\n",
       "2  C0002  1151.4750        26  27.75  16.5375  63062000  458640   5  면적26_38\n",
       "3  C0002   417.6918         9  29.08  17.3302  63062000  481560   5  면적26_38\n",
       "4  C0003   569.9134         7  59.47  21.9462  72190000  586540   3  면적51_59"
      ]
     },
     "execution_count": 20,
     "metadata": {},
     "output_type": "execute_result"
    }
   ],
   "source": [
    "data02.head()"
   ]
  },
  {
   "cell_type": "code",
   "execution_count": null,
   "metadata": {},
   "outputs": [],
   "source": []
  },
  {
   "cell_type": "code",
   "execution_count": 21,
   "metadata": {},
   "outputs": [
    {
     "name": "stdout",
     "output_type": "stream",
     "text": [
      "count    1157.000000\n",
      "mean       51.565584\n",
      "std        18.243315\n",
      "min        17.590000\n",
      "25%        39.480000\n",
      "50%        46.900000\n",
      "75%        59.810000\n",
      "max       139.350000\n",
      "Name: 전용면적, dtype: float64\n"
     ]
    },
    {
     "data": {
      "image/png": "[encoded data removed]",
      "text/plain": [
       "<Figure size 1000x600 with 1 Axes>"
      ]
     },
     "metadata": {
      "image/png": {
       "height": 544,
       "width": 848
      }
     },
     "output_type": "display_data"
    }
   ],
   "source": [
    "print(data02['전용면적'].describe())\n",
    "plt.figure(figsize=(10, 6))\n",
    "sns.histplot(data02['전용면적'], bins=100, kde=True, color='skyblue')\n",
    "plt.title('전용면적 분포')\n",
    "plt.xlabel('전용면적')\n",
    "plt.ylabel('Frequency')\n",
    "plt.grid(True)\n",
    "plt.show()"
   ]
  },
  {
   "cell_type": "code",
   "execution_count": 254,
   "metadata": {},
   "outputs": [
    {
     "data": {
      "image/png": "[encoded data removed]",
      "text/plain": [
       "<Figure size 1000x600 with 1 Axes>"
      ]
     },
     "metadata": {
      "image/png": {
       "height": 544,
       "width": 857
      }
     },
     "output_type": "display_data"
    }
   ],
   "source": [
    "plt.figure(figsize=(10, 6))\n",
    "plt.scatter(x=data02['전용면적'], y=data02.index, color='skyblue', edgecolor='black', s=100)\n",
    "plt.title('Scatter Plot of 전용면적')\n",
    "plt.xlabel('Index')\n",
    "plt.ylabel('전용면적')\n",
    "plt.grid(True)\n",
    "plt.show()"
   ]
  },
  {
   "cell_type": "markdown",
   "metadata": {},
   "source": [
    "위 분석을 참고하여 구간은 10_30, 30_40, 40_50, 50_60, 60_70, 70_80, 80_90, 90_140으로 지정"
   ]
  },
  {
   "cell_type": "code",
   "execution_count": 82,
   "metadata": {
    "id": "S-tjZWy7vG-Y"
   },
   "outputs": [],
   "source": [
    "bins = [10, 30, 40, 50, 60, 70, 80, 90, 140]\n",
    "labels = ['면적10_30', '면적30_40', '면적40_50', '면적50_60', '면적60_70', '면적70_80', '면적80_90', '면적90_140']\n",
    "\n",
    "data02['전용면적구간'] = pd.cut(data02['전용면적'], bins=bins, labels=labels, right=False)"
   ]
  },
  {
   "cell_type": "code",
   "execution_count": 84,
   "metadata": {},
   "outputs": [
    {
     "data": {
      "text/html": [
       "<div>\n",
       "<style scoped>\n",
       "    .dataframe tbody tr th:only-of-type {\n",
       "        vertical-align: middle;\n",
       "    }\n",
       "\n",
       "    .dataframe tbody tr th {\n",
       "        vertical-align: top;\n",
       "    }\n",
       "\n",
       "    .dataframe thead th {\n",
       "        text-align: right;\n",
       "    }\n",
       "</style>\n",
       "<table border=\"1\" class=\"dataframe\">\n",
       "  <thead>\n",
       "    <tr style=\"text-align: right;\">\n",
       "      <th></th>\n",
       "      <th>단지코드</th>\n",
       "      <th>총면적</th>\n",
       "      <th>전용면적별세대수</th>\n",
       "      <th>전용면적</th>\n",
       "      <th>공용면적</th>\n",
       "      <th>임대보증금</th>\n",
       "      <th>임대료</th>\n",
       "      <th>전용면적구간</th>\n",
       "    </tr>\n",
       "  </thead>\n",
       "  <tbody>\n",
       "    <tr>\n",
       "      <th>0</th>\n",
       "      <td>C0001</td>\n",
       "      <td>2490.2605</td>\n",
       "      <td>35</td>\n",
       "      <td>51.89</td>\n",
       "      <td>19.2603</td>\n",
       "      <td>50758000</td>\n",
       "      <td>620370</td>\n",
       "      <td>면적50_60</td>\n",
       "    </tr>\n",
       "    <tr>\n",
       "      <th>1</th>\n",
       "      <td>C0001</td>\n",
       "      <td>3533.5078</td>\n",
       "      <td>43</td>\n",
       "      <td>59.93</td>\n",
       "      <td>22.2446</td>\n",
       "      <td>63166000</td>\n",
       "      <td>665490</td>\n",
       "      <td>면적50_60</td>\n",
       "    </tr>\n",
       "    <tr>\n",
       "      <th>2</th>\n",
       "      <td>C0002</td>\n",
       "      <td>1151.4750</td>\n",
       "      <td>26</td>\n",
       "      <td>27.75</td>\n",
       "      <td>16.5375</td>\n",
       "      <td>63062000</td>\n",
       "      <td>458640</td>\n",
       "      <td>면적10_30</td>\n",
       "    </tr>\n",
       "    <tr>\n",
       "      <th>3</th>\n",
       "      <td>C0002</td>\n",
       "      <td>417.6918</td>\n",
       "      <td>9</td>\n",
       "      <td>29.08</td>\n",
       "      <td>17.3302</td>\n",
       "      <td>63062000</td>\n",
       "      <td>481560</td>\n",
       "      <td>면적10_30</td>\n",
       "    </tr>\n",
       "    <tr>\n",
       "      <th>4</th>\n",
       "      <td>C0003</td>\n",
       "      <td>569.9134</td>\n",
       "      <td>7</td>\n",
       "      <td>59.47</td>\n",
       "      <td>21.9462</td>\n",
       "      <td>72190000</td>\n",
       "      <td>586540</td>\n",
       "      <td>면적50_60</td>\n",
       "    </tr>\n",
       "  </tbody>\n",
       "</table>\n",
       "</div>"
      ],
      "text/plain": [
       "    단지코드        총면적  전용면적별세대수   전용면적     공용면적     임대보증금     임대료   전용면적구간\n",
       "0  C0001  2490.2605        35  51.89  19.2603  50758000  620370  면적50_60\n",
       "1  C0001  3533.5078        43  59.93  22.2446  63166000  665490  면적50_60\n",
       "2  C0002  1151.4750        26  27.75  16.5375  63062000  458640  면적10_30\n",
       "3  C0002   417.6918         9  29.08  17.3302  63062000  481560  면적10_30\n",
       "4  C0003   569.9134         7  59.47  21.9462  72190000  586540  면적50_60"
      ]
     },
     "execution_count": 84,
     "metadata": {},
     "output_type": "execute_result"
    }
   ],
   "source": [
    "data02.head()"
   ]
  },
  {
   "cell_type": "markdown",
   "metadata": {
    "id": "8ZGTkxaKvG-Y"
   },
   "source": [
    "- 단지코드, 전용면적구간별 전용면적별세대수 합을 집계합니다.\n",
    "- 집계 결과를 temp 데이터프레임으로 선언합니다."
   ]
  },
  {
   "cell_type": "code",
   "execution_count": 22,
   "metadata": {
    "id": "CqTaBueeL2NV"
   },
   "outputs": [],
   "source": [
    "temp = data02.groupby(['단지코드', '전용면적구간'])['전용면적별세대수'].sum().reset_index()"
   ]
  },
  {
   "cell_type": "code",
   "execution_count": 23,
   "metadata": {},
   "outputs": [
    {
     "data": {
      "text/html": [
       "<div>\n",
       "<style scoped>\n",
       "    .dataframe tbody tr th:only-of-type {\n",
       "        vertical-align: middle;\n",
       "    }\n",
       "\n",
       "    .dataframe tbody tr th {\n",
       "        vertical-align: top;\n",
       "    }\n",
       "\n",
       "    .dataframe thead th {\n",
       "        text-align: right;\n",
       "    }\n",
       "</style>\n",
       "<table border=\"1\" class=\"dataframe\">\n",
       "  <thead>\n",
       "    <tr style=\"text-align: right;\">\n",
       "      <th></th>\n",
       "      <th>단지코드</th>\n",
       "      <th>전용면적구간</th>\n",
       "      <th>전용면적별세대수</th>\n",
       "    </tr>\n",
       "  </thead>\n",
       "  <tbody>\n",
       "    <tr>\n",
       "      <th>0</th>\n",
       "      <td>C0001</td>\n",
       "      <td>면적17_26</td>\n",
       "      <td>0</td>\n",
       "    </tr>\n",
       "    <tr>\n",
       "      <th>1</th>\n",
       "      <td>C0001</td>\n",
       "      <td>면적26_38</td>\n",
       "      <td>0</td>\n",
       "    </tr>\n",
       "    <tr>\n",
       "      <th>2</th>\n",
       "      <td>C0001</td>\n",
       "      <td>면적38_46</td>\n",
       "      <td>0</td>\n",
       "    </tr>\n",
       "    <tr>\n",
       "      <th>3</th>\n",
       "      <td>C0001</td>\n",
       "      <td>면적46_51</td>\n",
       "      <td>0</td>\n",
       "    </tr>\n",
       "    <tr>\n",
       "      <th>4</th>\n",
       "      <td>C0001</td>\n",
       "      <td>면적51_59</td>\n",
       "      <td>35</td>\n",
       "    </tr>\n",
       "    <tr>\n",
       "      <th>5</th>\n",
       "      <td>C0001</td>\n",
       "      <td>면적59_74</td>\n",
       "      <td>43</td>\n",
       "    </tr>\n",
       "    <tr>\n",
       "      <th>6</th>\n",
       "      <td>C0001</td>\n",
       "      <td>면적74_85</td>\n",
       "      <td>0</td>\n",
       "    </tr>\n",
       "    <tr>\n",
       "      <th>7</th>\n",
       "      <td>C0001</td>\n",
       "      <td>면적85_127</td>\n",
       "      <td>0</td>\n",
       "    </tr>\n",
       "    <tr>\n",
       "      <th>8</th>\n",
       "      <td>C0001</td>\n",
       "      <td>면적127_139</td>\n",
       "      <td>0</td>\n",
       "    </tr>\n",
       "    <tr>\n",
       "      <th>9</th>\n",
       "      <td>C0002</td>\n",
       "      <td>면적17_26</td>\n",
       "      <td>0</td>\n",
       "    </tr>\n",
       "    <tr>\n",
       "      <th>10</th>\n",
       "      <td>C0002</td>\n",
       "      <td>면적26_38</td>\n",
       "      <td>35</td>\n",
       "    </tr>\n",
       "    <tr>\n",
       "      <th>11</th>\n",
       "      <td>C0002</td>\n",
       "      <td>면적38_46</td>\n",
       "      <td>0</td>\n",
       "    </tr>\n",
       "    <tr>\n",
       "      <th>12</th>\n",
       "      <td>C0002</td>\n",
       "      <td>면적46_51</td>\n",
       "      <td>0</td>\n",
       "    </tr>\n",
       "    <tr>\n",
       "      <th>13</th>\n",
       "      <td>C0002</td>\n",
       "      <td>면적51_59</td>\n",
       "      <td>0</td>\n",
       "    </tr>\n",
       "    <tr>\n",
       "      <th>14</th>\n",
       "      <td>C0002</td>\n",
       "      <td>면적59_74</td>\n",
       "      <td>0</td>\n",
       "    </tr>\n",
       "    <tr>\n",
       "      <th>15</th>\n",
       "      <td>C0002</td>\n",
       "      <td>면적74_85</td>\n",
       "      <td>0</td>\n",
       "    </tr>\n",
       "    <tr>\n",
       "      <th>16</th>\n",
       "      <td>C0002</td>\n",
       "      <td>면적85_127</td>\n",
       "      <td>0</td>\n",
       "    </tr>\n",
       "    <tr>\n",
       "      <th>17</th>\n",
       "      <td>C0002</td>\n",
       "      <td>면적127_139</td>\n",
       "      <td>0</td>\n",
       "    </tr>\n",
       "    <tr>\n",
       "      <th>18</th>\n",
       "      <td>C0003</td>\n",
       "      <td>면적17_26</td>\n",
       "      <td>0</td>\n",
       "    </tr>\n",
       "    <tr>\n",
       "      <th>19</th>\n",
       "      <td>C0003</td>\n",
       "      <td>면적26_38</td>\n",
       "      <td>0</td>\n",
       "    </tr>\n",
       "  </tbody>\n",
       "</table>\n",
       "</div>"
      ],
      "text/plain": [
       "     단지코드     전용면적구간  전용면적별세대수\n",
       "0   C0001    면적17_26         0\n",
       "1   C0001    면적26_38         0\n",
       "2   C0001    면적38_46         0\n",
       "3   C0001    면적46_51         0\n",
       "4   C0001    면적51_59        35\n",
       "5   C0001    면적59_74        43\n",
       "6   C0001    면적74_85         0\n",
       "7   C0001   면적85_127         0\n",
       "8   C0001  면적127_139         0\n",
       "9   C0002    면적17_26         0\n",
       "10  C0002    면적26_38        35\n",
       "11  C0002    면적38_46         0\n",
       "12  C0002    면적46_51         0\n",
       "13  C0002    면적51_59         0\n",
       "14  C0002    면적59_74         0\n",
       "15  C0002    면적74_85         0\n",
       "16  C0002   면적85_127         0\n",
       "17  C0002  면적127_139         0\n",
       "18  C0003    면적17_26         0\n",
       "19  C0003    면적26_38         0"
      ]
     },
     "execution_count": 23,
     "metadata": {},
     "output_type": "execute_result"
    }
   ],
   "source": [
    "temp.head(20)"
   ]
  },
  {
   "cell_type": "markdown",
   "metadata": {
    "id": "S80Dta28vG-Z"
   },
   "source": [
    "- temp 데이터프레임을 피벗 형태로 변환하여 df_pivot 데이터프레임으로 선언합니다.\n",
    "- 인덱스를 초기화합니다. (단, 인덱스였던 '단지코드'가 제거되면 안됨)\n",
    "- 이후 작업의 편의를 위해 일반적인 데이터프레임 형태를 갖게 합니다.\n",
    "- 참고: df2 = df1.pivot(index=?, columns=?, values=?) 형태로 pivot() 메서드를 사용합니다.\n",
    "- 참고: df2.columns.name=None 형태의 구문을 사용해 열이름에 대한 이름을 제거합니다."
   ]
  },
  {
   "cell_type": "code",
   "execution_count": 24,
   "metadata": {
    "id": "1s6ms5EmvG-Z"
   },
   "outputs": [
    {
     "data": {
      "text/html": [
       "<div>\n",
       "<style scoped>\n",
       "    .dataframe tbody tr th:only-of-type {\n",
       "        vertical-align: middle;\n",
       "    }\n",
       "\n",
       "    .dataframe tbody tr th {\n",
       "        vertical-align: top;\n",
       "    }\n",
       "\n",
       "    .dataframe thead th {\n",
       "        text-align: right;\n",
       "    }\n",
       "</style>\n",
       "<table border=\"1\" class=\"dataframe\">\n",
       "  <thead>\n",
       "    <tr style=\"text-align: right;\">\n",
       "      <th></th>\n",
       "      <th>단지코드</th>\n",
       "      <th>면적17_26</th>\n",
       "      <th>면적26_38</th>\n",
       "      <th>면적38_46</th>\n",
       "      <th>면적46_51</th>\n",
       "      <th>면적51_59</th>\n",
       "      <th>면적59_74</th>\n",
       "      <th>면적74_85</th>\n",
       "      <th>면적85_127</th>\n",
       "      <th>면적127_139</th>\n",
       "    </tr>\n",
       "  </thead>\n",
       "  <tbody>\n",
       "    <tr>\n",
       "      <th>0</th>\n",
       "      <td>C0001</td>\n",
       "      <td>0</td>\n",
       "      <td>0</td>\n",
       "      <td>0</td>\n",
       "      <td>0</td>\n",
       "      <td>35</td>\n",
       "      <td>43</td>\n",
       "      <td>0</td>\n",
       "      <td>0</td>\n",
       "      <td>0</td>\n",
       "    </tr>\n",
       "    <tr>\n",
       "      <th>1</th>\n",
       "      <td>C0002</td>\n",
       "      <td>0</td>\n",
       "      <td>35</td>\n",
       "      <td>0</td>\n",
       "      <td>0</td>\n",
       "      <td>0</td>\n",
       "      <td>0</td>\n",
       "      <td>0</td>\n",
       "      <td>0</td>\n",
       "      <td>0</td>\n",
       "    </tr>\n",
       "    <tr>\n",
       "      <th>2</th>\n",
       "      <td>C0003</td>\n",
       "      <td>0</td>\n",
       "      <td>0</td>\n",
       "      <td>0</td>\n",
       "      <td>0</td>\n",
       "      <td>88</td>\n",
       "      <td>0</td>\n",
       "      <td>0</td>\n",
       "      <td>0</td>\n",
       "      <td>0</td>\n",
       "    </tr>\n",
       "    <tr>\n",
       "      <th>3</th>\n",
       "      <td>C0004</td>\n",
       "      <td>0</td>\n",
       "      <td>0</td>\n",
       "      <td>0</td>\n",
       "      <td>0</td>\n",
       "      <td>0</td>\n",
       "      <td>199</td>\n",
       "      <td>278</td>\n",
       "      <td>0</td>\n",
       "      <td>0</td>\n",
       "    </tr>\n",
       "    <tr>\n",
       "      <th>4</th>\n",
       "      <td>C0006</td>\n",
       "      <td>14</td>\n",
       "      <td>1</td>\n",
       "      <td>0</td>\n",
       "      <td>0</td>\n",
       "      <td>0</td>\n",
       "      <td>0</td>\n",
       "      <td>0</td>\n",
       "      <td>0</td>\n",
       "      <td>0</td>\n",
       "    </tr>\n",
       "  </tbody>\n",
       "</table>\n",
       "</div>"
      ],
      "text/plain": [
       "    단지코드  면적17_26  면적26_38  면적38_46  면적46_51  면적51_59  면적59_74  면적74_85  \\\n",
       "0  C0001        0        0        0        0       35       43        0   \n",
       "1  C0002        0       35        0        0        0        0        0   \n",
       "2  C0003        0        0        0        0       88        0        0   \n",
       "3  C0004        0        0        0        0        0      199      278   \n",
       "4  C0006       14        1        0        0        0        0        0   \n",
       "\n",
       "   면적85_127  면적127_139  \n",
       "0         0          0  \n",
       "1         0          0  \n",
       "2         0          0  \n",
       "3         0          0  \n",
       "4         0          0  "
      ]
     },
     "execution_count": 24,
     "metadata": {},
     "output_type": "execute_result"
    }
   ],
   "source": [
    "df_pivot = temp.pivot(index='단지코드', columns='전용면적구간', values='전용면적별세대수')\n",
    "df_pivot.columns.name = None\n",
    "df_pivot.reset_index(inplace=True)\n",
    "df_pivot.head()"
   ]
  },
  {
   "cell_type": "markdown",
   "metadata": {
    "id": "Saa2ErQgvG-Z"
   },
   "source": [
    "#### 3) 임대보증금, 임대료 평균 집계\n",
    "\n",
    "- 단지코드별 임대보증금, 임대료 평균을 집계합니다.\n",
    "- 집계 결과를 df_rent 데이터프레임으로 선언합니다."
   ]
  },
  {
   "cell_type": "code",
   "execution_count": 25,
   "metadata": {
    "id": "LQw0dLiMvG-Z"
   },
   "outputs": [
    {
     "data": {
      "text/html": [
       "<div>\n",
       "<style scoped>\n",
       "    .dataframe tbody tr th:only-of-type {\n",
       "        vertical-align: middle;\n",
       "    }\n",
       "\n",
       "    .dataframe tbody tr th {\n",
       "        vertical-align: top;\n",
       "    }\n",
       "\n",
       "    .dataframe thead th {\n",
       "        text-align: right;\n",
       "    }\n",
       "</style>\n",
       "<table border=\"1\" class=\"dataframe\">\n",
       "  <thead>\n",
       "    <tr style=\"text-align: right;\">\n",
       "      <th></th>\n",
       "      <th>단지코드</th>\n",
       "      <th>임대보증금</th>\n",
       "      <th>임대료</th>\n",
       "    </tr>\n",
       "  </thead>\n",
       "  <tbody>\n",
       "    <tr>\n",
       "      <th>0</th>\n",
       "      <td>C0001</td>\n",
       "      <td>5.696200e+07</td>\n",
       "      <td>642930.000000</td>\n",
       "    </tr>\n",
       "    <tr>\n",
       "      <th>1</th>\n",
       "      <td>C0002</td>\n",
       "      <td>6.306200e+07</td>\n",
       "      <td>470100.000000</td>\n",
       "    </tr>\n",
       "    <tr>\n",
       "      <th>2</th>\n",
       "      <td>C0003</td>\n",
       "      <td>7.219000e+07</td>\n",
       "      <td>586540.000000</td>\n",
       "    </tr>\n",
       "    <tr>\n",
       "      <th>3</th>\n",
       "      <td>C0004</td>\n",
       "      <td>1.015167e+08</td>\n",
       "      <td>950305.000000</td>\n",
       "    </tr>\n",
       "    <tr>\n",
       "      <th>4</th>\n",
       "      <td>C0006</td>\n",
       "      <td>5.522750e+07</td>\n",
       "      <td>340148.333333</td>\n",
       "    </tr>\n",
       "  </tbody>\n",
       "</table>\n",
       "</div>"
      ],
      "text/plain": [
       "    단지코드         임대보증금            임대료\n",
       "0  C0001  5.696200e+07  642930.000000\n",
       "1  C0002  6.306200e+07  470100.000000\n",
       "2  C0003  7.219000e+07  586540.000000\n",
       "3  C0004  1.015167e+08  950305.000000\n",
       "4  C0006  5.522750e+07  340148.333333"
      ]
     },
     "execution_count": 25,
     "metadata": {},
     "output_type": "execute_result"
    }
   ],
   "source": [
    "df_rent = data02.groupby('단지코드')[['임대보증금', '임대료']].mean().reset_index()\n",
    "df_rent.head()"
   ]
  },
  {
   "cell_type": "markdown",
   "metadata": {
    "id": "75qUWdl4vG-c"
   },
   "source": [
    "### (3) 집계 결과 합치기\n",
    "\n",
    "- 위 과정에서 만든 df_area, df_pivot, df_rent 데이터프레임을 data01 데이터프레임과 조인(Merge)합니다.\n",
    "- data01 데이터프레임이 기준 데이터프레임입니다.\n",
    "- '단지코드' 변수가 조인 기준이 되며, how='left'를 지정합니다.\n",
    "- 조인 결과를 base_data 데이터프레임으로 선언합니다."
   ]
  },
  {
   "cell_type": "code",
   "execution_count": 26,
   "metadata": {
    "id": "RbYLep_avG-c"
   },
   "outputs": [],
   "source": [
    "base_data = pd.merge(data01, df_area, on='단지코드', how='left')\n",
    "\n",
    "base_data = pd.merge(base_data, df_pivot, on='단지코드', how='left')\n",
    "\n",
    "base_data = pd.merge(base_data, df_rent, on='단지코드', how='left')"
   ]
  },
  {
   "cell_type": "code",
   "execution_count": 27,
   "metadata": {},
   "outputs": [
    {
     "data": {
      "text/html": [
       "<div>\n",
       "<style scoped>\n",
       "    .dataframe tbody tr th:only-of-type {\n",
       "        vertical-align: middle;\n",
       "    }\n",
       "\n",
       "    .dataframe tbody tr th {\n",
       "        vertical-align: top;\n",
       "    }\n",
       "\n",
       "    .dataframe thead th {\n",
       "        text-align: right;\n",
       "    }\n",
       "</style>\n",
       "<table border=\"1\" class=\"dataframe\">\n",
       "  <thead>\n",
       "    <tr style=\"text-align: right;\">\n",
       "      <th></th>\n",
       "      <th>단지코드</th>\n",
       "      <th>총세대수</th>\n",
       "      <th>지역</th>\n",
       "      <th>준공연도</th>\n",
       "      <th>건물형태</th>\n",
       "      <th>난방방식</th>\n",
       "      <th>승강기설치여부</th>\n",
       "      <th>실차량수</th>\n",
       "      <th>총면적</th>\n",
       "      <th>면적17_26</th>\n",
       "      <th>면적26_38</th>\n",
       "      <th>면적38_46</th>\n",
       "      <th>면적46_51</th>\n",
       "      <th>면적51_59</th>\n",
       "      <th>면적59_74</th>\n",
       "      <th>면적74_85</th>\n",
       "      <th>면적85_127</th>\n",
       "      <th>면적127_139</th>\n",
       "      <th>임대보증금</th>\n",
       "      <th>임대료</th>\n",
       "    </tr>\n",
       "  </thead>\n",
       "  <tbody>\n",
       "    <tr>\n",
       "      <th>0</th>\n",
       "      <td>C0001</td>\n",
       "      <td>78</td>\n",
       "      <td>서울</td>\n",
       "      <td>2013</td>\n",
       "      <td>계단식</td>\n",
       "      <td>개별가스난방</td>\n",
       "      <td>전체동 설치</td>\n",
       "      <td>109</td>\n",
       "      <td>6023.7683</td>\n",
       "      <td>0</td>\n",
       "      <td>0</td>\n",
       "      <td>0</td>\n",
       "      <td>0</td>\n",
       "      <td>35</td>\n",
       "      <td>43</td>\n",
       "      <td>0</td>\n",
       "      <td>0</td>\n",
       "      <td>0</td>\n",
       "      <td>5.696200e+07</td>\n",
       "      <td>642930.000000</td>\n",
       "    </tr>\n",
       "    <tr>\n",
       "      <th>1</th>\n",
       "      <td>C0002</td>\n",
       "      <td>35</td>\n",
       "      <td>서울</td>\n",
       "      <td>2013</td>\n",
       "      <td>복도식</td>\n",
       "      <td>개별가스난방</td>\n",
       "      <td>전체동 설치</td>\n",
       "      <td>35</td>\n",
       "      <td>1569.1668</td>\n",
       "      <td>0</td>\n",
       "      <td>35</td>\n",
       "      <td>0</td>\n",
       "      <td>0</td>\n",
       "      <td>0</td>\n",
       "      <td>0</td>\n",
       "      <td>0</td>\n",
       "      <td>0</td>\n",
       "      <td>0</td>\n",
       "      <td>6.306200e+07</td>\n",
       "      <td>470100.000000</td>\n",
       "    </tr>\n",
       "    <tr>\n",
       "      <th>2</th>\n",
       "      <td>C0003</td>\n",
       "      <td>88</td>\n",
       "      <td>서울</td>\n",
       "      <td>2013</td>\n",
       "      <td>계단식</td>\n",
       "      <td>개별가스난방</td>\n",
       "      <td>전체동 설치</td>\n",
       "      <td>88</td>\n",
       "      <td>7180.1396</td>\n",
       "      <td>0</td>\n",
       "      <td>0</td>\n",
       "      <td>0</td>\n",
       "      <td>0</td>\n",
       "      <td>88</td>\n",
       "      <td>0</td>\n",
       "      <td>0</td>\n",
       "      <td>0</td>\n",
       "      <td>0</td>\n",
       "      <td>7.219000e+07</td>\n",
       "      <td>586540.000000</td>\n",
       "    </tr>\n",
       "    <tr>\n",
       "      <th>3</th>\n",
       "      <td>C0004</td>\n",
       "      <td>477</td>\n",
       "      <td>서울</td>\n",
       "      <td>2014</td>\n",
       "      <td>복도식</td>\n",
       "      <td>지역난방</td>\n",
       "      <td>전체동 설치</td>\n",
       "      <td>943</td>\n",
       "      <td>47058.9273</td>\n",
       "      <td>0</td>\n",
       "      <td>0</td>\n",
       "      <td>0</td>\n",
       "      <td>0</td>\n",
       "      <td>0</td>\n",
       "      <td>199</td>\n",
       "      <td>278</td>\n",
       "      <td>0</td>\n",
       "      <td>0</td>\n",
       "      <td>1.015167e+08</td>\n",
       "      <td>950305.000000</td>\n",
       "    </tr>\n",
       "    <tr>\n",
       "      <th>4</th>\n",
       "      <td>C0006</td>\n",
       "      <td>15</td>\n",
       "      <td>서울</td>\n",
       "      <td>2013</td>\n",
       "      <td>복도식</td>\n",
       "      <td>개별가스난방</td>\n",
       "      <td>전체동 설치</td>\n",
       "      <td>21</td>\n",
       "      <td>543.0268</td>\n",
       "      <td>14</td>\n",
       "      <td>1</td>\n",
       "      <td>0</td>\n",
       "      <td>0</td>\n",
       "      <td>0</td>\n",
       "      <td>0</td>\n",
       "      <td>0</td>\n",
       "      <td>0</td>\n",
       "      <td>0</td>\n",
       "      <td>5.522750e+07</td>\n",
       "      <td>340148.333333</td>\n",
       "    </tr>\n",
       "  </tbody>\n",
       "</table>\n",
       "</div>"
      ],
      "text/plain": [
       "    단지코드  총세대수  지역  준공연도 건물형태    난방방식 승강기설치여부  실차량수         총면적  면적17_26  \\\n",
       "0  C0001    78  서울  2013  계단식  개별가스난방  전체동 설치   109   6023.7683        0   \n",
       "1  C0002    35  서울  2013  복도식  개별가스난방  전체동 설치    35   1569.1668        0   \n",
       "2  C0003    88  서울  2013  계단식  개별가스난방  전체동 설치    88   7180.1396        0   \n",
       "3  C0004   477  서울  2014  복도식    지역난방  전체동 설치   943  47058.9273        0   \n",
       "4  C0006    15  서울  2013  복도식  개별가스난방  전체동 설치    21    543.0268       14   \n",
       "\n",
       "   면적26_38  면적38_46  면적46_51  면적51_59  면적59_74  면적74_85  면적85_127  면적127_139  \\\n",
       "0        0        0        0       35       43        0         0          0   \n",
       "1       35        0        0        0        0        0         0          0   \n",
       "2        0        0        0       88        0        0         0          0   \n",
       "3        0        0        0        0      199      278         0          0   \n",
       "4        1        0        0        0        0        0         0          0   \n",
       "\n",
       "          임대보증금            임대료  \n",
       "0  5.696200e+07  642930.000000  \n",
       "1  6.306200e+07  470100.000000  \n",
       "2  7.219000e+07  586540.000000  \n",
       "3  1.015167e+08  950305.000000  \n",
       "4  5.522750e+07  340148.333333  "
      ]
     },
     "execution_count": 27,
     "metadata": {},
     "output_type": "execute_result"
    }
   ],
   "source": [
    "base_data.head()"
   ]
  },
  {
   "cell_type": "markdown",
   "metadata": {
    "id": "DFVvSdhGQ4N_"
   },
   "source": [
    "## 4. 데이터 셋 저장\n",
    "\n",
    "- joblib.dump() 함수를 사용하여 최종 데이터 셋을 파일로 저장합니다.\n",
    "- 파일 이름은 base_data1.pkl로 합니다."
   ]
  },
  {
   "cell_type": "code",
   "execution_count": 28,
   "metadata": {
    "id": "rsPMYAnPBo4k"
   },
   "outputs": [
    {
     "data": {
      "text/plain": [
       "['base_data1.pkl']"
      ]
     },
     "execution_count": 28,
     "metadata": {},
     "output_type": "execute_result"
    }
   ],
   "source": [
    "# 파일로 저장\n",
    "joblib.dump(base_data, path+'base_data1.pkl')"
   ]
  },
  {
   "cell_type": "code",
   "execution_count": 87,
   "metadata": {},
   "outputs": [
    {
     "name": "stdout",
     "output_type": "stream",
     "text": [
      "Collecting ydata-profiling\n",
      "  Downloading ydata_profiling-4.10.0-py2.py3-none-any.whl.metadata (20 kB)\n",
      "Requirement already satisfied: scipy<1.14,>=1.4.1 in c:\\users\\tjdud\\anaconda3\\lib\\site-packages (from ydata-profiling) (1.13.1)\n",
      "Requirement already satisfied: pandas!=1.4.0,<3,>1.1 in c:\\users\\tjdud\\anaconda3\\lib\\site-packages (from ydata-profiling) (2.2.2)\n",
      "Requirement already satisfied: matplotlib<3.10,>=3.5 in c:\\users\\tjdud\\anaconda3\\lib\\site-packages (from ydata-profiling) (3.8.4)\n",
      "Requirement already satisfied: pydantic>=2 in c:\\users\\tjdud\\anaconda3\\lib\\site-packages (from ydata-profiling) (2.5.3)\n",
      "Requirement already satisfied: PyYAML<6.1,>=5.0.0 in c:\\users\\tjdud\\anaconda3\\lib\\site-packages (from ydata-profiling) (6.0.1)\n",
      "Requirement already satisfied: jinja2<3.2,>=2.11.1 in c:\\users\\tjdud\\anaconda3\\lib\\site-packages (from ydata-profiling) (3.1.4)\n",
      "Collecting visions<0.7.7,>=0.7.5 (from visions[type_image_path]<0.7.7,>=0.7.5->ydata-profiling)\n",
      "  Downloading visions-0.7.6-py3-none-any.whl.metadata (11 kB)\n",
      "Requirement already satisfied: numpy<2.2,>=1.16.0 in c:\\users\\tjdud\\anaconda3\\lib\\site-packages (from ydata-profiling) (1.26.4)\n",
      "Collecting htmlmin==0.1.12 (from ydata-profiling)\n",
      "  Downloading htmlmin-0.1.12.tar.gz (19 kB)\n",
      "  Preparing metadata (setup.py): started\n",
      "  Preparing metadata (setup.py): finished with status 'done'\n",
      "Collecting phik<0.13,>=0.11.1 (from ydata-profiling)\n",
      "  Downloading phik-0.12.4-cp312-cp312-win_amd64.whl.metadata (5.6 kB)\n",
      "Requirement already satisfied: requests<3,>=2.24.0 in c:\\users\\tjdud\\anaconda3\\lib\\site-packages (from ydata-profiling) (2.32.2)\n",
      "Requirement already satisfied: tqdm<5,>=4.48.2 in c:\\users\\tjdud\\anaconda3\\lib\\site-packages (from ydata-profiling) (4.66.4)\n",
      "Requirement already satisfied: seaborn<0.14,>=0.10.1 in c:\\users\\tjdud\\anaconda3\\lib\\site-packages (from ydata-profiling) (0.13.2)\n",
      "Collecting multimethod<2,>=1.4 (from ydata-profiling)\n",
      "  Downloading multimethod-1.12-py3-none-any.whl.metadata (9.6 kB)\n",
      "Requirement already satisfied: statsmodels<1,>=0.13.2 in c:\\users\\tjdud\\anaconda3\\lib\\site-packages (from ydata-profiling) (0.14.2)\n",
      "Collecting typeguard<5,>=3 (from ydata-profiling)\n",
      "  Downloading typeguard-4.3.0-py3-none-any.whl.metadata (3.7 kB)\n",
      "Collecting imagehash==4.3.1 (from ydata-profiling)\n",
      "  Downloading ImageHash-4.3.1-py2.py3-none-any.whl.metadata (8.0 kB)\n",
      "Collecting wordcloud>=1.9.3 (from ydata-profiling)\n",
      "  Downloading wordcloud-1.9.3-cp312-cp312-win_amd64.whl.metadata (3.5 kB)\n",
      "Collecting dacite>=1.8 (from ydata-profiling)\n",
      "  Downloading dacite-1.8.1-py3-none-any.whl.metadata (15 kB)\n",
      "Requirement already satisfied: numba<1,>=0.56.0 in c:\\users\\tjdud\\anaconda3\\lib\\site-packages (from ydata-profiling) (0.59.1)\n",
      "Requirement already satisfied: PyWavelets in c:\\users\\tjdud\\anaconda3\\lib\\site-packages (from imagehash==4.3.1->ydata-profiling) (1.5.0)\n",
      "Requirement already satisfied: pillow in c:\\users\\tjdud\\anaconda3\\lib\\site-packages (from imagehash==4.3.1->ydata-profiling) (10.3.0)\n",
      "Requirement already satisfied: MarkupSafe>=2.0 in c:\\users\\tjdud\\anaconda3\\lib\\site-packages (from jinja2<3.2,>=2.11.1->ydata-profiling) (2.1.3)\n",
      "Requirement already satisfied: contourpy>=1.0.1 in c:\\users\\tjdud\\anaconda3\\lib\\site-packages (from matplotlib<3.10,>=3.5->ydata-profiling) (1.2.0)\n",
      "Requirement already satisfied: cycler>=0.10 in c:\\users\\tjdud\\anaconda3\\lib\\site-packages (from matplotlib<3.10,>=3.5->ydata-profiling) (0.11.0)\n",
      "Requirement already satisfied: fonttools>=4.22.0 in c:\\users\\tjdud\\anaconda3\\lib\\site-packages (from matplotlib<3.10,>=3.5->ydata-profiling) (4.51.0)\n",
      "Requirement already satisfied: kiwisolver>=1.3.1 in c:\\users\\tjdud\\anaconda3\\lib\\site-packages (from matplotlib<3.10,>=3.5->ydata-profiling) (1.4.4)\n",
      "Requirement already satisfied: packaging>=20.0 in c:\\users\\tjdud\\anaconda3\\lib\\site-packages (from matplotlib<3.10,>=3.5->ydata-profiling) (23.2)\n",
      "Requirement already satisfied: pyparsing>=2.3.1 in c:\\users\\tjdud\\anaconda3\\lib\\site-packages (from matplotlib<3.10,>=3.5->ydata-profiling) (3.0.9)\n",
      "Requirement already satisfied: python-dateutil>=2.7 in c:\\users\\tjdud\\anaconda3\\lib\\site-packages (from matplotlib<3.10,>=3.5->ydata-profiling) (2.9.0.post0)\n",
      "Requirement already satisfied: llvmlite<0.43,>=0.42.0dev0 in c:\\users\\tjdud\\anaconda3\\lib\\site-packages (from numba<1,>=0.56.0->ydata-profiling) (0.42.0)\n",
      "Requirement already satisfied: pytz>=2020.1 in c:\\users\\tjdud\\anaconda3\\lib\\site-packages (from pandas!=1.4.0,<3,>1.1->ydata-profiling) (2024.1)\n",
      "Requirement already satisfied: tzdata>=2022.7 in c:\\users\\tjdud\\anaconda3\\lib\\site-packages (from pandas!=1.4.0,<3,>1.1->ydata-profiling) (2023.3)\n",
      "Requirement already satisfied: joblib>=0.14.1 in c:\\users\\tjdud\\anaconda3\\lib\\site-packages (from phik<0.13,>=0.11.1->ydata-profiling) (1.4.2)\n",
      "Requirement already satisfied: annotated-types>=0.4.0 in c:\\users\\tjdud\\anaconda3\\lib\\site-packages (from pydantic>=2->ydata-profiling) (0.6.0)\n",
      "Requirement already satisfied: pydantic-core==2.14.6 in c:\\users\\tjdud\\anaconda3\\lib\\site-packages (from pydantic>=2->ydata-profiling) (2.14.6)\n",
      "Requirement already satisfied: typing-extensions>=4.6.1 in c:\\users\\tjdud\\anaconda3\\lib\\site-packages (from pydantic>=2->ydata-profiling) (4.11.0)\n",
      "Requirement already satisfied: charset-normalizer<4,>=2 in c:\\users\\tjdud\\anaconda3\\lib\\site-packages (from requests<3,>=2.24.0->ydata-profiling) (2.0.4)\n",
      "Requirement already satisfied: idna<4,>=2.5 in c:\\users\\tjdud\\anaconda3\\lib\\site-packages (from requests<3,>=2.24.0->ydata-profiling) (3.7)\n",
      "Requirement already satisfied: urllib3<3,>=1.21.1 in c:\\users\\tjdud\\anaconda3\\lib\\site-packages (from requests<3,>=2.24.0->ydata-profiling) (2.2.2)\n",
      "Requirement already satisfied: certifi>=2017.4.17 in c:\\users\\tjdud\\anaconda3\\lib\\site-packages (from requests<3,>=2.24.0->ydata-profiling) (2024.6.2)\n",
      "Requirement already satisfied: patsy>=0.5.6 in c:\\users\\tjdud\\anaconda3\\lib\\site-packages (from statsmodels<1,>=0.13.2->ydata-profiling) (0.5.6)\n",
      "Requirement already satisfied: colorama in c:\\users\\tjdud\\anaconda3\\lib\\site-packages (from tqdm<5,>=4.48.2->ydata-profiling) (0.4.6)\n",
      "Requirement already satisfied: attrs>=19.3.0 in c:\\users\\tjdud\\anaconda3\\lib\\site-packages (from visions<0.7.7,>=0.7.5->visions[type_image_path]<0.7.7,>=0.7.5->ydata-profiling) (24.2.0)\n",
      "Requirement already satisfied: networkx>=2.4 in c:\\users\\tjdud\\anaconda3\\lib\\site-packages (from visions<0.7.7,>=0.7.5->visions[type_image_path]<0.7.7,>=0.7.5->ydata-profiling) (3.2.1)\n",
      "Requirement already satisfied: six in c:\\users\\tjdud\\anaconda3\\lib\\site-packages (from patsy>=0.5.6->statsmodels<1,>=0.13.2->ydata-profiling) (1.16.0)\n",
      "Downloading ydata_profiling-4.10.0-py2.py3-none-any.whl (356 kB)\n",
      "   ---------------------------------------- 0.0/356.2 kB ? eta -:--:--\n",
      "   --------------------------------------- 356.2/356.2 kB 11.2 MB/s eta 0:00:00\n",
      "Downloading ImageHash-4.3.1-py2.py3-none-any.whl (296 kB)\n",
      "   ---------------------------------------- 0.0/296.5 kB ? eta -:--:--\n",
      "   ---------------------------------------- 296.5/296.5 kB 9.2 MB/s eta 0:00:00\n",
      "Downloading dacite-1.8.1-py3-none-any.whl (14 kB)\n",
      "Downloading multimethod-1.12-py3-none-any.whl (10 kB)\n",
      "Downloading phik-0.12.4-cp312-cp312-win_amd64.whl (666 kB)\n",
      "   ---------------------------------------- 0.0/666.4 kB ? eta -:--:--\n",
      "   --------------------------------------- 666.4/666.4 kB 20.5 MB/s eta 0:00:00\n",
      "Downloading typeguard-4.3.0-py3-none-any.whl (35 kB)\n",
      "Downloading visions-0.7.6-py3-none-any.whl (104 kB)\n",
      "   ---------------------------------------- 0.0/104.8 kB ? eta -:--:--\n",
      "   ---------------------------------------- 104.8/104.8 kB ? eta 0:00:00\n",
      "Downloading wordcloud-1.9.3-cp312-cp312-win_amd64.whl (301 kB)\n",
      "   ---------------------------------------- 0.0/301.4 kB ? eta -:--:--\n",
      "   --------------------------------------- 301.4/301.4 kB 18.2 MB/s eta 0:00:00\n",
      "Building wheels for collected packages: htmlmin\n",
      "  Building wheel for htmlmin (setup.py): started\n",
      "  Building wheel for htmlmin (setup.py): finished with status 'done'\n",
      "  Created wheel for htmlmin: filename=htmlmin-0.1.12-py3-none-any.whl size=27092 sha256=1f68957f941174cc72434f5a6ee571ea818ed623ccea93d5c9925435772697b1\n",
      "  Stored in directory: c:\\users\\tjdud\\appdata\\local\\pip\\cache\\wheels\\5f\\d4\\d7\\4189b07b5902ee9f3ce0dbb14909fbe8037c39d6c63ffd49c9\n",
      "Successfully built htmlmin\n",
      "Installing collected packages: htmlmin, typeguard, multimethod, dacite, imagehash, wordcloud, visions, phik, ydata-profiling\n",
      "Successfully installed dacite-1.8.1 htmlmin-0.1.12 imagehash-4.3.1 multimethod-1.12 phik-0.12.4 typeguard-4.3.0 visions-0.7.6 wordcloud-1.9.3 ydata-profiling-4.10.0\n",
      "Note: you may need to restart the kernel to use updated packages.\n"
     ]
    }
   ],
   "source": [
    "pip install ydata-profiling"
   ]
  },
  {
   "cell_type": "code",
   "execution_count": 90,
   "metadata": {},
   "outputs": [
    {
     "name": "stdout",
     "output_type": "stream",
     "text": [
      "Requirement already satisfied: ipywidgets in c:\\users\\tjdud\\anaconda3\\lib\\site-packages (7.8.1)\n",
      "Requirement already satisfied: comm>=0.1.3 in c:\\users\\tjdud\\anaconda3\\lib\\site-packages (from ipywidgets) (0.2.1)\n",
      "Requirement already satisfied: ipython-genutils~=0.2.0 in c:\\users\\tjdud\\anaconda3\\lib\\site-packages (from ipywidgets) (0.2.0)\n",
      "Requirement already satisfied: traitlets>=4.3.1 in c:\\users\\tjdud\\anaconda3\\lib\\site-packages (from ipywidgets) (5.14.3)\n",
      "Requirement already satisfied: widgetsnbextension~=3.6.6 in c:\\users\\tjdud\\anaconda3\\lib\\site-packages (from ipywidgets) (3.6.6)\n",
      "Requirement already satisfied: ipython>=4.0.0 in c:\\users\\tjdud\\anaconda3\\lib\\site-packages (from ipywidgets) (8.25.0)\n",
      "Requirement already satisfied: jupyterlab-widgets<3,>=1.0.0 in c:\\users\\tjdud\\anaconda3\\lib\\site-packages (from ipywidgets) (1.0.0)\n",
      "Requirement already satisfied: decorator in c:\\users\\tjdud\\anaconda3\\lib\\site-packages (from ipython>=4.0.0->ipywidgets) (5.1.1)\n",
      "Requirement already satisfied: jedi>=0.16 in c:\\users\\tjdud\\anaconda3\\lib\\site-packages (from ipython>=4.0.0->ipywidgets) (0.18.1)\n",
      "Requirement already satisfied: matplotlib-inline in c:\\users\\tjdud\\anaconda3\\lib\\site-packages (from ipython>=4.0.0->ipywidgets) (0.1.6)\n",
      "Requirement already satisfied: prompt-toolkit<3.1.0,>=3.0.41 in c:\\users\\tjdud\\anaconda3\\lib\\site-packages (from ipython>=4.0.0->ipywidgets) (3.0.43)\n",
      "Requirement already satisfied: pygments>=2.4.0 in c:\\users\\tjdud\\anaconda3\\lib\\site-packages (from ipython>=4.0.0->ipywidgets) (2.15.1)\n",
      "Requirement already satisfied: stack-data in c:\\users\\tjdud\\anaconda3\\lib\\site-packages (from ipython>=4.0.0->ipywidgets) (0.2.0)\n",
      "Requirement already satisfied: colorama in c:\\users\\tjdud\\anaconda3\\lib\\site-packages (from ipython>=4.0.0->ipywidgets) (0.4.6)\n",
      "Requirement already satisfied: notebook>=4.4.1 in c:\\users\\tjdud\\anaconda3\\lib\\site-packages (from widgetsnbextension~=3.6.6->ipywidgets) (7.0.8)\n",
      "Requirement already satisfied: parso<0.9.0,>=0.8.0 in c:\\users\\tjdud\\anaconda3\\lib\\site-packages (from jedi>=0.16->ipython>=4.0.0->ipywidgets) (0.8.3)\n",
      "Requirement already satisfied: jupyter-server<3,>=2.4.0 in c:\\users\\tjdud\\anaconda3\\lib\\site-packages (from notebook>=4.4.1->widgetsnbextension~=3.6.6->ipywidgets) (2.14.1)\n",
      "Requirement already satisfied: jupyterlab-server<3,>=2.22.1 in c:\\users\\tjdud\\anaconda3\\lib\\site-packages (from notebook>=4.4.1->widgetsnbextension~=3.6.6->ipywidgets) (2.25.1)\n",
      "Requirement already satisfied: jupyterlab<4.1,>=4.0.2 in c:\\users\\tjdud\\anaconda3\\lib\\site-packages (from notebook>=4.4.1->widgetsnbextension~=3.6.6->ipywidgets) (4.0.11)\n",
      "Requirement already satisfied: notebook-shim<0.3,>=0.2 in c:\\users\\tjdud\\anaconda3\\lib\\site-packages (from notebook>=4.4.1->widgetsnbextension~=3.6.6->ipywidgets) (0.2.3)\n",
      "Requirement already satisfied: tornado>=6.2.0 in c:\\users\\tjdud\\anaconda3\\lib\\site-packages (from notebook>=4.4.1->widgetsnbextension~=3.6.6->ipywidgets) (6.4.1)\n",
      "Requirement already satisfied: wcwidth in c:\\users\\tjdud\\anaconda3\\lib\\site-packages (from prompt-toolkit<3.1.0,>=3.0.41->ipython>=4.0.0->ipywidgets) (0.2.5)\n",
      "Requirement already satisfied: executing in c:\\users\\tjdud\\anaconda3\\lib\\site-packages (from stack-data->ipython>=4.0.0->ipywidgets) (0.8.3)\n",
      "Requirement already satisfied: asttokens in c:\\users\\tjdud\\anaconda3\\lib\\site-packages (from stack-data->ipython>=4.0.0->ipywidgets) (2.0.5)\n",
      "Requirement already satisfied: pure-eval in c:\\users\\tjdud\\anaconda3\\lib\\site-packages (from stack-data->ipython>=4.0.0->ipywidgets) (0.2.2)\n",
      "Requirement already satisfied: anyio>=3.1.0 in c:\\users\\tjdud\\anaconda3\\lib\\site-packages (from jupyter-server<3,>=2.4.0->notebook>=4.4.1->widgetsnbextension~=3.6.6->ipywidgets) (4.2.0)\n",
      "Requirement already satisfied: argon2-cffi>=21.1 in c:\\users\\tjdud\\anaconda3\\lib\\site-packages (from jupyter-server<3,>=2.4.0->notebook>=4.4.1->widgetsnbextension~=3.6.6->ipywidgets) (21.3.0)\n",
      "Requirement already satisfied: jinja2>=3.0.3 in c:\\users\\tjdud\\anaconda3\\lib\\site-packages (from jupyter-server<3,>=2.4.0->notebook>=4.4.1->widgetsnbextension~=3.6.6->ipywidgets) (3.1.4)\n",
      "Requirement already satisfied: jupyter-client>=7.4.4 in c:\\users\\tjdud\\anaconda3\\lib\\site-packages (from jupyter-server<3,>=2.4.0->notebook>=4.4.1->widgetsnbextension~=3.6.6->ipywidgets) (8.6.0)\n",
      "Requirement already satisfied: jupyter-core!=5.0.*,>=4.12 in c:\\users\\tjdud\\anaconda3\\lib\\site-packages (from jupyter-server<3,>=2.4.0->notebook>=4.4.1->widgetsnbextension~=3.6.6->ipywidgets) (5.7.2)\n",
      "Requirement already satisfied: jupyter-events>=0.9.0 in c:\\users\\tjdud\\anaconda3\\lib\\site-packages (from jupyter-server<3,>=2.4.0->notebook>=4.4.1->widgetsnbextension~=3.6.6->ipywidgets) (0.10.0)\n",
      "Requirement already satisfied: jupyter-server-terminals>=0.4.4 in c:\\users\\tjdud\\anaconda3\\lib\\site-packages (from jupyter-server<3,>=2.4.0->notebook>=4.4.1->widgetsnbextension~=3.6.6->ipywidgets) (0.4.4)\n",
      "Requirement already satisfied: nbconvert>=6.4.4 in c:\\users\\tjdud\\anaconda3\\lib\\site-packages (from jupyter-server<3,>=2.4.0->notebook>=4.4.1->widgetsnbextension~=3.6.6->ipywidgets) (7.10.0)\n",
      "Requirement already satisfied: nbformat>=5.3.0 in c:\\users\\tjdud\\anaconda3\\lib\\site-packages (from jupyter-server<3,>=2.4.0->notebook>=4.4.1->widgetsnbextension~=3.6.6->ipywidgets) (5.9.2)\n",
      "Requirement already satisfied: overrides>=5.0 in c:\\users\\tjdud\\anaconda3\\lib\\site-packages (from jupyter-server<3,>=2.4.0->notebook>=4.4.1->widgetsnbextension~=3.6.6->ipywidgets) (7.4.0)\n",
      "Requirement already satisfied: packaging>=22.0 in c:\\users\\tjdud\\anaconda3\\lib\\site-packages (from jupyter-server<3,>=2.4.0->notebook>=4.4.1->widgetsnbextension~=3.6.6->ipywidgets) (23.2)\n",
      "Requirement already satisfied: prometheus-client>=0.9 in c:\\users\\tjdud\\anaconda3\\lib\\site-packages (from jupyter-server<3,>=2.4.0->notebook>=4.4.1->widgetsnbextension~=3.6.6->ipywidgets) (0.14.1)\n",
      "Requirement already satisfied: pywinpty>=2.0.1 in c:\\users\\tjdud\\anaconda3\\lib\\site-packages (from jupyter-server<3,>=2.4.0->notebook>=4.4.1->widgetsnbextension~=3.6.6->ipywidgets) (2.0.10)\n",
      "Requirement already satisfied: pyzmq>=24 in c:\\users\\tjdud\\anaconda3\\lib\\site-packages (from jupyter-server<3,>=2.4.0->notebook>=4.4.1->widgetsnbextension~=3.6.6->ipywidgets) (25.1.2)\n",
      "Requirement already satisfied: send2trash>=1.8.2 in c:\\users\\tjdud\\anaconda3\\lib\\site-packages (from jupyter-server<3,>=2.4.0->notebook>=4.4.1->widgetsnbextension~=3.6.6->ipywidgets) (1.8.2)\n",
      "Requirement already satisfied: terminado>=0.8.3 in c:\\users\\tjdud\\anaconda3\\lib\\site-packages (from jupyter-server<3,>=2.4.0->notebook>=4.4.1->widgetsnbextension~=3.6.6->ipywidgets) (0.17.1)\n",
      "Requirement already satisfied: websocket-client>=1.7 in c:\\users\\tjdud\\anaconda3\\lib\\site-packages (from jupyter-server<3,>=2.4.0->notebook>=4.4.1->widgetsnbextension~=3.6.6->ipywidgets) (1.8.0)\n",
      "Requirement already satisfied: async-lru>=1.0.0 in c:\\users\\tjdud\\anaconda3\\lib\\site-packages (from jupyterlab<4.1,>=4.0.2->notebook>=4.4.1->widgetsnbextension~=3.6.6->ipywidgets) (2.0.4)\n",
      "Requirement already satisfied: ipykernel in c:\\users\\tjdud\\anaconda3\\lib\\site-packages (from jupyterlab<4.1,>=4.0.2->notebook>=4.4.1->widgetsnbextension~=3.6.6->ipywidgets) (6.28.0)\n",
      "Requirement already satisfied: jupyter-lsp>=2.0.0 in c:\\users\\tjdud\\anaconda3\\lib\\site-packages (from jupyterlab<4.1,>=4.0.2->notebook>=4.4.1->widgetsnbextension~=3.6.6->ipywidgets) (2.2.0)\n",
      "Requirement already satisfied: babel>=2.10 in c:\\users\\tjdud\\anaconda3\\lib\\site-packages (from jupyterlab-server<3,>=2.22.1->notebook>=4.4.1->widgetsnbextension~=3.6.6->ipywidgets) (2.11.0)\n",
      "Requirement already satisfied: json5>=0.9.0 in c:\\users\\tjdud\\anaconda3\\lib\\site-packages (from jupyterlab-server<3,>=2.22.1->notebook>=4.4.1->widgetsnbextension~=3.6.6->ipywidgets) (0.9.6)\n",
      "Requirement already satisfied: jsonschema>=4.18.0 in c:\\users\\tjdud\\anaconda3\\lib\\site-packages (from jupyterlab-server<3,>=2.22.1->notebook>=4.4.1->widgetsnbextension~=3.6.6->ipywidgets) (4.19.2)\n",
      "Requirement already satisfied: requests>=2.31 in c:\\users\\tjdud\\anaconda3\\lib\\site-packages (from jupyterlab-server<3,>=2.22.1->notebook>=4.4.1->widgetsnbextension~=3.6.6->ipywidgets) (2.32.2)\n",
      "Requirement already satisfied: six in c:\\users\\tjdud\\anaconda3\\lib\\site-packages (from asttokens->stack-data->ipython>=4.0.0->ipywidgets) (1.16.0)\n",
      "Requirement already satisfied: idna>=2.8 in c:\\users\\tjdud\\anaconda3\\lib\\site-packages (from anyio>=3.1.0->jupyter-server<3,>=2.4.0->notebook>=4.4.1->widgetsnbextension~=3.6.6->ipywidgets) (3.7)\n",
      "Requirement already satisfied: sniffio>=1.1 in c:\\users\\tjdud\\anaconda3\\lib\\site-packages (from anyio>=3.1.0->jupyter-server<3,>=2.4.0->notebook>=4.4.1->widgetsnbextension~=3.6.6->ipywidgets) (1.3.0)\n",
      "Requirement already satisfied: argon2-cffi-bindings in c:\\users\\tjdud\\anaconda3\\lib\\site-packages (from argon2-cffi>=21.1->jupyter-server<3,>=2.4.0->notebook>=4.4.1->widgetsnbextension~=3.6.6->ipywidgets) (21.2.0)\n",
      "Requirement already satisfied: pytz>=2015.7 in c:\\users\\tjdud\\anaconda3\\lib\\site-packages (from babel>=2.10->jupyterlab-server<3,>=2.22.1->notebook>=4.4.1->widgetsnbextension~=3.6.6->ipywidgets) (2024.1)\n",
      "Requirement already satisfied: MarkupSafe>=2.0 in c:\\users\\tjdud\\anaconda3\\lib\\site-packages (from jinja2>=3.0.3->jupyter-server<3,>=2.4.0->notebook>=4.4.1->widgetsnbextension~=3.6.6->ipywidgets) (2.1.3)\n",
      "Requirement already satisfied: attrs>=22.2.0 in c:\\users\\tjdud\\anaconda3\\lib\\site-packages (from jsonschema>=4.18.0->jupyterlab-server<3,>=2.22.1->notebook>=4.4.1->widgetsnbextension~=3.6.6->ipywidgets) (24.2.0)\n",
      "Requirement already satisfied: jsonschema-specifications>=2023.03.6 in c:\\users\\tjdud\\anaconda3\\lib\\site-packages (from jsonschema>=4.18.0->jupyterlab-server<3,>=2.22.1->notebook>=4.4.1->widgetsnbextension~=3.6.6->ipywidgets) (2023.7.1)\n",
      "Requirement already satisfied: referencing>=0.28.4 in c:\\users\\tjdud\\anaconda3\\lib\\site-packages (from jsonschema>=4.18.0->jupyterlab-server<3,>=2.22.1->notebook>=4.4.1->widgetsnbextension~=3.6.6->ipywidgets) (0.30.2)\n",
      "Requirement already satisfied: rpds-py>=0.7.1 in c:\\users\\tjdud\\anaconda3\\lib\\site-packages (from jsonschema>=4.18.0->jupyterlab-server<3,>=2.22.1->notebook>=4.4.1->widgetsnbextension~=3.6.6->ipywidgets) (0.10.6)\n",
      "Requirement already satisfied: python-dateutil>=2.8.2 in c:\\users\\tjdud\\anaconda3\\lib\\site-packages (from jupyter-client>=7.4.4->jupyter-server<3,>=2.4.0->notebook>=4.4.1->widgetsnbextension~=3.6.6->ipywidgets) (2.9.0.post0)\n",
      "Requirement already satisfied: platformdirs>=2.5 in c:\\users\\tjdud\\anaconda3\\lib\\site-packages (from jupyter-core!=5.0.*,>=4.12->jupyter-server<3,>=2.4.0->notebook>=4.4.1->widgetsnbextension~=3.6.6->ipywidgets) (3.10.0)\n",
      "Requirement already satisfied: pywin32>=300 in c:\\users\\tjdud\\anaconda3\\lib\\site-packages (from jupyter-core!=5.0.*,>=4.12->jupyter-server<3,>=2.4.0->notebook>=4.4.1->widgetsnbextension~=3.6.6->ipywidgets) (305.1)\n",
      "Requirement already satisfied: python-json-logger>=2.0.4 in c:\\users\\tjdud\\anaconda3\\lib\\site-packages (from jupyter-events>=0.9.0->jupyter-server<3,>=2.4.0->notebook>=4.4.1->widgetsnbextension~=3.6.6->ipywidgets) (2.0.7)\n",
      "Requirement already satisfied: pyyaml>=5.3 in c:\\users\\tjdud\\anaconda3\\lib\\site-packages (from jupyter-events>=0.9.0->jupyter-server<3,>=2.4.0->notebook>=4.4.1->widgetsnbextension~=3.6.6->ipywidgets) (6.0.1)\n",
      "Requirement already satisfied: rfc3339-validator in c:\\users\\tjdud\\anaconda3\\lib\\site-packages (from jupyter-events>=0.9.0->jupyter-server<3,>=2.4.0->notebook>=4.4.1->widgetsnbextension~=3.6.6->ipywidgets) (0.1.4)\n",
      "Requirement already satisfied: rfc3986-validator>=0.1.1 in c:\\users\\tjdud\\anaconda3\\lib\\site-packages (from jupyter-events>=0.9.0->jupyter-server<3,>=2.4.0->notebook>=4.4.1->widgetsnbextension~=3.6.6->ipywidgets) (0.1.1)\n",
      "Requirement already satisfied: beautifulsoup4 in c:\\users\\tjdud\\anaconda3\\lib\\site-packages (from nbconvert>=6.4.4->jupyter-server<3,>=2.4.0->notebook>=4.4.1->widgetsnbextension~=3.6.6->ipywidgets) (4.12.3)\n",
      "Requirement already satisfied: bleach!=5.0.0 in c:\\users\\tjdud\\anaconda3\\lib\\site-packages (from nbconvert>=6.4.4->jupyter-server<3,>=2.4.0->notebook>=4.4.1->widgetsnbextension~=3.6.6->ipywidgets) (4.1.0)\n",
      "Requirement already satisfied: defusedxml in c:\\users\\tjdud\\anaconda3\\lib\\site-packages (from nbconvert>=6.4.4->jupyter-server<3,>=2.4.0->notebook>=4.4.1->widgetsnbextension~=3.6.6->ipywidgets) (0.7.1)\n",
      "Requirement already satisfied: jupyterlab-pygments in c:\\users\\tjdud\\anaconda3\\lib\\site-packages (from nbconvert>=6.4.4->jupyter-server<3,>=2.4.0->notebook>=4.4.1->widgetsnbextension~=3.6.6->ipywidgets) (0.1.2)\n",
      "Requirement already satisfied: mistune<4,>=2.0.3 in c:\\users\\tjdud\\anaconda3\\lib\\site-packages (from nbconvert>=6.4.4->jupyter-server<3,>=2.4.0->notebook>=4.4.1->widgetsnbextension~=3.6.6->ipywidgets) (2.0.4)\n",
      "Requirement already satisfied: nbclient>=0.5.0 in c:\\users\\tjdud\\anaconda3\\lib\\site-packages (from nbconvert>=6.4.4->jupyter-server<3,>=2.4.0->notebook>=4.4.1->widgetsnbextension~=3.6.6->ipywidgets) (0.8.0)\n",
      "Requirement already satisfied: pandocfilters>=1.4.1 in c:\\users\\tjdud\\anaconda3\\lib\\site-packages (from nbconvert>=6.4.4->jupyter-server<3,>=2.4.0->notebook>=4.4.1->widgetsnbextension~=3.6.6->ipywidgets) (1.5.0)\n",
      "Requirement already satisfied: tinycss2 in c:\\users\\tjdud\\anaconda3\\lib\\site-packages (from nbconvert>=6.4.4->jupyter-server<3,>=2.4.0->notebook>=4.4.1->widgetsnbextension~=3.6.6->ipywidgets) (1.2.1)\n",
      "Requirement already satisfied: fastjsonschema in c:\\users\\tjdud\\anaconda3\\lib\\site-packages (from nbformat>=5.3.0->jupyter-server<3,>=2.4.0->notebook>=4.4.1->widgetsnbextension~=3.6.6->ipywidgets) (2.16.2)\n",
      "Requirement already satisfied: charset-normalizer<4,>=2 in c:\\users\\tjdud\\anaconda3\\lib\\site-packages (from requests>=2.31->jupyterlab-server<3,>=2.22.1->notebook>=4.4.1->widgetsnbextension~=3.6.6->ipywidgets) (2.0.4)\n",
      "Requirement already satisfied: urllib3<3,>=1.21.1 in c:\\users\\tjdud\\anaconda3\\lib\\site-packages (from requests>=2.31->jupyterlab-server<3,>=2.22.1->notebook>=4.4.1->widgetsnbextension~=3.6.6->ipywidgets) (2.2.2)\n",
      "Requirement already satisfied: certifi>=2017.4.17 in c:\\users\\tjdud\\anaconda3\\lib\\site-packages (from requests>=2.31->jupyterlab-server<3,>=2.22.1->notebook>=4.4.1->widgetsnbextension~=3.6.6->ipywidgets) (2024.6.2)\n",
      "Requirement already satisfied: debugpy>=1.6.5 in c:\\users\\tjdud\\anaconda3\\lib\\site-packages (from ipykernel->jupyterlab<4.1,>=4.0.2->notebook>=4.4.1->widgetsnbextension~=3.6.6->ipywidgets) (1.6.7)\n",
      "Requirement already satisfied: nest-asyncio in c:\\users\\tjdud\\anaconda3\\lib\\site-packages (from ipykernel->jupyterlab<4.1,>=4.0.2->notebook>=4.4.1->widgetsnbextension~=3.6.6->ipywidgets) (1.6.0)\n",
      "Requirement already satisfied: psutil in c:\\users\\tjdud\\anaconda3\\lib\\site-packages (from ipykernel->jupyterlab<4.1,>=4.0.2->notebook>=4.4.1->widgetsnbextension~=3.6.6->ipywidgets) (5.9.0)\n",
      "Requirement already satisfied: webencodings in c:\\users\\tjdud\\anaconda3\\lib\\site-packages (from bleach!=5.0.0->nbconvert>=6.4.4->jupyter-server<3,>=2.4.0->notebook>=4.4.1->widgetsnbextension~=3.6.6->ipywidgets) (0.5.1)\n",
      "Collecting fqdn (from jsonschema[format-nongpl]>=4.18.0->jupyter-events>=0.9.0->jupyter-server<3,>=2.4.0->notebook>=4.4.1->widgetsnbextension~=3.6.6->ipywidgets)\n",
      "  Downloading fqdn-1.5.1-py3-none-any.whl.metadata (1.4 kB)\n",
      "Collecting isoduration (from jsonschema[format-nongpl]>=4.18.0->jupyter-events>=0.9.0->jupyter-server<3,>=2.4.0->notebook>=4.4.1->widgetsnbextension~=3.6.6->ipywidgets)\n",
      "  Downloading isoduration-20.11.0-py3-none-any.whl.metadata (5.7 kB)\n",
      "Requirement already satisfied: jsonpointer>1.13 in c:\\users\\tjdud\\anaconda3\\lib\\site-packages (from jsonschema[format-nongpl]>=4.18.0->jupyter-events>=0.9.0->jupyter-server<3,>=2.4.0->notebook>=4.4.1->widgetsnbextension~=3.6.6->ipywidgets) (2.1)\n",
      "Collecting uri-template (from jsonschema[format-nongpl]>=4.18.0->jupyter-events>=0.9.0->jupyter-server<3,>=2.4.0->notebook>=4.4.1->widgetsnbextension~=3.6.6->ipywidgets)\n",
      "  Downloading uri_template-1.3.0-py3-none-any.whl.metadata (8.8 kB)\n",
      "Collecting webcolors>=1.11 (from jsonschema[format-nongpl]>=4.18.0->jupyter-events>=0.9.0->jupyter-server<3,>=2.4.0->notebook>=4.4.1->widgetsnbextension~=3.6.6->ipywidgets)\n",
      "  Downloading webcolors-24.8.0-py3-none-any.whl.metadata (2.6 kB)\n",
      "Requirement already satisfied: cffi>=1.0.1 in c:\\users\\tjdud\\anaconda3\\lib\\site-packages (from argon2-cffi-bindings->argon2-cffi>=21.1->jupyter-server<3,>=2.4.0->notebook>=4.4.1->widgetsnbextension~=3.6.6->ipywidgets) (1.16.0)\n",
      "Requirement already satisfied: soupsieve>1.2 in c:\\users\\tjdud\\anaconda3\\lib\\site-packages (from beautifulsoup4->nbconvert>=6.4.4->jupyter-server<3,>=2.4.0->notebook>=4.4.1->widgetsnbextension~=3.6.6->ipywidgets) (2.5)\n",
      "Requirement already satisfied: pycparser in c:\\users\\tjdud\\anaconda3\\lib\\site-packages (from cffi>=1.0.1->argon2-cffi-bindings->argon2-cffi>=21.1->jupyter-server<3,>=2.4.0->notebook>=4.4.1->widgetsnbextension~=3.6.6->ipywidgets) (2.21)\n",
      "Requirement already satisfied: arrow>=0.15.0 in c:\\users\\tjdud\\anaconda3\\lib\\site-packages (from isoduration->jsonschema[format-nongpl]>=4.18.0->jupyter-events>=0.9.0->jupyter-server<3,>=2.4.0->notebook>=4.4.1->widgetsnbextension~=3.6.6->ipywidgets) (1.2.3)\n",
      "Downloading webcolors-24.8.0-py3-none-any.whl (15 kB)\n",
      "Downloading fqdn-1.5.1-py3-none-any.whl (9.1 kB)\n",
      "Downloading isoduration-20.11.0-py3-none-any.whl (11 kB)\n",
      "Downloading uri_template-1.3.0-py3-none-any.whl (11 kB)\n",
      "Installing collected packages: webcolors, uri-template, fqdn, isoduration\n",
      "Successfully installed fqdn-1.5.1 isoduration-20.11.0 uri-template-1.3.0 webcolors-24.8.0\n",
      "Note: you may need to restart the kernel to use updated packages.\n"
     ]
    }
   ],
   "source": [
    "pip install ipywidgets"
   ]
  },
  {
   "cell_type": "code",
   "execution_count": 93,
   "metadata": {},
   "outputs": [
    {
     "name": "stdout",
     "output_type": "stream",
     "text": [
      "Requirement already satisfied: jupyterlab-widgets in c:\\users\\tjdud\\anaconda3\\lib\\site-packages (1.0.0)\n",
      "Note: you may need to restart the kernel to use updated packages.\n"
     ]
    }
   ],
   "source": [
    "pip install jupyterlab-widgets"
   ]
  },
  {
   "cell_type": "code",
   "execution_count": 94,
   "metadata": {},
   "outputs": [
    {
     "data": {
      "application/vnd.jupyter.widget-view+json": {
       "model_id": "2452874c8d914457827c5f1553dbd012",
       "version_major": 2,
       "version_minor": 0
      },
      "text/plain": [
       "Summarize dataset:   0%|          | 0/5 [00:00<?, ?it/s]"
      ]
     },
     "metadata": {},
     "output_type": "display_data"
    },
    {
     "data": {
      "application/vnd.jupyter.widget-view+json": {
       "model_id": "053e01bd4e9640d588e95f1507d7c51b",
       "version_major": 2,
       "version_minor": 0
      },
      "text/plain": [
       "Generate report structure:   0%|          | 0/1 [00:00<?, ?it/s]"
      ]
     },
     "metadata": {},
     "output_type": "display_data"
    },
    {
     "data": {
      "application/vnd.jupyter.widget-view+json": {
       "model_id": "a4325eb4180148f5812563931e12beb7",
       "version_major": 2,
       "version_minor": 0
      },
      "text/plain": [
       "Render HTML:   0%|          | 0/1 [00:00<?, ?it/s]"
      ]
     },
     "metadata": {},
     "output_type": "display_data"
    },
    {
     "data": {
      "application/vnd.jupyter.widget-view+json": {
       "model_id": "fc8c2f9954f244d3ae0364fa67d51e41",
       "version_major": 2,
       "version_minor": 0
      },
      "text/plain": [
       "Export report to file:   0%|          | 0/1 [00:00<?, ?it/s]"
      ]
     },
     "metadata": {},
     "output_type": "display_data"
    }
   ],
   "source": [
    "import pandas as pd\n",
    "from ydata_profiling import ProfileReport\n",
    "\n",
    "# 예제 데이터 로드\n",
    "\n",
    "# 데이터 프로파일링 수행\n",
    "profile = ProfileReport(base_data, title=\"Data Profiling Report\", explorative=True)\n",
    "\n",
    "profile.to_file(\"data_profiling_report.html\")"
   ]
  },
  {
   "cell_type": "code",
   "execution_count": 92,
   "metadata": {},
   "outputs": [
    {
     "data": {
      "application/vnd.jupyter.widget-view+json": {
       "model_id": "2037da166a7a40ddabd993a5ef82e2a8",
       "version_major": 2,
       "version_minor": 0
      },
      "text/plain": [
       "Summarize dataset:   0%|          | 0/5 [00:00<?, ?it/s]"
      ]
     },
     "metadata": {},
     "output_type": "display_data"
    },
    {
     "data": {
      "application/vnd.jupyter.widget-view+json": {
       "model_id": "da8a802183b147698bdfd035d7fe4637",
       "version_major": 2,
       "version_minor": 0
      },
      "text/plain": [
       "Generate report structure:   0%|          | 0/1 [00:00<?, ?it/s]"
      ]
     },
     "metadata": {},
     "output_type": "display_data"
    },
    {
     "data": {
      "application/vnd.jupyter.widget-view+json": {
       "model_id": "9445c2fa785549a4a5e2177c1a453c82",
       "version_major": 2,
       "version_minor": 0
      },
      "text/plain": [
       "Render HTML:   0%|          | 0/1 [00:00<?, ?it/s]"
      ]
     },
     "metadata": {},
     "output_type": "display_data"
    },
    {
     "data": {
      "application/vnd.jupyter.widget-view+json": {
       "model_id": "be74987ad1f44b70ac8d6fe7b8cfe1cd",
       "version_major": 2,
       "version_minor": 0
      },
      "text/plain": [
       "Export report to file:   0%|          | 0/1 [00:00<?, ?it/s]"
      ]
     },
     "metadata": {},
     "output_type": "display_data"
    }
   ],
   "source": []
  },
  {
   "cell_type": "code",
   "execution_count": null,
   "metadata": {},
   "outputs": [],
   "source": []
  }
 ],
 "metadata": {
  "colab": {
   "provenance": [],
   "toc_visible": true
  },
  "kernelspec": {
   "display_name": "Python 3 (ipykernel)",
   "language": "python",
   "name": "python3"
  },
  "language_info": {
   "codemirror_mode": {
    "name": "ipython",
    "version": 3
   },
   "file_extension": ".py",
   "mimetype": "text/x-python",
   "name": "python",
   "nbconvert_exporter": "python",
   "pygments_lexer": "ipython3",
   "version": "3.12.4"
  }
 },
 "nbformat": 4,
 "nbformat_minor": 4
}
