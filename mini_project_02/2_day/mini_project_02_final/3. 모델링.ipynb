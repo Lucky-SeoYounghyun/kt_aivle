{
 "cells": [
  {
   "cell_type": "markdown",
   "metadata": {
    "id": "3LKUcK33JaUj"
   },
   "source": [
    "# AIVLE스쿨 2차 미니프로젝트: 신규 아파트 주차 수요 예측"
   ]
  },
  {
   "cell_type": "markdown",
   "metadata": {
    "id": "kYP7mb9YJaUk"
   },
   "source": [
    "<img src = \"https://github.com/Jangrae/img/blob/master/parking.png?raw=true\" width=800, align=\"left\"/>"
   ]
  },
  {
   "cell_type": "markdown",
   "metadata": {
    "id": "mJlY5pHkC2AM"
   },
   "source": [
    "# 단계 3: 모델링"
   ]
  },
  {
   "cell_type": "markdown",
   "metadata": {
    "id": "-FPypzell2uc"
   },
   "source": [
    "## [미션]\n",
    "\n",
    "- 모델링을 수행합니다.\n",
    "    - 전처리를 추가로 진행합니다.\n",
    "    - 4개 이상의 알고리즘을 사용해 모델링을 수행합니다.\n",
    "    - 각 모델에 대해 성능 튜닝을 수행합니다.\n",
    "    - 성능을 비교해 최선의 모델을 선정합니다.\n",
    "- 데이터 파이프라인 함수를 만듭니다.\n",
    "- 새로운 데이터를 읽어와 예측을 수행합니다."
   ]
  },
  {
   "cell_type": "markdown",
   "metadata": {
    "id": "NCptKiLOAn7l"
   },
   "source": [
    "## 1. 환경설정"
   ]
  },
  {
   "cell_type": "markdown",
   "metadata": {
    "id": "gklxNfgNpkls"
   },
   "source": [
    "### (1) 로컬 수행(Anaconda)\n",
    "\n",
    "- project 폴더에 필요한 파일들을 넣고, 본 파일을 열었다면, 별도 경로 지정이 필요하지 않습니다."
   ]
  },
  {
   "cell_type": "code",
   "execution_count": 49,
   "metadata": {
    "id": "PNI6X2yxpkls",
    "tags": []
   },
   "outputs": [],
   "source": [
    "# 기본 경로\n",
    "path = ''"
   ]
  },
  {
   "cell_type": "markdown",
   "metadata": {
    "id": "7rWT4biQpkls"
   },
   "source": [
    "### (2) 구글 콜랩 수행\n",
    "\n",
    "- 구글 콜랩을 사용중이면 구글 드라이브를 연결합니다."
   ]
  },
  {
   "cell_type": "code",
   "execution_count": 51,
   "metadata": {
    "id": "CLasRk8Spklt",
    "tags": []
   },
   "outputs": [],
   "source": [
    "# 구글 드라이브 연결, 패스 지정\n",
    "import sys\n",
    "if 'google.colab' in sys.modules:\n",
    "    from google.colab import drive\n",
    "    drive.mount('/content/drive')\n",
    "    path = '/content/drive/MyDrive/project/'"
   ]
  },
  {
   "cell_type": "markdown",
   "metadata": {
    "id": "_pZ0wODmJaUl"
   },
   "source": [
    "### (3) 한글 폰트 표시용 라이브러리 설치"
   ]
  },
  {
   "cell_type": "code",
   "execution_count": null,
   "metadata": {
    "id": "OB5myH_xJaUl"
   },
   "outputs": [],
   "source": [
    "# 한글 표시를 위한 라이브러리 설치\n",
    "#!pip install koreanize_matplotlib -q"
   ]
  },
  {
   "cell_type": "markdown",
   "metadata": {
    "id": "nePA7QICJaUm"
   },
   "source": [
    "### (4) 라이브러리 불러오기"
   ]
  },
  {
   "cell_type": "code",
   "execution_count": 53,
   "metadata": {
    "id": "6CajyIHEJaUm",
    "tags": []
   },
   "outputs": [],
   "source": [
    "# 기본 라이브러리 불러오기\n",
    "import numpy as np\n",
    "import pandas as pd\n",
    "import matplotlib.pyplot as plt\n",
    "import koreanize_matplotlib\n",
    "import seaborn as sns\n",
    "\n",
    "# 모델링용 라이브러리 불러오기\n",
    "\n",
    "from sklearn.model_selection import train_test_split\n",
    "from sklearn.model_selection import cross_val_score\n",
    "from sklearn.preprocessing import MinMaxScaler\n",
    "\n",
    "from sklearn.linear_model import LinearRegression\n",
    "from sklearn.neighbors import KNeighborsRegressor\n",
    "from sklearn.tree import DecisionTreeRegressor\n",
    "from sklearn.ensemble import RandomForestRegressor\n",
    "from sklearn.model_selection import GridSearchCV\n",
    "from lightgbm import LGBMRegressor\n",
    "import xgboost as xgb\n",
    "\n",
    "from sklearn.metrics import r2_score\n",
    "\n",
    "# 기타 라이브러리 불러기기\n",
    "import joblib\n",
    "import warnings\n",
    "from sklearn.cluster import KMeans\n",
    "from sklearn.preprocessing import LabelEncoder\n",
    "\n",
    "warnings.filterwarnings(action='ignore')\n",
    "%config InlineBackend.figure_format='retina'"
   ]
  },
  {
   "cell_type": "markdown",
   "metadata": {
    "id": "dPfPWkG1txqV"
   },
   "source": [
    "### (5) 데이터 불러오기\n",
    "\n",
    "- joblib.dump() 함수를 사용해 base_data2.pkl 파일을 읽어옵니다.\n",
    "- 읽어온 데이터를 data 데이터프레임으로 선언하고 기본 정보를 확인합니다."
   ]
  },
  {
   "cell_type": "code",
   "execution_count": 55,
   "metadata": {
    "id": "X2kI5qHzwEjg"
   },
   "outputs": [
    {
     "data": {
      "text/html": [
       "<div>\n",
       "<style scoped>\n",
       "    .dataframe tbody tr th:only-of-type {\n",
       "        vertical-align: middle;\n",
       "    }\n",
       "\n",
       "    .dataframe tbody tr th {\n",
       "        vertical-align: top;\n",
       "    }\n",
       "\n",
       "    .dataframe thead th {\n",
       "        text-align: right;\n",
       "    }\n",
       "</style>\n",
       "<table border=\"1\" class=\"dataframe\">\n",
       "  <thead>\n",
       "    <tr style=\"text-align: right;\">\n",
       "      <th></th>\n",
       "      <th>총세대수</th>\n",
       "      <th>건물형태</th>\n",
       "      <th>난방방식</th>\n",
       "      <th>승강기설치여부</th>\n",
       "      <th>실차량수</th>\n",
       "      <th>준공연도</th>\n",
       "      <th>총면적</th>\n",
       "      <th>면적16_26</th>\n",
       "      <th>면적26_38</th>\n",
       "      <th>면적38_46</th>\n",
       "      <th>면적46_51</th>\n",
       "      <th>면적51_59</th>\n",
       "      <th>면적59_74</th>\n",
       "      <th>면적74_85</th>\n",
       "      <th>면적85_127</th>\n",
       "      <th>면적127_140</th>\n",
       "      <th>임대보증금</th>\n",
       "      <th>임대료</th>\n",
       "    </tr>\n",
       "  </thead>\n",
       "  <tbody>\n",
       "    <tr>\n",
       "      <th>3</th>\n",
       "      <td>477</td>\n",
       "      <td>복도식</td>\n",
       "      <td>지역</td>\n",
       "      <td>1</td>\n",
       "      <td>943</td>\n",
       "      <td>2014</td>\n",
       "      <td>47058.9273</td>\n",
       "      <td>0</td>\n",
       "      <td>0</td>\n",
       "      <td>0</td>\n",
       "      <td>0</td>\n",
       "      <td>0</td>\n",
       "      <td>199</td>\n",
       "      <td>278</td>\n",
       "      <td>0</td>\n",
       "      <td>0</td>\n",
       "      <td>1.015167e+08</td>\n",
       "      <td>950305.000000</td>\n",
       "    </tr>\n",
       "    <tr>\n",
       "      <th>4</th>\n",
       "      <td>15</td>\n",
       "      <td>복도식</td>\n",
       "      <td>개별</td>\n",
       "      <td>1</td>\n",
       "      <td>21</td>\n",
       "      <td>2013</td>\n",
       "      <td>543.0268</td>\n",
       "      <td>14</td>\n",
       "      <td>1</td>\n",
       "      <td>0</td>\n",
       "      <td>0</td>\n",
       "      <td>0</td>\n",
       "      <td>0</td>\n",
       "      <td>0</td>\n",
       "      <td>0</td>\n",
       "      <td>0</td>\n",
       "      <td>5.522750e+07</td>\n",
       "      <td>340148.333333</td>\n",
       "    </tr>\n",
       "    <tr>\n",
       "      <th>5</th>\n",
       "      <td>69</td>\n",
       "      <td>계단식</td>\n",
       "      <td>개별</td>\n",
       "      <td>1</td>\n",
       "      <td>830</td>\n",
       "      <td>2014</td>\n",
       "      <td>4802.4651</td>\n",
       "      <td>0</td>\n",
       "      <td>26</td>\n",
       "      <td>0</td>\n",
       "      <td>0</td>\n",
       "      <td>43</td>\n",
       "      <td>0</td>\n",
       "      <td>0</td>\n",
       "      <td>0</td>\n",
       "      <td>0</td>\n",
       "      <td>2.878033e+07</td>\n",
       "      <td>450920.000000</td>\n",
       "    </tr>\n",
       "    <tr>\n",
       "      <th>10</th>\n",
       "      <td>908</td>\n",
       "      <td>계단식</td>\n",
       "      <td>지역</td>\n",
       "      <td>1</td>\n",
       "      <td>1119</td>\n",
       "      <td>2018</td>\n",
       "      <td>91706.2788</td>\n",
       "      <td>0</td>\n",
       "      <td>0</td>\n",
       "      <td>0</td>\n",
       "      <td>0</td>\n",
       "      <td>0</td>\n",
       "      <td>756</td>\n",
       "      <td>152</td>\n",
       "      <td>0</td>\n",
       "      <td>0</td>\n",
       "      <td>6.133333e+07</td>\n",
       "      <td>573333.333333</td>\n",
       "    </tr>\n",
       "    <tr>\n",
       "      <th>11</th>\n",
       "      <td>160</td>\n",
       "      <td>계단식</td>\n",
       "      <td>지역</td>\n",
       "      <td>1</td>\n",
       "      <td>556</td>\n",
       "      <td>2014</td>\n",
       "      <td>20155.8967</td>\n",
       "      <td>0</td>\n",
       "      <td>0</td>\n",
       "      <td>0</td>\n",
       "      <td>0</td>\n",
       "      <td>0</td>\n",
       "      <td>43</td>\n",
       "      <td>146</td>\n",
       "      <td>0</td>\n",
       "      <td>0</td>\n",
       "      <td>3.609400e+07</td>\n",
       "      <td>634472.500000</td>\n",
       "    </tr>\n",
       "  </tbody>\n",
       "</table>\n",
       "</div>"
      ],
      "text/plain": [
       "    총세대수 건물형태 난방방식  승강기설치여부  실차량수  준공연도         총면적  면적16_26  면적26_38  \\\n",
       "3    477  복도식   지역        1   943  2014  47058.9273        0        0   \n",
       "4     15  복도식   개별        1    21  2013    543.0268       14        1   \n",
       "5     69  계단식   개별        1   830  2014   4802.4651        0       26   \n",
       "10   908  계단식   지역        1  1119  2018  91706.2788        0        0   \n",
       "11   160  계단식   지역        1   556  2014  20155.8967        0        0   \n",
       "\n",
       "    면적38_46  면적46_51  면적51_59  면적59_74  면적74_85  면적85_127  면적127_140  \\\n",
       "3         0        0        0      199      278         0          0   \n",
       "4         0        0        0        0        0         0          0   \n",
       "5         0        0       43        0        0         0          0   \n",
       "10        0        0        0      756      152         0          0   \n",
       "11        0        0        0       43      146         0          0   \n",
       "\n",
       "           임대보증금            임대료  \n",
       "3   1.015167e+08  950305.000000  \n",
       "4   5.522750e+07  340148.333333  \n",
       "5   2.878033e+07  450920.000000  \n",
       "10  6.133333e+07  573333.333333  \n",
       "11  3.609400e+07  634472.500000  "
      ]
     },
     "execution_count": 55,
     "metadata": {},
     "output_type": "execute_result"
    }
   ],
   "source": [
    "# 파일 읽어오기\n",
    "data = joblib.load(path+'base_data2.pkl')\n",
    "\n",
    "# 확인\n",
    "data.head()"
   ]
  },
  {
   "cell_type": "code",
   "execution_count": null,
   "metadata": {
    "id": "nx3ZFaN9Xmv_"
   },
   "outputs": [],
   "source": [
    "\n"
   ]
  },
  {
   "cell_type": "code",
   "execution_count": null,
   "metadata": {
    "id": "Nrv3NIlZ08dt"
   },
   "outputs": [],
   "source": [
    "\n"
   ]
  },
  {
   "cell_type": "code",
   "execution_count": null,
   "metadata": {},
   "outputs": [],
   "source": [
    "\n"
   ]
  },
  {
   "cell_type": "code",
   "execution_count": null,
   "metadata": {},
   "outputs": [],
   "source": [
    "\n"
   ]
  },
  {
   "cell_type": "markdown",
   "metadata": {
    "id": "xkEmuB30wRaS"
   },
   "source": [
    "### (6) 함수 생성\n",
    "\n",
    "- 실젯값과 모델이 예측한 값을 시각화해 비교할 함수를 만듭니다."
   ]
  },
  {
   "cell_type": "code",
   "execution_count": null,
   "metadata": {
    "id": "QMo-4gMpJaUm"
   },
   "outputs": [],
   "source": [
    "# 실젯값, 예측값 비교 함수 만들기\n",
    "# def model_plot(y_test, y_pred):\n",
    "#     plt.figure(figsize=(10, 3))\n",
    "#     plt.plot(y_test.values, label='Actual', linewidth=0.7, marker='o', markersize=2)\n",
    "#     plt.plot(y_pred, label='Predicted', linewidth=0.7, marker='o', markersize=2)\n",
    "#     plt.legend()\n",
    "#     plt.show()"
   ]
  },
  {
   "cell_type": "markdown",
   "metadata": {
    "id": "_rnxI9AX34So"
   },
   "source": [
    "## 2. 모델링\n",
    "\n",
    "- 모델링을 위한 결측치 처리, 데이터 분할, 스케일링, 가변수화 등을 수행합니다.\n",
    "- 4개 이상의 알고리즘을 사용하여 모델을 만듭니다.\n",
    "- 모델 이름은 서로 다르게 합니다. (예: model1, model2...)\n",
    "- Linear Regression 이외의 알고리즘을 사용한 모델은 GridSearchCV() 함수로 성능 최적화를 수행합니다.\n",
    "- 적절한 평가지표로 모델의 성능을 평가합니다.\n",
    "- 실젯값과 예측값을 시각화해 비교합니다.\n",
    "- 성능 비교를 통해 최선의 모델을 선정합니다."
   ]
  },
  {
   "cell_type": "markdown",
   "metadata": {
    "id": "I2dCzUzIdmGA"
   },
   "source": [
    "### (1) 데이터 전처리\n",
    "\n",
    "- 필요한 전처리를 수행합니다."
   ]
  },
  {
   "cell_type": "markdown",
   "metadata": {
    "id": "LwhUygCD-a5-"
   },
   "source": [
    "#### 1) 가변수화\n",
    "\n",
    "- '건물형태', '난방방식' 변수에 대해 가변수화를 수행합니다."
   ]
  },
  {
   "cell_type": "code",
   "execution_count": 57,
   "metadata": {
    "id": "Y8UVpKTK2XLJ"
   },
   "outputs": [],
   "source": [
    "dumm_cols=['건물형태', '난방방식']\n",
    "data=pd.get_dummies(data,columns=dumm_cols,drop_first=True,dtype=int)\n"
   ]
  },
  {
   "cell_type": "markdown",
   "metadata": {
    "id": "2LoNLbrAJaUn"
   },
   "source": [
    "#### 2) x, y 분리\n",
    "\n",
    "- Target를 지정하고, x와 y로 분리합니다."
   ]
  },
  {
   "cell_type": "code",
   "execution_count": 59,
   "metadata": {
    "id": "_qS6q_m0JaUn"
   },
   "outputs": [],
   "source": [
    "target='실차량수'\n",
    "\n",
    "x=data.drop(columns=target)\n",
    "y=data.loc[:,target]\n",
    "\n"
   ]
  },
  {
   "cell_type": "markdown",
   "metadata": {
    "id": "dE_cOzTuBB_j"
   },
   "source": [
    "#### 3) 학습용, 평가용 분리\n",
    "\n",
    "- 학습용, 평가용 데이터를 적절한 비율로 분리합니다."
   ]
  },
  {
   "cell_type": "code",
   "execution_count": 61,
   "metadata": {
    "id": "erDo9ThJBB5n"
   },
   "outputs": [],
   "source": [
    "\n",
    "x_train,x_test,y_train,y_test=train_test_split(x,y,test_size=0.3)\n"
   ]
  },
  {
   "cell_type": "markdown",
   "metadata": {
    "id": "eaN7IkOy_mBI"
   },
   "source": [
    "#### 4) 스케일링\n",
    "\n",
    "- 필요한 경우 스케일링을 진행합니다.\n",
    "- 예를 들어 KNN 알고리즘을 사용할 경우입니다."
   ]
  },
  {
   "cell_type": "code",
   "execution_count": 63,
   "metadata": {
    "id": "Ap5GTgOpgX_g"
   },
   "outputs": [],
   "source": [
    "\n",
    "scaler=MinMaxScaler()\n",
    "scaler.fit(x_train)\n",
    "x_train_s=scaler.transform(x_train)\n",
    "x_test_s=scaler.transform(x_test)\n"
   ]
  },
  {
   "cell_type": "markdown",
   "metadata": {
    "id": "etAA2LwF4SWn"
   },
   "source": [
    "### (2) 모델 1: 알고리즘"
   ]
  },
  {
   "cell_type": "code",
   "execution_count": 65,
   "metadata": {
    "id": "fhxPV3EvInno"
   },
   "outputs": [
    {
     "name": "stdout",
     "output_type": "stream",
     "text": [
      "R2 :  0.8559406097251184\n"
     ]
    }
   ],
   "source": [
    "cv_score=cross_val_score(LinearRegression(),x_train,y_train,cv=10)\n",
    "\n",
    "result={}\n",
    "result['LinearRegression']=cv_score.mean\n",
    "print('R2 : ',cv_score.mean())"
   ]
  },
  {
   "cell_type": "markdown",
   "metadata": {
    "id": "FydcSYl88hv7"
   },
   "source": [
    "### (3) 모델 2: 알고리즘\n"
   ]
  },
  {
   "cell_type": "code",
   "execution_count": 67,
   "metadata": {
    "id": "tRykzP9C8hv8"
   },
   "outputs": [
    {
     "name": "stdout",
     "output_type": "stream",
     "text": [
      "R2 :  0.7291045926310289\n"
     ]
    }
   ],
   "source": [
    "cv_score=cross_val_score(KNeighborsRegressor(),x_train_s,y_train,cv=10)\n",
    "\n",
    "result['KNeighborsRegressor']=cv_score.mean()\n",
    "print('R2 : ',cv_score.mean())"
   ]
  },
  {
   "cell_type": "markdown",
   "metadata": {
    "id": "XSgCYQ7fhc0O"
   },
   "source": [
    "### (4) 모델 3: 알고리즘"
   ]
  },
  {
   "cell_type": "code",
   "execution_count": 69,
   "metadata": {
    "id": "sWJSVdb36ugE"
   },
   "outputs": [
    {
     "name": "stdout",
     "output_type": "stream",
     "text": [
      "R2 :  0.7843731442434836\n"
     ]
    }
   ],
   "source": [
    "cv_score=cross_val_score(DecisionTreeRegressor(max_depth=5),x_train_s,y_train,cv=10)\n",
    "\n",
    "result['DecisionTreeRegressor']=cv_score.mean()\n",
    "print('R2 : ',cv_score.mean())"
   ]
  },
  {
   "cell_type": "markdown",
   "metadata": {
    "id": "1tBDqbDGJaUp"
   },
   "source": [
    "### (5) 모델 4: 알고리즘"
   ]
  },
  {
   "cell_type": "code",
   "execution_count": 71,
   "metadata": {
    "id": "vhyK2r3aJaUp"
   },
   "outputs": [
    {
     "name": "stdout",
     "output_type": "stream",
     "text": [
      "R2 :  0.8613098629598751\n"
     ]
    }
   ],
   "source": [
    "cv_score=cross_val_score(RandomForestRegressor(max_depth=5),x_train_s,y_train,cv=10)\n",
    "\n",
    "result['RandomForestRegressor']=cv_score.mean()\n",
    "print('R2 : ',cv_score.mean())"
   ]
  },
  {
   "cell_type": "markdown",
   "metadata": {
    "id": "1tBDqbDGJaUp"
   },
   "source": [
    "### (6) 모델 5: 알고리즘"
   ]
  },
  {
   "cell_type": "code",
   "execution_count": 73,
   "metadata": {
    "id": "vhyK2r3aJaUp"
   },
   "outputs": [
    {
     "name": "stdout",
     "output_type": "stream",
     "text": [
      "R2 :  0.8574707293536518\n"
     ]
    }
   ],
   "source": [
    "cv_score=cross_val_score(LGBMRegressor(verbose=-1),x_train_s,y_train,cv=10)\n",
    "\n",
    "result['LGBMRegressor']=cv_score.mean()\n",
    "print('R2 : ',cv_score.mean())"
   ]
  },
  {
   "cell_type": "code",
   "execution_count": 103,
   "metadata": {},
   "outputs": [
    {
     "name": "stdout",
     "output_type": "stream",
     "text": [
      "LinearRegression = 0.8559406097251184\n",
      "KNeighborsRegressor = 0.7291045926310289\n",
      "DecisionTreeRegressor = 0.7843731442434836\n",
      "RandomForestRegressor = 0.8613098629598751\n",
      "LGBMRegressor = 0.8574707293536518\n"
     ]
    }
   ],
   "source": [
    "for i in result:\n",
    "    print(f'{i} = {result[i]}')"
   ]
  },
  {
   "cell_type": "markdown",
   "metadata": {
    "id": "4-QzT2U3ixWd"
   },
   "source": [
    "### (7) 성능 비교\n",
    "\n",
    "- 각 모델의 성능을 비교합니다."
   ]
  },
  {
   "cell_type": "code",
   "execution_count": 75,
   "metadata": {
    "id": "r47gFIzcJaUp"
   },
   "outputs": [
    {
     "data": {
      "text/plain": [
       "<BarContainer object of 5 artists>"
      ]
     },
     "execution_count": 75,
     "metadata": {},
     "output_type": "execute_result"
    },
    {
     "data": {
      "image/png": "[encoded data removed]",
      "text/plain": [
       "<Figure size 640x480 with 1 Axes>"
      ]
     },
     "metadata": {
      "image/png": {
       "height": 412,
       "width": 681
      }
     },
     "output_type": "display_data"
    }
   ],
   "source": [
    "\n",
    "plt.barh(y=list(result),width=result.values())\n"
   ]
  },
  {
   "cell_type": "markdown",
   "metadata": {
    "id": "L9DOFUlDkV7X"
   },
   "source": [
    "## 3. 파이프라인 구축\n",
    "\n",
    "- 새로운 데이터를 불러오고, 이 데이터를 처리할 파이프라인 함수를 만듭니다."
   ]
  },
  {
   "cell_type": "markdown",
   "metadata": {
    "id": "5WOfAg25Mfe7"
   },
   "source": [
    "### (1) New Data 불러오기\n",
    "\n",
    "- test.xlsx 파일을 읽어와 new_data 데이터프레임으로 선언합니다.\n",
    "- 해당 데이터는 '실차량수' 변수가 없는 것 외에는, 최초 데이터와 동일한 구조입니다.\n",
    "- 이 데이터를 대상으로 전처리와 예측을 수행합니다."
   ]
  },
  {
   "cell_type": "code",
   "execution_count": 77,
   "metadata": {
    "id": "OIzQ0HCQdJ6c"
   },
   "outputs": [
    {
     "data": {
      "text/html": [
       "<div>\n",
       "<style scoped>\n",
       "    .dataframe tbody tr th:only-of-type {\n",
       "        vertical-align: middle;\n",
       "    }\n",
       "\n",
       "    .dataframe tbody tr th {\n",
       "        vertical-align: top;\n",
       "    }\n",
       "\n",
       "    .dataframe thead th {\n",
       "        text-align: right;\n",
       "    }\n",
       "</style>\n",
       "<table border=\"1\" class=\"dataframe\">\n",
       "  <thead>\n",
       "    <tr style=\"text-align: right;\">\n",
       "      <th></th>\n",
       "      <th>단지코드</th>\n",
       "      <th>단지명</th>\n",
       "      <th>총세대수</th>\n",
       "      <th>전용면적별세대수</th>\n",
       "      <th>지역</th>\n",
       "      <th>준공일자</th>\n",
       "      <th>건물형태</th>\n",
       "      <th>난방방식</th>\n",
       "      <th>승강기설치여부</th>\n",
       "      <th>단지내주차면수</th>\n",
       "      <th>전용면적</th>\n",
       "      <th>공용면적</th>\n",
       "      <th>임대보증금</th>\n",
       "      <th>임대료</th>\n",
       "    </tr>\n",
       "  </thead>\n",
       "  <tbody>\n",
       "    <tr>\n",
       "      <th>0</th>\n",
       "      <td>C0005</td>\n",
       "      <td>서울석촌 도시형주택(공임10년)</td>\n",
       "      <td>20</td>\n",
       "      <td>6</td>\n",
       "      <td>서울</td>\n",
       "      <td>20121115</td>\n",
       "      <td>복도식</td>\n",
       "      <td>개별가스난방</td>\n",
       "      <td>전체동 설치</td>\n",
       "      <td>9</td>\n",
       "      <td>17.53</td>\n",
       "      <td>11.7251</td>\n",
       "      <td>50449000</td>\n",
       "      <td>263710</td>\n",
       "    </tr>\n",
       "    <tr>\n",
       "      <th>1</th>\n",
       "      <td>C0005</td>\n",
       "      <td>서울석촌 도시형주택(공임10년)</td>\n",
       "      <td>20</td>\n",
       "      <td>10</td>\n",
       "      <td>서울</td>\n",
       "      <td>20121115</td>\n",
       "      <td>복도식</td>\n",
       "      <td>개별가스난방</td>\n",
       "      <td>전체동 설치</td>\n",
       "      <td>9</td>\n",
       "      <td>24.71</td>\n",
       "      <td>16.5275</td>\n",
       "      <td>52743000</td>\n",
       "      <td>321040</td>\n",
       "    </tr>\n",
       "    <tr>\n",
       "      <th>2</th>\n",
       "      <td>C0005</td>\n",
       "      <td>서울석촌 도시형주택(공임10년)</td>\n",
       "      <td>20</td>\n",
       "      <td>4</td>\n",
       "      <td>서울</td>\n",
       "      <td>20121115</td>\n",
       "      <td>복도식</td>\n",
       "      <td>개별가스난방</td>\n",
       "      <td>전체동 설치</td>\n",
       "      <td>9</td>\n",
       "      <td>26.72</td>\n",
       "      <td>17.8720</td>\n",
       "      <td>53890000</td>\n",
       "      <td>332510</td>\n",
       "    </tr>\n",
       "    <tr>\n",
       "      <th>3</th>\n",
       "      <td>C0017</td>\n",
       "      <td>대구혁신센텀힐즈</td>\n",
       "      <td>822</td>\n",
       "      <td>228</td>\n",
       "      <td>대구경북</td>\n",
       "      <td>20180221</td>\n",
       "      <td>계단식</td>\n",
       "      <td>지역난방</td>\n",
       "      <td>NaN</td>\n",
       "      <td>824</td>\n",
       "      <td>51.87</td>\n",
       "      <td>20.9266</td>\n",
       "      <td>29298000</td>\n",
       "      <td>411200</td>\n",
       "    </tr>\n",
       "    <tr>\n",
       "      <th>4</th>\n",
       "      <td>C0017</td>\n",
       "      <td>대구혁신센텀힐즈</td>\n",
       "      <td>822</td>\n",
       "      <td>56</td>\n",
       "      <td>대구경북</td>\n",
       "      <td>20180221</td>\n",
       "      <td>계단식</td>\n",
       "      <td>지역난방</td>\n",
       "      <td>NaN</td>\n",
       "      <td>824</td>\n",
       "      <td>59.85</td>\n",
       "      <td>24.1461</td>\n",
       "      <td>38550000</td>\n",
       "      <td>462600</td>\n",
       "    </tr>\n",
       "  </tbody>\n",
       "</table>\n",
       "</div>"
      ],
      "text/plain": [
       "    단지코드                단지명  총세대수  전용면적별세대수    지역      준공일자 건물형태    난방방식  \\\n",
       "0  C0005  서울석촌 도시형주택(공임10년)    20         6    서울  20121115  복도식  개별가스난방   \n",
       "1  C0005  서울석촌 도시형주택(공임10년)    20        10    서울  20121115  복도식  개별가스난방   \n",
       "2  C0005  서울석촌 도시형주택(공임10년)    20         4    서울  20121115  복도식  개별가스난방   \n",
       "3  C0017           대구혁신센텀힐즈   822       228  대구경북  20180221  계단식    지역난방   \n",
       "4  C0017           대구혁신센텀힐즈   822        56  대구경북  20180221  계단식    지역난방   \n",
       "\n",
       "  승강기설치여부  단지내주차면수   전용면적     공용면적     임대보증금     임대료  \n",
       "0  전체동 설치        9  17.53  11.7251  50449000  263710  \n",
       "1  전체동 설치        9  24.71  16.5275  52743000  321040  \n",
       "2  전체동 설치        9  26.72  17.8720  53890000  332510  \n",
       "3     NaN      824  51.87  20.9266  29298000  411200  \n",
       "4     NaN      824  59.85  24.1461  38550000  462600  "
      ]
     },
     "execution_count": 77,
     "metadata": {},
     "output_type": "execute_result"
    }
   ],
   "source": [
    "# 파일 읽어오기\n",
    "new_data = pd.read_excel(path+'test.xlsx')\n",
    "\n",
    "# 확인\n",
    "new_data.head()"
   ]
  },
  {
   "cell_type": "code",
   "execution_count": 79,
   "metadata": {},
   "outputs": [
    {
     "data": {
      "text/plain": [
       "단지코드        0\n",
       "단지명         0\n",
       "총세대수        0\n",
       "전용면적별세대수    0\n",
       "지역          0\n",
       "준공일자        0\n",
       "건물형태        4\n",
       "난방방식        1\n",
       "승강기설치여부     9\n",
       "단지내주차면수     0\n",
       "전용면적        0\n",
       "공용면적        0\n",
       "임대보증금       0\n",
       "임대료         0\n",
       "dtype: int64"
      ]
     },
     "execution_count": 79,
     "metadata": {},
     "output_type": "execute_result"
    }
   ],
   "source": [
    "new_data.isna().sum()"
   ]
  },
  {
   "cell_type": "code",
   "execution_count": 81,
   "metadata": {},
   "outputs": [
    {
     "data": {
      "text/html": [
       "<div>\n",
       "<style scoped>\n",
       "    .dataframe tbody tr th:only-of-type {\n",
       "        vertical-align: middle;\n",
       "    }\n",
       "\n",
       "    .dataframe tbody tr th {\n",
       "        vertical-align: top;\n",
       "    }\n",
       "\n",
       "    .dataframe thead th {\n",
       "        text-align: right;\n",
       "    }\n",
       "</style>\n",
       "<table border=\"1\" class=\"dataframe\">\n",
       "  <thead>\n",
       "    <tr style=\"text-align: right;\">\n",
       "      <th></th>\n",
       "      <th>총세대수</th>\n",
       "      <th>승강기설치여부</th>\n",
       "      <th>준공연도</th>\n",
       "      <th>총면적</th>\n",
       "      <th>면적16_26</th>\n",
       "      <th>면적26_38</th>\n",
       "      <th>면적38_46</th>\n",
       "      <th>면적46_51</th>\n",
       "      <th>면적51_59</th>\n",
       "      <th>면적59_74</th>\n",
       "      <th>면적74_85</th>\n",
       "      <th>면적85_127</th>\n",
       "      <th>면적127_140</th>\n",
       "      <th>임대보증금</th>\n",
       "      <th>임대료</th>\n",
       "      <th>건물형태_복도식</th>\n",
       "      <th>건물형태_혼합식</th>\n",
       "      <th>난방방식_중앙</th>\n",
       "      <th>난방방식_지역</th>\n",
       "    </tr>\n",
       "  </thead>\n",
       "  <tbody>\n",
       "    <tr>\n",
       "      <th>125</th>\n",
       "      <td>350</td>\n",
       "      <td>1</td>\n",
       "      <td>2004</td>\n",
       "      <td>26594.9874</td>\n",
       "      <td>0</td>\n",
       "      <td>0</td>\n",
       "      <td>0</td>\n",
       "      <td>0</td>\n",
       "      <td>347</td>\n",
       "      <td>3</td>\n",
       "      <td>0</td>\n",
       "      <td>0</td>\n",
       "      <td>0</td>\n",
       "      <td>37409250.0</td>\n",
       "      <td>300527.5</td>\n",
       "      <td>1</td>\n",
       "      <td>0</td>\n",
       "      <td>0</td>\n",
       "      <td>1</td>\n",
       "    </tr>\n",
       "    <tr>\n",
       "      <th>117</th>\n",
       "      <td>476</td>\n",
       "      <td>1</td>\n",
       "      <td>1995</td>\n",
       "      <td>26317.6800</td>\n",
       "      <td>0</td>\n",
       "      <td>476</td>\n",
       "      <td>0</td>\n",
       "      <td>0</td>\n",
       "      <td>0</td>\n",
       "      <td>0</td>\n",
       "      <td>0</td>\n",
       "      <td>0</td>\n",
       "      <td>0</td>\n",
       "      <td>10319000.0</td>\n",
       "      <td>146130.0</td>\n",
       "      <td>1</td>\n",
       "      <td>0</td>\n",
       "      <td>0</td>\n",
       "      <td>0</td>\n",
       "    </tr>\n",
       "    <tr>\n",
       "      <th>245</th>\n",
       "      <td>2289</td>\n",
       "      <td>1</td>\n",
       "      <td>2011</td>\n",
       "      <td>142698.5412</td>\n",
       "      <td>0</td>\n",
       "      <td>1252</td>\n",
       "      <td>0</td>\n",
       "      <td>670</td>\n",
       "      <td>367</td>\n",
       "      <td>0</td>\n",
       "      <td>0</td>\n",
       "      <td>0</td>\n",
       "      <td>0</td>\n",
       "      <td>33853600.0</td>\n",
       "      <td>224820.0</td>\n",
       "      <td>1</td>\n",
       "      <td>0</td>\n",
       "      <td>0</td>\n",
       "      <td>1</td>\n",
       "    </tr>\n",
       "    <tr>\n",
       "      <th>158</th>\n",
       "      <td>705</td>\n",
       "      <td>1</td>\n",
       "      <td>2005</td>\n",
       "      <td>42879.3615</td>\n",
       "      <td>0</td>\n",
       "      <td>294</td>\n",
       "      <td>411</td>\n",
       "      <td>0</td>\n",
       "      <td>0</td>\n",
       "      <td>0</td>\n",
       "      <td>0</td>\n",
       "      <td>0</td>\n",
       "      <td>0</td>\n",
       "      <td>21657500.0</td>\n",
       "      <td>181760.0</td>\n",
       "      <td>1</td>\n",
       "      <td>0</td>\n",
       "      <td>0</td>\n",
       "      <td>1</td>\n",
       "    </tr>\n",
       "    <tr>\n",
       "      <th>317</th>\n",
       "      <td>528</td>\n",
       "      <td>1</td>\n",
       "      <td>2006</td>\n",
       "      <td>35206.7755</td>\n",
       "      <td>0</td>\n",
       "      <td>0</td>\n",
       "      <td>0</td>\n",
       "      <td>174</td>\n",
       "      <td>224</td>\n",
       "      <td>110</td>\n",
       "      <td>0</td>\n",
       "      <td>0</td>\n",
       "      <td>0</td>\n",
       "      <td>19662000.0</td>\n",
       "      <td>159777.5</td>\n",
       "      <td>0</td>\n",
       "      <td>1</td>\n",
       "      <td>0</td>\n",
       "      <td>0</td>\n",
       "    </tr>\n",
       "  </tbody>\n",
       "</table>\n",
       "</div>"
      ],
      "text/plain": [
       "     총세대수  승강기설치여부  준공연도          총면적  면적16_26  면적26_38  면적38_46  면적46_51  \\\n",
       "125   350        1  2004   26594.9874        0        0        0        0   \n",
       "117   476        1  1995   26317.6800        0      476        0        0   \n",
       "245  2289        1  2011  142698.5412        0     1252        0      670   \n",
       "158   705        1  2005   42879.3615        0      294      411        0   \n",
       "317   528        1  2006   35206.7755        0        0        0      174   \n",
       "\n",
       "     면적51_59  면적59_74  면적74_85  면적85_127  면적127_140       임대보증금       임대료  \\\n",
       "125      347        3        0         0          0  37409250.0  300527.5   \n",
       "117        0        0        0         0          0  10319000.0  146130.0   \n",
       "245      367        0        0         0          0  33853600.0  224820.0   \n",
       "158        0        0        0         0          0  21657500.0  181760.0   \n",
       "317      224      110        0         0          0  19662000.0  159777.5   \n",
       "\n",
       "     건물형태_복도식  건물형태_혼합식  난방방식_중앙  난방방식_지역  \n",
       "125         1         0        0        1  \n",
       "117         1         0        0        0  \n",
       "245         1         0        0        1  \n",
       "158         1         0        0        1  \n",
       "317         0         1        0        0  "
      ]
     },
     "execution_count": 81,
     "metadata": {},
     "output_type": "execute_result"
    }
   ],
   "source": [
    "x_train.head()"
   ]
  },
  {
   "cell_type": "markdown",
   "metadata": {
    "id": "NKLMkjcPrAjr"
   },
   "source": [
    "### (2) 데이터 파이프라인 구축\n",
    "\n",
    "- 데이터 파이프라인 함수를 만듭니다.\n",
    "- 학습 데이터에 대해 진행했던 모든 전처리 과정을 평가 데이터에도 일괄 진행해야 합니다.\n",
    "    - 입력: new_data\n",
    "    - 출력: 전처리가 완료된 예측 직전 데이터프레임\n",
    "- 새로운 데이터에는 '실차량수' 변수가 없음을 유의합니다.\n",
    "- 참고: 다음 내용들이 처리되어야 합니다.\n",
    "    - 결측치 처리\n",
    "    - 변수 추가\n",
    "    - 불필요한 변수 제거\n",
    "    - 단지 데이터, 상세 데이터 분리\n",
    "    - 단지코드별 총면적 합 집계\n",
    "    - 전용면적 구간별 집계 (피벗 형태)\n",
    "    - 임대보증금, 임대료 평균 집계\n",
    "    - 집계 결과 병합\n",
    "    - 난방방식: 개별, 지역, 중앙 세 가지로 묶기\n",
    "    - 승강기설치여부: 0, 1 값으로 변경\n",
    "    - 단지모드, 지역 변수 제거\n",
    "    - 가변수화"
   ]
  },
  {
   "cell_type": "code",
   "execution_count": 83,
   "metadata": {},
   "outputs": [],
   "source": [
    "# XGBClassifier를 이용해 결측치 채우기\n",
    "def train_and_predict_missing_values(df, target_column):\n",
    "    # 결측치가 있는 행과 없는 행으로 분리\n",
    "    train_data = df[df[target_column].notnull()]\n",
    "    test_data = df[df[target_column].isnull()]\n",
    "    \n",
    "    if len(test_data) == 0:\n",
    "        return df  # 결측치가 없는 경우 예측할 필요가 없음\n",
    "    \n",
    "    # 변수 분리~\n",
    "    X_train = train_data.drop(columns=[target_column])\n",
    "    y_train = train_data[target_column]\n",
    "    X_test = test_data.drop(columns=[target_column])\n",
    "    \n",
    "    X_train_encoded = pd.get_dummies(X_train, drop_first=True)\n",
    "    X_test_encoded = pd.get_dummies(X_test, drop_first=True)\n",
    "\n",
    "    # 학습 데이터와 테스트 데이터의 열을 동일하게 맞춤\n",
    "    X_train_encoded, X_test_encoded = X_train_encoded.align(X_test_encoded, join='left', axis=1, fill_value=0)\n",
    "    \n",
    "    # 타겟 변수 레이블 인코딩\n",
    "    le = LabelEncoder()\n",
    "    y_train_encoded = le.fit_transform(y_train)\n",
    "    \n",
    "    model = xgb.XGBClassifier()\n",
    "    model.fit(X_train_encoded, y_train_encoded)\n",
    "\n",
    "    y_pred_encoded = model.predict(X_test_encoded)\n",
    "    \n",
    "    y_pred = le.inverse_transform(y_pred_encoded)\n",
    "\n",
    "    df.loc[df[target_column].isnull(), target_column] = y_pred\n",
    "    return df\n"
   ]
  },
  {
   "cell_type": "code",
   "execution_count": 93,
   "metadata": {
    "id": "INUoRl-qi0BN"
   },
   "outputs": [],
   "source": [
    "# 파이프라인 만들기\n",
    "def data_pipeline(data):\n",
    "    apt01 = data.copy()\n",
    "    \n",
    "    categorical_columns_with_nan = ['건물형태', '난방방식', '승강기설치여부']\n",
    "        \n",
    "    for col in categorical_columns_with_nan:\n",
    "        apt01 = train_and_predict_missing_values(apt01, col)\n",
    "\n",
    "    apt01['준공연도'] = apt01['준공일자'].astype(str).str[:4].astype(int)\n",
    "    apt01['총면적'] = (apt01['전용면적'] + apt01['공용면적']) * apt01['전용면적별세대수']\n",
    "\n",
    "    apt01.drop(columns = '준공일자', inplace=True)\n",
    "\n",
    "    data01 = apt01[['단지코드', '총세대수', '지역', '준공연도', '건물형태', '난방방식', '승강기설치여부']]\n",
    "\n",
    "    data01.drop_duplicates(inplace=True)\n",
    "    \n",
    "    data01.reset_index(drop=True, inplace=True)\n",
    "    \n",
    "    data02 = apt01[['단지코드', '총면적', '전용면적별세대수', '전용면적', '공용면적', '임대보증금', '임대료']]\n",
    "    \n",
    "    df_area = data02.groupby('단지코드')['총면적'].sum().reset_index()\n",
    "\n",
    "    bins = [16, 26, 38, 46, 51, 59, 74, 85, 127, 140]\n",
    "    labels = ['면적16_26', '면적26_38', '면적38_46', '면적46_51', '면적51_59', '면적59_74', '면적74_85', '면적85_127', '면적127_140']\n",
    "    data02['전용면적구간'] = pd.cut(data02['전용면적'], bins=bins, labels=labels, right=False)\n",
    "    \n",
    "    temp = data02.groupby(['단지코드', '전용면적구간'])['전용면적별세대수'].sum().reset_index()\n",
    "\n",
    "    df_pivot = temp.pivot(index='단지코드', columns='전용면적구간', values='전용면적별세대수')\n",
    "    df_pivot.columns.name = None\n",
    "    df_pivot.reset_index(inplace=True)\n",
    "\n",
    "    df_rent = data02.groupby('단지코드')[['임대보증금', '임대료']].mean().reset_index()\n",
    "\n",
    "    base_data = pd.merge(data01, df_area, on='단지코드', how='left')\n",
    "    base_data = pd.merge(base_data, df_pivot, on='단지코드', how='left')\n",
    "    base_data = pd.merge(base_data, df_rent, on='단지코드', how='left')\n",
    "\n",
    "    base_data['난방방식'] = base_data['난방방식'].replace(\n",
    "        {\n",
    "        '개별가스난방': '개별',\n",
    "        '개별유류난방': '개별',\n",
    "        '지역난방': '지역',\n",
    "        '지역가스난방': '지역',\n",
    "        '지역유류난방': '지역',\n",
    "        '중앙가스난방': '중앙',\n",
    "        '중앙난방': '중앙',\n",
    "        '중앙유류난방': '중앙'\n",
    "        }\n",
    "    )\n",
    "    base_data['난방방식']\n",
    "\n",
    "    base_data['승강기설치여부'] = base_data['승강기설치여부'].replace({'전체동 설치':1, '일부동 설치':0, '미설치':0})\n",
    "\n",
    "    base_data.drop(columns=['단지코드', '지역'], inplace = True)\n",
    "\n",
    "    return base_data"
   ]
  },
  {
   "cell_type": "markdown",
   "metadata": {
    "id": "kJpmOxg2rFuZ"
   },
   "source": [
    "### (3) 예측하기\n",
    "\n",
    "- new_data를 파이프라인을 사용해 전처리한 후 가장 성능이 좋았던 모델로 예측한 결과를 확인합니다."
   ]
  },
  {
   "cell_type": "code",
   "execution_count": 95,
   "metadata": {
    "id": "XUjNsITTq9wB"
   },
   "outputs": [
    {
     "data": {
      "text/html": [
       "<div>\n",
       "<style scoped>\n",
       "    .dataframe tbody tr th:only-of-type {\n",
       "        vertical-align: middle;\n",
       "    }\n",
       "\n",
       "    .dataframe tbody tr th {\n",
       "        vertical-align: top;\n",
       "    }\n",
       "\n",
       "    .dataframe thead th {\n",
       "        text-align: right;\n",
       "    }\n",
       "</style>\n",
       "<table border=\"1\" class=\"dataframe\">\n",
       "  <thead>\n",
       "    <tr style=\"text-align: right;\">\n",
       "      <th></th>\n",
       "      <th>총세대수</th>\n",
       "      <th>준공연도</th>\n",
       "      <th>건물형태</th>\n",
       "      <th>난방방식</th>\n",
       "      <th>승강기설치여부</th>\n",
       "      <th>총면적</th>\n",
       "      <th>면적16_26</th>\n",
       "      <th>면적26_38</th>\n",
       "      <th>면적38_46</th>\n",
       "      <th>면적46_51</th>\n",
       "      <th>면적51_59</th>\n",
       "      <th>면적59_74</th>\n",
       "      <th>면적74_85</th>\n",
       "      <th>면적85_127</th>\n",
       "      <th>면적127_140</th>\n",
       "      <th>임대보증금</th>\n",
       "      <th>임대료</th>\n",
       "    </tr>\n",
       "  </thead>\n",
       "  <tbody>\n",
       "    <tr>\n",
       "      <th>0</th>\n",
       "      <td>20</td>\n",
       "      <td>2012</td>\n",
       "      <td>복도식</td>\n",
       "      <td>개별</td>\n",
       "      <td>1</td>\n",
       "      <td>766.2736</td>\n",
       "      <td>16</td>\n",
       "      <td>4</td>\n",
       "      <td>0</td>\n",
       "      <td>0</td>\n",
       "      <td>0</td>\n",
       "      <td>0</td>\n",
       "      <td>0</td>\n",
       "      <td>0</td>\n",
       "      <td>0</td>\n",
       "      <td>5.236067e+07</td>\n",
       "      <td>305753.333333</td>\n",
       "    </tr>\n",
       "    <tr>\n",
       "      <th>1</th>\n",
       "      <td>822</td>\n",
       "      <td>2018</td>\n",
       "      <td>계단식</td>\n",
       "      <td>지역</td>\n",
       "      <td>1</td>\n",
       "      <td>31396.0944</td>\n",
       "      <td>0</td>\n",
       "      <td>0</td>\n",
       "      <td>0</td>\n",
       "      <td>0</td>\n",
       "      <td>228</td>\n",
       "      <td>176</td>\n",
       "      <td>0</td>\n",
       "      <td>0</td>\n",
       "      <td>0</td>\n",
       "      <td>3.546600e+07</td>\n",
       "      <td>445466.666667</td>\n",
       "    </tr>\n",
       "    <tr>\n",
       "      <th>2</th>\n",
       "      <td>112</td>\n",
       "      <td>2014</td>\n",
       "      <td>계단식</td>\n",
       "      <td>지역</td>\n",
       "      <td>1</td>\n",
       "      <td>12450.4308</td>\n",
       "      <td>0</td>\n",
       "      <td>0</td>\n",
       "      <td>0</td>\n",
       "      <td>0</td>\n",
       "      <td>0</td>\n",
       "      <td>0</td>\n",
       "      <td>112</td>\n",
       "      <td>0</td>\n",
       "      <td>0</td>\n",
       "      <td>9.869750e+07</td>\n",
       "      <td>744450.000000</td>\n",
       "    </tr>\n",
       "    <tr>\n",
       "      <th>3</th>\n",
       "      <td>122</td>\n",
       "      <td>2011</td>\n",
       "      <td>계단식</td>\n",
       "      <td>지역</td>\n",
       "      <td>1</td>\n",
       "      <td>13081.4772</td>\n",
       "      <td>0</td>\n",
       "      <td>0</td>\n",
       "      <td>0</td>\n",
       "      <td>0</td>\n",
       "      <td>0</td>\n",
       "      <td>0</td>\n",
       "      <td>122</td>\n",
       "      <td>0</td>\n",
       "      <td>0</td>\n",
       "      <td>0.000000e+00</td>\n",
       "      <td>0.000000</td>\n",
       "    </tr>\n",
       "    <tr>\n",
       "      <th>4</th>\n",
       "      <td>262</td>\n",
       "      <td>2011</td>\n",
       "      <td>계단식</td>\n",
       "      <td>지역</td>\n",
       "      <td>1</td>\n",
       "      <td>28141.7516</td>\n",
       "      <td>0</td>\n",
       "      <td>0</td>\n",
       "      <td>0</td>\n",
       "      <td>0</td>\n",
       "      <td>0</td>\n",
       "      <td>0</td>\n",
       "      <td>262</td>\n",
       "      <td>0</td>\n",
       "      <td>0</td>\n",
       "      <td>0.000000e+00</td>\n",
       "      <td>0.000000</td>\n",
       "    </tr>\n",
       "  </tbody>\n",
       "</table>\n",
       "</div>"
      ],
      "text/plain": [
       "   총세대수  준공연도 건물형태 난방방식  승강기설치여부         총면적  면적16_26  면적26_38  면적38_46  \\\n",
       "0    20  2012  복도식   개별        1    766.2736       16        4        0   \n",
       "1   822  2018  계단식   지역        1  31396.0944        0        0        0   \n",
       "2   112  2014  계단식   지역        1  12450.4308        0        0        0   \n",
       "3   122  2011  계단식   지역        1  13081.4772        0        0        0   \n",
       "4   262  2011  계단식   지역        1  28141.7516        0        0        0   \n",
       "\n",
       "   면적46_51  면적51_59  면적59_74  면적74_85  면적85_127  면적127_140         임대보증금  \\\n",
       "0        0        0        0        0         0          0  5.236067e+07   \n",
       "1        0      228      176        0         0          0  3.546600e+07   \n",
       "2        0        0        0      112         0          0  9.869750e+07   \n",
       "3        0        0        0      122         0          0  0.000000e+00   \n",
       "4        0        0        0      262         0          0  0.000000e+00   \n",
       "\n",
       "             임대료  \n",
       "0  305753.333333  \n",
       "1  445466.666667  \n",
       "2  744450.000000  \n",
       "3       0.000000  \n",
       "4       0.000000  "
      ]
     },
     "execution_count": 95,
     "metadata": {},
     "output_type": "execute_result"
    }
   ],
   "source": [
    "# 데이터 전처리\n",
    "data = data_pipeline(new_data)\n",
    "\n",
    "# 확인\n",
    "data.head()"
   ]
  },
  {
   "cell_type": "code",
   "execution_count": 106,
   "metadata": {},
   "outputs": [],
   "source": [
    "#GridSearchCV로 최적의 RandomForestRegressor찾기\n",
    "\n",
    "param={'max_depth':range(1,51)}\n",
    "\n",
    "model=GridSearchCV(RandomForestRegressor(),param,cv=10)\n"
   ]
  },
  {
   "cell_type": "code",
   "execution_count": 108,
   "metadata": {},
   "outputs": [
    {
     "data": {
      "text/html": [
       "<style>#sk-container-id-1 {\n",
       "  /* Definition of color scheme common for light and dark mode */\n",
       "  --sklearn-color-text: black;\n",
       "  --sklearn-color-line: gray;\n",
       "  /* Definition of color scheme for unfitted estimators */\n",
       "  --sklearn-color-unfitted-level-0: #fff5e6;\n",
       "  --sklearn-color-unfitted-level-1: #f6e4d2;\n",
       "  --sklearn-color-unfitted-level-2: #ffe0b3;\n",
       "  --sklearn-color-unfitted-level-3: chocolate;\n",
       "  /* Definition of color scheme for fitted estimators */\n",
       "  --sklearn-color-fitted-level-0: #f0f8ff;\n",
       "  --sklearn-color-fitted-level-1: #d4ebff;\n",
       "  --sklearn-color-fitted-level-2: #b3dbfd;\n",
       "  --sklearn-color-fitted-level-3: cornflowerblue;\n",
       "\n",
       "  /* Specific color for light theme */\n",
       "  --sklearn-color-text-on-default-background: var(--sg-text-color, var(--theme-code-foreground, var(--jp-content-font-color1, black)));\n",
       "  --sklearn-color-background: var(--sg-background-color, var(--theme-background, var(--jp-layout-color0, white)));\n",
       "  --sklearn-color-border-box: var(--sg-text-color, var(--theme-code-foreground, var(--jp-content-font-color1, black)));\n",
       "  --sklearn-color-icon: #696969;\n",
       "\n",
       "  @media (prefers-color-scheme: dark) {\n",
       "    /* Redefinition of color scheme for dark theme */\n",
       "    --sklearn-color-text-on-default-background: var(--sg-text-color, var(--theme-code-foreground, var(--jp-content-font-color1, white)));\n",
       "    --sklearn-color-background: var(--sg-background-color, var(--theme-background, var(--jp-layout-color0, #111)));\n",
       "    --sklearn-color-border-box: var(--sg-text-color, var(--theme-code-foreground, var(--jp-content-font-color1, white)));\n",
       "    --sklearn-color-icon: #878787;\n",
       "  }\n",
       "}\n",
       "\n",
       "#sk-container-id-1 {\n",
       "  color: var(--sklearn-color-text);\n",
       "}\n",
       "\n",
       "#sk-container-id-1 pre {\n",
       "  padding: 0;\n",
       "}\n",
       "\n",
       "#sk-container-id-1 input.sk-hidden--visually {\n",
       "  border: 0;\n",
       "  clip: rect(1px 1px 1px 1px);\n",
       "  clip: rect(1px, 1px, 1px, 1px);\n",
       "  height: 1px;\n",
       "  margin: -1px;\n",
       "  overflow: hidden;\n",
       "  padding: 0;\n",
       "  position: absolute;\n",
       "  width: 1px;\n",
       "}\n",
       "\n",
       "#sk-container-id-1 div.sk-dashed-wrapped {\n",
       "  border: 1px dashed var(--sklearn-color-line);\n",
       "  margin: 0 0.4em 0.5em 0.4em;\n",
       "  box-sizing: border-box;\n",
       "  padding-bottom: 0.4em;\n",
       "  background-color: var(--sklearn-color-background);\n",
       "}\n",
       "\n",
       "#sk-container-id-1 div.sk-container {\n",
       "  /* jupyter's `normalize.less` sets `[hidden] { display: none; }`\n",
       "     but bootstrap.min.css set `[hidden] { display: none !important; }`\n",
       "     so we also need the `!important` here to be able to override the\n",
       "     default hidden behavior on the sphinx rendered scikit-learn.org.\n",
       "     See: https://github.com/scikit-learn/scikit-learn/issues/21755 */\n",
       "  display: inline-block !important;\n",
       "  position: relative;\n",
       "}\n",
       "\n",
       "#sk-container-id-1 div.sk-text-repr-fallback {\n",
       "  display: none;\n",
       "}\n",
       "\n",
       "div.sk-parallel-item,\n",
       "div.sk-serial,\n",
       "div.sk-item {\n",
       "  /* draw centered vertical line to link estimators */\n",
       "  background-image: linear-gradient(var(--sklearn-color-text-on-default-background), var(--sklearn-color-text-on-default-background));\n",
       "  background-size: 2px 100%;\n",
       "  background-repeat: no-repeat;\n",
       "  background-position: center center;\n",
       "}\n",
       "\n",
       "/* Parallel-specific style estimator block */\n",
       "\n",
       "#sk-container-id-1 div.sk-parallel-item::after {\n",
       "  content: \"\";\n",
       "  width: 100%;\n",
       "  border-bottom: 2px solid var(--sklearn-color-text-on-default-background);\n",
       "  flex-grow: 1;\n",
       "}\n",
       "\n",
       "#sk-container-id-1 div.sk-parallel {\n",
       "  display: flex;\n",
       "  align-items: stretch;\n",
       "  justify-content: center;\n",
       "  background-color: var(--sklearn-color-background);\n",
       "  position: relative;\n",
       "}\n",
       "\n",
       "#sk-container-id-1 div.sk-parallel-item {\n",
       "  display: flex;\n",
       "  flex-direction: column;\n",
       "}\n",
       "\n",
       "#sk-container-id-1 div.sk-parallel-item:first-child::after {\n",
       "  align-self: flex-end;\n",
       "  width: 50%;\n",
       "}\n",
       "\n",
       "#sk-container-id-1 div.sk-parallel-item:last-child::after {\n",
       "  align-self: flex-start;\n",
       "  width: 50%;\n",
       "}\n",
       "\n",
       "#sk-container-id-1 div.sk-parallel-item:only-child::after {\n",
       "  width: 0;\n",
       "}\n",
       "\n",
       "/* Serial-specific style estimator block */\n",
       "\n",
       "#sk-container-id-1 div.sk-serial {\n",
       "  display: flex;\n",
       "  flex-direction: column;\n",
       "  align-items: center;\n",
       "  background-color: var(--sklearn-color-background);\n",
       "  padding-right: 1em;\n",
       "  padding-left: 1em;\n",
       "}\n",
       "\n",
       "\n",
       "/* Toggleable style: style used for estimator/Pipeline/ColumnTransformer box that is\n",
       "clickable and can be expanded/collapsed.\n",
       "- Pipeline and ColumnTransformer use this feature and define the default style\n",
       "- Estimators will overwrite some part of the style using the `sk-estimator` class\n",
       "*/\n",
       "\n",
       "/* Pipeline and ColumnTransformer style (default) */\n",
       "\n",
       "#sk-container-id-1 div.sk-toggleable {\n",
       "  /* Default theme specific background. It is overwritten whether we have a\n",
       "  specific estimator or a Pipeline/ColumnTransformer */\n",
       "  background-color: var(--sklearn-color-background);\n",
       "}\n",
       "\n",
       "/* Toggleable label */\n",
       "#sk-container-id-1 label.sk-toggleable__label {\n",
       "  cursor: pointer;\n",
       "  display: block;\n",
       "  width: 100%;\n",
       "  margin-bottom: 0;\n",
       "  padding: 0.5em;\n",
       "  box-sizing: border-box;\n",
       "  text-align: center;\n",
       "}\n",
       "\n",
       "#sk-container-id-1 label.sk-toggleable__label-arrow:before {\n",
       "  /* Arrow on the left of the label */\n",
       "  content: \"▸\";\n",
       "  float: left;\n",
       "  margin-right: 0.25em;\n",
       "  color: var(--sklearn-color-icon);\n",
       "}\n",
       "\n",
       "#sk-container-id-1 label.sk-toggleable__label-arrow:hover:before {\n",
       "  color: var(--sklearn-color-text);\n",
       "}\n",
       "\n",
       "/* Toggleable content - dropdown */\n",
       "\n",
       "#sk-container-id-1 div.sk-toggleable__content {\n",
       "  max-height: 0;\n",
       "  max-width: 0;\n",
       "  overflow: hidden;\n",
       "  text-align: left;\n",
       "  /* unfitted */\n",
       "  background-color: var(--sklearn-color-unfitted-level-0);\n",
       "}\n",
       "\n",
       "#sk-container-id-1 div.sk-toggleable__content.fitted {\n",
       "  /* fitted */\n",
       "  background-color: var(--sklearn-color-fitted-level-0);\n",
       "}\n",
       "\n",
       "#sk-container-id-1 div.sk-toggleable__content pre {\n",
       "  margin: 0.2em;\n",
       "  border-radius: 0.25em;\n",
       "  color: var(--sklearn-color-text);\n",
       "  /* unfitted */\n",
       "  background-color: var(--sklearn-color-unfitted-level-0);\n",
       "}\n",
       "\n",
       "#sk-container-id-1 div.sk-toggleable__content.fitted pre {\n",
       "  /* unfitted */\n",
       "  background-color: var(--sklearn-color-fitted-level-0);\n",
       "}\n",
       "\n",
       "#sk-container-id-1 input.sk-toggleable__control:checked~div.sk-toggleable__content {\n",
       "  /* Expand drop-down */\n",
       "  max-height: 200px;\n",
       "  max-width: 100%;\n",
       "  overflow: auto;\n",
       "}\n",
       "\n",
       "#sk-container-id-1 input.sk-toggleable__control:checked~label.sk-toggleable__label-arrow:before {\n",
       "  content: \"▾\";\n",
       "}\n",
       "\n",
       "/* Pipeline/ColumnTransformer-specific style */\n",
       "\n",
       "#sk-container-id-1 div.sk-label input.sk-toggleable__control:checked~label.sk-toggleable__label {\n",
       "  color: var(--sklearn-color-text);\n",
       "  background-color: var(--sklearn-color-unfitted-level-2);\n",
       "}\n",
       "\n",
       "#sk-container-id-1 div.sk-label.fitted input.sk-toggleable__control:checked~label.sk-toggleable__label {\n",
       "  background-color: var(--sklearn-color-fitted-level-2);\n",
       "}\n",
       "\n",
       "/* Estimator-specific style */\n",
       "\n",
       "/* Colorize estimator box */\n",
       "#sk-container-id-1 div.sk-estimator input.sk-toggleable__control:checked~label.sk-toggleable__label {\n",
       "  /* unfitted */\n",
       "  background-color: var(--sklearn-color-unfitted-level-2);\n",
       "}\n",
       "\n",
       "#sk-container-id-1 div.sk-estimator.fitted input.sk-toggleable__control:checked~label.sk-toggleable__label {\n",
       "  /* fitted */\n",
       "  background-color: var(--sklearn-color-fitted-level-2);\n",
       "}\n",
       "\n",
       "#sk-container-id-1 div.sk-label label.sk-toggleable__label,\n",
       "#sk-container-id-1 div.sk-label label {\n",
       "  /* The background is the default theme color */\n",
       "  color: var(--sklearn-color-text-on-default-background);\n",
       "}\n",
       "\n",
       "/* On hover, darken the color of the background */\n",
       "#sk-container-id-1 div.sk-label:hover label.sk-toggleable__label {\n",
       "  color: var(--sklearn-color-text);\n",
       "  background-color: var(--sklearn-color-unfitted-level-2);\n",
       "}\n",
       "\n",
       "/* Label box, darken color on hover, fitted */\n",
       "#sk-container-id-1 div.sk-label.fitted:hover label.sk-toggleable__label.fitted {\n",
       "  color: var(--sklearn-color-text);\n",
       "  background-color: var(--sklearn-color-fitted-level-2);\n",
       "}\n",
       "\n",
       "/* Estimator label */\n",
       "\n",
       "#sk-container-id-1 div.sk-label label {\n",
       "  font-family: monospace;\n",
       "  font-weight: bold;\n",
       "  display: inline-block;\n",
       "  line-height: 1.2em;\n",
       "}\n",
       "\n",
       "#sk-container-id-1 div.sk-label-container {\n",
       "  text-align: center;\n",
       "}\n",
       "\n",
       "/* Estimator-specific */\n",
       "#sk-container-id-1 div.sk-estimator {\n",
       "  font-family: monospace;\n",
       "  border: 1px dotted var(--sklearn-color-border-box);\n",
       "  border-radius: 0.25em;\n",
       "  box-sizing: border-box;\n",
       "  margin-bottom: 0.5em;\n",
       "  /* unfitted */\n",
       "  background-color: var(--sklearn-color-unfitted-level-0);\n",
       "}\n",
       "\n",
       "#sk-container-id-1 div.sk-estimator.fitted {\n",
       "  /* fitted */\n",
       "  background-color: var(--sklearn-color-fitted-level-0);\n",
       "}\n",
       "\n",
       "/* on hover */\n",
       "#sk-container-id-1 div.sk-estimator:hover {\n",
       "  /* unfitted */\n",
       "  background-color: var(--sklearn-color-unfitted-level-2);\n",
       "}\n",
       "\n",
       "#sk-container-id-1 div.sk-estimator.fitted:hover {\n",
       "  /* fitted */\n",
       "  background-color: var(--sklearn-color-fitted-level-2);\n",
       "}\n",
       "\n",
       "/* Specification for estimator info (e.g. \"i\" and \"?\") */\n",
       "\n",
       "/* Common style for \"i\" and \"?\" */\n",
       "\n",
       ".sk-estimator-doc-link,\n",
       "a:link.sk-estimator-doc-link,\n",
       "a:visited.sk-estimator-doc-link {\n",
       "  float: right;\n",
       "  font-size: smaller;\n",
       "  line-height: 1em;\n",
       "  font-family: monospace;\n",
       "  background-color: var(--sklearn-color-background);\n",
       "  border-radius: 1em;\n",
       "  height: 1em;\n",
       "  width: 1em;\n",
       "  text-decoration: none !important;\n",
       "  margin-left: 1ex;\n",
       "  /* unfitted */\n",
       "  border: var(--sklearn-color-unfitted-level-1) 1pt solid;\n",
       "  color: var(--sklearn-color-unfitted-level-1);\n",
       "}\n",
       "\n",
       ".sk-estimator-doc-link.fitted,\n",
       "a:link.sk-estimator-doc-link.fitted,\n",
       "a:visited.sk-estimator-doc-link.fitted {\n",
       "  /* fitted */\n",
       "  border: var(--sklearn-color-fitted-level-1) 1pt solid;\n",
       "  color: var(--sklearn-color-fitted-level-1);\n",
       "}\n",
       "\n",
       "/* On hover */\n",
       "div.sk-estimator:hover .sk-estimator-doc-link:hover,\n",
       ".sk-estimator-doc-link:hover,\n",
       "div.sk-label-container:hover .sk-estimator-doc-link:hover,\n",
       ".sk-estimator-doc-link:hover {\n",
       "  /* unfitted */\n",
       "  background-color: var(--sklearn-color-unfitted-level-3);\n",
       "  color: var(--sklearn-color-background);\n",
       "  text-decoration: none;\n",
       "}\n",
       "\n",
       "div.sk-estimator.fitted:hover .sk-estimator-doc-link.fitted:hover,\n",
       ".sk-estimator-doc-link.fitted:hover,\n",
       "div.sk-label-container:hover .sk-estimator-doc-link.fitted:hover,\n",
       ".sk-estimator-doc-link.fitted:hover {\n",
       "  /* fitted */\n",
       "  background-color: var(--sklearn-color-fitted-level-3);\n",
       "  color: var(--sklearn-color-background);\n",
       "  text-decoration: none;\n",
       "}\n",
       "\n",
       "/* Span, style for the box shown on hovering the info icon */\n",
       ".sk-estimator-doc-link span {\n",
       "  display: none;\n",
       "  z-index: 9999;\n",
       "  position: relative;\n",
       "  font-weight: normal;\n",
       "  right: .2ex;\n",
       "  padding: .5ex;\n",
       "  margin: .5ex;\n",
       "  width: min-content;\n",
       "  min-width: 20ex;\n",
       "  max-width: 50ex;\n",
       "  color: var(--sklearn-color-text);\n",
       "  box-shadow: 2pt 2pt 4pt #999;\n",
       "  /* unfitted */\n",
       "  background: var(--sklearn-color-unfitted-level-0);\n",
       "  border: .5pt solid var(--sklearn-color-unfitted-level-3);\n",
       "}\n",
       "\n",
       ".sk-estimator-doc-link.fitted span {\n",
       "  /* fitted */\n",
       "  background: var(--sklearn-color-fitted-level-0);\n",
       "  border: var(--sklearn-color-fitted-level-3);\n",
       "}\n",
       "\n",
       ".sk-estimator-doc-link:hover span {\n",
       "  display: block;\n",
       "}\n",
       "\n",
       "/* \"?\"-specific style due to the `<a>` HTML tag */\n",
       "\n",
       "#sk-container-id-1 a.estimator_doc_link {\n",
       "  float: right;\n",
       "  font-size: 1rem;\n",
       "  line-height: 1em;\n",
       "  font-family: monospace;\n",
       "  background-color: var(--sklearn-color-background);\n",
       "  border-radius: 1rem;\n",
       "  height: 1rem;\n",
       "  width: 1rem;\n",
       "  text-decoration: none;\n",
       "  /* unfitted */\n",
       "  color: var(--sklearn-color-unfitted-level-1);\n",
       "  border: var(--sklearn-color-unfitted-level-1) 1pt solid;\n",
       "}\n",
       "\n",
       "#sk-container-id-1 a.estimator_doc_link.fitted {\n",
       "  /* fitted */\n",
       "  border: var(--sklearn-color-fitted-level-1) 1pt solid;\n",
       "  color: var(--sklearn-color-fitted-level-1);\n",
       "}\n",
       "\n",
       "/* On hover */\n",
       "#sk-container-id-1 a.estimator_doc_link:hover {\n",
       "  /* unfitted */\n",
       "  background-color: var(--sklearn-color-unfitted-level-3);\n",
       "  color: var(--sklearn-color-background);\n",
       "  text-decoration: none;\n",
       "}\n",
       "\n",
       "#sk-container-id-1 a.estimator_doc_link.fitted:hover {\n",
       "  /* fitted */\n",
       "  background-color: var(--sklearn-color-fitted-level-3);\n",
       "}\n",
       "</style><div id=\"sk-container-id-1\" class=\"sk-top-container\"><div class=\"sk-text-repr-fallback\"><pre>GridSearchCV(cv=10, estimator=RandomForestRegressor(),\n",
       "             param_grid={&#x27;max_depth&#x27;: range(1, 51)})</pre><b>In a Jupyter environment, please rerun this cell to show the HTML representation or trust the notebook. <br />On GitHub, the HTML representation is unable to render, please try loading this page with nbviewer.org.</b></div><div class=\"sk-container\" hidden><div class=\"sk-item sk-dashed-wrapped\"><div class=\"sk-label-container\"><div class=\"sk-label fitted sk-toggleable\"><input class=\"sk-toggleable__control sk-hidden--visually\" id=\"sk-estimator-id-1\" type=\"checkbox\" ><label for=\"sk-estimator-id-1\" class=\"sk-toggleable__label fitted sk-toggleable__label-arrow fitted\">&nbsp;&nbsp;GridSearchCV<a class=\"sk-estimator-doc-link fitted\" rel=\"noreferrer\" target=\"_blank\" href=\"https://scikit-learn.org/1.5/modules/generated/sklearn.model_selection.GridSearchCV.html\">?<span>Documentation for GridSearchCV</span></a><span class=\"sk-estimator-doc-link fitted\">i<span>Fitted</span></span></label><div class=\"sk-toggleable__content fitted\"><pre>GridSearchCV(cv=10, estimator=RandomForestRegressor(),\n",
       "             param_grid={&#x27;max_depth&#x27;: range(1, 51)})</pre></div> </div></div><div class=\"sk-parallel\"><div class=\"sk-parallel-item\"><div class=\"sk-item\"><div class=\"sk-label-container\"><div class=\"sk-label fitted sk-toggleable\"><input class=\"sk-toggleable__control sk-hidden--visually\" id=\"sk-estimator-id-2\" type=\"checkbox\" ><label for=\"sk-estimator-id-2\" class=\"sk-toggleable__label fitted sk-toggleable__label-arrow fitted\">best_estimator_: RandomForestRegressor</label><div class=\"sk-toggleable__content fitted\"><pre>RandomForestRegressor(max_depth=28)</pre></div> </div></div><div class=\"sk-serial\"><div class=\"sk-item\"><div class=\"sk-estimator fitted sk-toggleable\"><input class=\"sk-toggleable__control sk-hidden--visually\" id=\"sk-estimator-id-3\" type=\"checkbox\" ><label for=\"sk-estimator-id-3\" class=\"sk-toggleable__label fitted sk-toggleable__label-arrow fitted\">&nbsp;RandomForestRegressor<a class=\"sk-estimator-doc-link fitted\" rel=\"noreferrer\" target=\"_blank\" href=\"https://scikit-learn.org/1.5/modules/generated/sklearn.ensemble.RandomForestRegressor.html\">?<span>Documentation for RandomForestRegressor</span></a></label><div class=\"sk-toggleable__content fitted\"><pre>RandomForestRegressor(max_depth=28)</pre></div> </div></div></div></div></div></div></div></div></div>"
      ],
      "text/plain": [
       "GridSearchCV(cv=10, estimator=RandomForestRegressor(),\n",
       "             param_grid={'max_depth': range(1, 51)})"
      ]
     },
     "execution_count": 108,
     "metadata": {},
     "output_type": "execute_result"
    }
   ],
   "source": [
    "model.fit(x_train_s,y_train)"
   ]
  },
  {
   "cell_type": "code",
   "execution_count": 110,
   "metadata": {
    "id": "OJkoQGgVJaUq"
   },
   "outputs": [
    {
     "ename": "ValueError",
     "evalue": "could not convert string to float: '복도식'",
     "output_type": "error",
     "traceback": [
      "\u001b[1;31m---------------------------------------------------------------------------\u001b[0m",
      "\u001b[1;31mValueError\u001b[0m                                Traceback (most recent call last)",
      "Cell \u001b[1;32mIn[110], line 2\u001b[0m\n\u001b[0;32m      1\u001b[0m \u001b[38;5;66;03m# 예측하기\u001b[39;00m\n\u001b[1;32m----> 2\u001b[0m predicted \u001b[38;5;241m=\u001b[39m model\u001b[38;5;241m.\u001b[39mpredict(data)\n\u001b[0;32m      4\u001b[0m \u001b[38;5;66;03m# 확인\u001b[39;00m\n\u001b[0;32m      5\u001b[0m \u001b[38;5;28mprint\u001b[39m(predicted)\n",
      "File \u001b[1;32m~\\anaconda3\\Lib\\site-packages\\sklearn\\model_selection\\_search.py:597\u001b[0m, in \u001b[0;36mBaseSearchCV.predict\u001b[1;34m(self, X)\u001b[0m\n\u001b[0;32m    579\u001b[0m \u001b[38;5;250m\u001b[39m\u001b[38;5;124;03m\"\"\"Call predict on the estimator with the best found parameters.\u001b[39;00m\n\u001b[0;32m    580\u001b[0m \n\u001b[0;32m    581\u001b[0m \u001b[38;5;124;03mOnly available if ``refit=True`` and the underlying estimator supports\u001b[39;00m\n\u001b[1;32m   (...)\u001b[0m\n\u001b[0;32m    594\u001b[0m \u001b[38;5;124;03m    the best found parameters.\u001b[39;00m\n\u001b[0;32m    595\u001b[0m \u001b[38;5;124;03m\"\"\"\u001b[39;00m\n\u001b[0;32m    596\u001b[0m check_is_fitted(\u001b[38;5;28mself\u001b[39m)\n\u001b[1;32m--> 597\u001b[0m \u001b[38;5;28;01mreturn\u001b[39;00m \u001b[38;5;28mself\u001b[39m\u001b[38;5;241m.\u001b[39mbest_estimator_\u001b[38;5;241m.\u001b[39mpredict(X)\n",
      "File \u001b[1;32m~\\anaconda3\\Lib\\site-packages\\sklearn\\ensemble\\_forest.py:1063\u001b[0m, in \u001b[0;36mForestRegressor.predict\u001b[1;34m(self, X)\u001b[0m\n\u001b[0;32m   1061\u001b[0m check_is_fitted(\u001b[38;5;28mself\u001b[39m)\n\u001b[0;32m   1062\u001b[0m \u001b[38;5;66;03m# Check data\u001b[39;00m\n\u001b[1;32m-> 1063\u001b[0m X \u001b[38;5;241m=\u001b[39m \u001b[38;5;28mself\u001b[39m\u001b[38;5;241m.\u001b[39m_validate_X_predict(X)\n\u001b[0;32m   1065\u001b[0m \u001b[38;5;66;03m# Assign chunk of trees to jobs\u001b[39;00m\n\u001b[0;32m   1066\u001b[0m n_jobs, _, _ \u001b[38;5;241m=\u001b[39m _partition_estimators(\u001b[38;5;28mself\u001b[39m\u001b[38;5;241m.\u001b[39mn_estimators, \u001b[38;5;28mself\u001b[39m\u001b[38;5;241m.\u001b[39mn_jobs)\n",
      "File \u001b[1;32m~\\anaconda3\\Lib\\site-packages\\sklearn\\ensemble\\_forest.py:641\u001b[0m, in \u001b[0;36mBaseForest._validate_X_predict\u001b[1;34m(self, X)\u001b[0m\n\u001b[0;32m    638\u001b[0m \u001b[38;5;28;01melse\u001b[39;00m:\n\u001b[0;32m    639\u001b[0m     force_all_finite \u001b[38;5;241m=\u001b[39m \u001b[38;5;28;01mTrue\u001b[39;00m\n\u001b[1;32m--> 641\u001b[0m X \u001b[38;5;241m=\u001b[39m \u001b[38;5;28mself\u001b[39m\u001b[38;5;241m.\u001b[39m_validate_data(\n\u001b[0;32m    642\u001b[0m     X,\n\u001b[0;32m    643\u001b[0m     dtype\u001b[38;5;241m=\u001b[39mDTYPE,\n\u001b[0;32m    644\u001b[0m     accept_sparse\u001b[38;5;241m=\u001b[39m\u001b[38;5;124m\"\u001b[39m\u001b[38;5;124mcsr\u001b[39m\u001b[38;5;124m\"\u001b[39m,\n\u001b[0;32m    645\u001b[0m     reset\u001b[38;5;241m=\u001b[39m\u001b[38;5;28;01mFalse\u001b[39;00m,\n\u001b[0;32m    646\u001b[0m     force_all_finite\u001b[38;5;241m=\u001b[39mforce_all_finite,\n\u001b[0;32m    647\u001b[0m )\n\u001b[0;32m    648\u001b[0m \u001b[38;5;28;01mif\u001b[39;00m issparse(X) \u001b[38;5;129;01mand\u001b[39;00m (X\u001b[38;5;241m.\u001b[39mindices\u001b[38;5;241m.\u001b[39mdtype \u001b[38;5;241m!=\u001b[39m np\u001b[38;5;241m.\u001b[39mintc \u001b[38;5;129;01mor\u001b[39;00m X\u001b[38;5;241m.\u001b[39mindptr\u001b[38;5;241m.\u001b[39mdtype \u001b[38;5;241m!=\u001b[39m np\u001b[38;5;241m.\u001b[39mintc):\n\u001b[0;32m    649\u001b[0m     \u001b[38;5;28;01mraise\u001b[39;00m \u001b[38;5;167;01mValueError\u001b[39;00m(\u001b[38;5;124m\"\u001b[39m\u001b[38;5;124mNo support for np.int64 index based sparse matrices\u001b[39m\u001b[38;5;124m\"\u001b[39m)\n",
      "File \u001b[1;32m~\\anaconda3\\Lib\\site-packages\\sklearn\\base.py:633\u001b[0m, in \u001b[0;36mBaseEstimator._validate_data\u001b[1;34m(self, X, y, reset, validate_separately, cast_to_ndarray, **check_params)\u001b[0m\n\u001b[0;32m    631\u001b[0m         out \u001b[38;5;241m=\u001b[39m X, y\n\u001b[0;32m    632\u001b[0m \u001b[38;5;28;01melif\u001b[39;00m \u001b[38;5;129;01mnot\u001b[39;00m no_val_X \u001b[38;5;129;01mand\u001b[39;00m no_val_y:\n\u001b[1;32m--> 633\u001b[0m     out \u001b[38;5;241m=\u001b[39m check_array(X, input_name\u001b[38;5;241m=\u001b[39m\u001b[38;5;124m\"\u001b[39m\u001b[38;5;124mX\u001b[39m\u001b[38;5;124m\"\u001b[39m, \u001b[38;5;241m*\u001b[39m\u001b[38;5;241m*\u001b[39mcheck_params)\n\u001b[0;32m    634\u001b[0m \u001b[38;5;28;01melif\u001b[39;00m no_val_X \u001b[38;5;129;01mand\u001b[39;00m \u001b[38;5;129;01mnot\u001b[39;00m no_val_y:\n\u001b[0;32m    635\u001b[0m     out \u001b[38;5;241m=\u001b[39m _check_y(y, \u001b[38;5;241m*\u001b[39m\u001b[38;5;241m*\u001b[39mcheck_params)\n",
      "File \u001b[1;32m~\\anaconda3\\Lib\\site-packages\\sklearn\\utils\\validation.py:1012\u001b[0m, in \u001b[0;36mcheck_array\u001b[1;34m(array, accept_sparse, accept_large_sparse, dtype, order, copy, force_writeable, force_all_finite, ensure_2d, allow_nd, ensure_min_samples, ensure_min_features, estimator, input_name)\u001b[0m\n\u001b[0;32m   1010\u001b[0m         array \u001b[38;5;241m=\u001b[39m xp\u001b[38;5;241m.\u001b[39mastype(array, dtype, copy\u001b[38;5;241m=\u001b[39m\u001b[38;5;28;01mFalse\u001b[39;00m)\n\u001b[0;32m   1011\u001b[0m     \u001b[38;5;28;01melse\u001b[39;00m:\n\u001b[1;32m-> 1012\u001b[0m         array \u001b[38;5;241m=\u001b[39m _asarray_with_order(array, order\u001b[38;5;241m=\u001b[39morder, dtype\u001b[38;5;241m=\u001b[39mdtype, xp\u001b[38;5;241m=\u001b[39mxp)\n\u001b[0;32m   1013\u001b[0m \u001b[38;5;28;01mexcept\u001b[39;00m ComplexWarning \u001b[38;5;28;01mas\u001b[39;00m complex_warning:\n\u001b[0;32m   1014\u001b[0m     \u001b[38;5;28;01mraise\u001b[39;00m \u001b[38;5;167;01mValueError\u001b[39;00m(\n\u001b[0;32m   1015\u001b[0m         \u001b[38;5;124m\"\u001b[39m\u001b[38;5;124mComplex data not supported\u001b[39m\u001b[38;5;130;01m\\n\u001b[39;00m\u001b[38;5;132;01m{}\u001b[39;00m\u001b[38;5;130;01m\\n\u001b[39;00m\u001b[38;5;124m\"\u001b[39m\u001b[38;5;241m.\u001b[39mformat(array)\n\u001b[0;32m   1016\u001b[0m     ) \u001b[38;5;28;01mfrom\u001b[39;00m \u001b[38;5;21;01mcomplex_warning\u001b[39;00m\n",
      "File \u001b[1;32m~\\anaconda3\\Lib\\site-packages\\sklearn\\utils\\_array_api.py:745\u001b[0m, in \u001b[0;36m_asarray_with_order\u001b[1;34m(array, dtype, order, copy, xp, device)\u001b[0m\n\u001b[0;32m    743\u001b[0m     array \u001b[38;5;241m=\u001b[39m numpy\u001b[38;5;241m.\u001b[39marray(array, order\u001b[38;5;241m=\u001b[39morder, dtype\u001b[38;5;241m=\u001b[39mdtype)\n\u001b[0;32m    744\u001b[0m \u001b[38;5;28;01melse\u001b[39;00m:\n\u001b[1;32m--> 745\u001b[0m     array \u001b[38;5;241m=\u001b[39m numpy\u001b[38;5;241m.\u001b[39masarray(array, order\u001b[38;5;241m=\u001b[39morder, dtype\u001b[38;5;241m=\u001b[39mdtype)\n\u001b[0;32m    747\u001b[0m \u001b[38;5;66;03m# At this point array is a NumPy ndarray. We convert it to an array\u001b[39;00m\n\u001b[0;32m    748\u001b[0m \u001b[38;5;66;03m# container that is consistent with the input's namespace.\u001b[39;00m\n\u001b[0;32m    749\u001b[0m \u001b[38;5;28;01mreturn\u001b[39;00m xp\u001b[38;5;241m.\u001b[39masarray(array)\n",
      "File \u001b[1;32m~\\anaconda3\\Lib\\site-packages\\pandas\\core\\generic.py:2153\u001b[0m, in \u001b[0;36mNDFrame.__array__\u001b[1;34m(self, dtype, copy)\u001b[0m\n\u001b[0;32m   2149\u001b[0m \u001b[38;5;28;01mdef\u001b[39;00m \u001b[38;5;21m__array__\u001b[39m(\n\u001b[0;32m   2150\u001b[0m     \u001b[38;5;28mself\u001b[39m, dtype: npt\u001b[38;5;241m.\u001b[39mDTypeLike \u001b[38;5;241m|\u001b[39m \u001b[38;5;28;01mNone\u001b[39;00m \u001b[38;5;241m=\u001b[39m \u001b[38;5;28;01mNone\u001b[39;00m, copy: bool_t \u001b[38;5;241m|\u001b[39m \u001b[38;5;28;01mNone\u001b[39;00m \u001b[38;5;241m=\u001b[39m \u001b[38;5;28;01mNone\u001b[39;00m\n\u001b[0;32m   2151\u001b[0m ) \u001b[38;5;241m-\u001b[39m\u001b[38;5;241m>\u001b[39m np\u001b[38;5;241m.\u001b[39mndarray:\n\u001b[0;32m   2152\u001b[0m     values \u001b[38;5;241m=\u001b[39m \u001b[38;5;28mself\u001b[39m\u001b[38;5;241m.\u001b[39m_values\n\u001b[1;32m-> 2153\u001b[0m     arr \u001b[38;5;241m=\u001b[39m np\u001b[38;5;241m.\u001b[39masarray(values, dtype\u001b[38;5;241m=\u001b[39mdtype)\n\u001b[0;32m   2154\u001b[0m     \u001b[38;5;28;01mif\u001b[39;00m (\n\u001b[0;32m   2155\u001b[0m         astype_is_view(values\u001b[38;5;241m.\u001b[39mdtype, arr\u001b[38;5;241m.\u001b[39mdtype)\n\u001b[0;32m   2156\u001b[0m         \u001b[38;5;129;01mand\u001b[39;00m using_copy_on_write()\n\u001b[0;32m   2157\u001b[0m         \u001b[38;5;129;01mand\u001b[39;00m \u001b[38;5;28mself\u001b[39m\u001b[38;5;241m.\u001b[39m_mgr\u001b[38;5;241m.\u001b[39mis_single_block\n\u001b[0;32m   2158\u001b[0m     ):\n\u001b[0;32m   2159\u001b[0m         \u001b[38;5;66;03m# Check if both conversions can be done without a copy\u001b[39;00m\n\u001b[0;32m   2160\u001b[0m         \u001b[38;5;28;01mif\u001b[39;00m astype_is_view(\u001b[38;5;28mself\u001b[39m\u001b[38;5;241m.\u001b[39mdtypes\u001b[38;5;241m.\u001b[39miloc[\u001b[38;5;241m0\u001b[39m], values\u001b[38;5;241m.\u001b[39mdtype) \u001b[38;5;129;01mand\u001b[39;00m astype_is_view(\n\u001b[0;32m   2161\u001b[0m             values\u001b[38;5;241m.\u001b[39mdtype, arr\u001b[38;5;241m.\u001b[39mdtype\n\u001b[0;32m   2162\u001b[0m         ):\n",
      "\u001b[1;31mValueError\u001b[0m: could not convert string to float: '복도식'"
     ]
    }
   ],
   "source": [
    "# 예측하기\n",
    "predicted = model.predict(data)\n",
    "\n",
    "# 확인\n",
    "print(predicted)"
   ]
  },
  {
   "cell_type": "markdown",
   "metadata": {
    "id": "N5eeJKV-JaUq"
   },
   "source": [
    "- 아파트 기본 정보에 예측한 차량수를 붙여 마무리합니다."
   ]
  },
  {
   "cell_type": "code",
   "execution_count": null,
   "metadata": {
    "id": "4k8bVSDBJaUq"
   },
   "outputs": [],
   "source": [
    "# 데이터 셋 두개로 나누기\n",
    "vars = ['단지코드', '단지명', '총세대수', '지역', ]\n",
    "result = new_data[vars].copy()\n",
    "result = result.drop_duplicates()\n",
    "result.reset_index(drop=True, inplace=True)\n",
    "\n",
    "# 예측 결과 추가\n",
    "result['예상차량수'] = predicted.round(1).astype(int)\n",
    "\n",
    "# 확인\n",
    "result"
   ]
  },
  {
   "cell_type": "markdown",
   "metadata": {},
   "source": [
    "## 4.최적의 모델 찾기()"
   ]
  },
  {
   "cell_type": "code",
   "execution_count": null,
   "metadata": {},
   "outputs": [],
   "source": [
    "!pip install mljar-supervised"
   ]
  },
  {
   "cell_type": "code",
   "execution_count": null,
   "metadata": {},
   "outputs": [],
   "source": [
    "import pandas as pd\n",
    "from sklearn.model_selection import train_test_split\n",
    "from supervised import AutoML"
   ]
  },
  {
   "cell_type": "code",
   "execution_count": null,
   "metadata": {},
   "outputs": [],
   "source": [
    "apart['건물형태'] = apart['건물형태'].astype('category')\n",
    "apart['난방방식'] = apart['난방방식'].astype('category')\n",
    "# apart['승강기설치여부'] = apart['승강기설치여부'].astype('category')\n",
    "X = apart.drop(columns=['실차량수'])  # 독립 변수 (피처)\n",
    "y = apart['실차량수']  # 종속 변수 (타겟)\n",
    "\n",
    "# 데이터셋을 학습용과 테스트용으로 분리 (70% 학습, 30% 테스트)\n",
    "X_train, X_test, y_train, y_test = train_test_split(X, y, test_size=0.3, random_state=1)\n",
    "\n",
    "automl = AutoML(mode=\"Perform\",  # Perform 모드 사용 (성능 최적화)\n",
    "                total_time_limit=900,  # 전체 학습 시간 제한 (초 단위)\n",
    "                explain_level=2)  # 0 (none), 1 (basic), 2 (intermediate), 3 (advanced)\n",
    "\n",
    "# 학습 데이터로 모델 학습\n",
    "automl.fit(X_train, y_train)\n"
   ]
  },
  {
   "cell_type": "code",
   "execution_count": null,
   "metadata": {},
   "outputs": [],
   "source": [
    "\n",
    "# 모델 성능 평가 (Mean Squared Error)\n",
    "from sklearn.metrics import mean_squared_error\n",
    "# 모델 성능 평가 (R^2 Score)\n",
    "from sklearn.metrics import r2_score\n",
    "\n",
    "# 테스트 데이터로 예측 수행\n",
    "y_pred = automl.predict(X_test)\n",
    "\n",
    "mse = mean_squared_error(y_test, y_pred)\n",
    "print(f\"Mean Squared Error: {mse}\")\n",
    "\n",
    "r2 = r2_score(y_test, y_pred)\n",
    "print(f\"R^2 Score: {r2}\")"
   ]
  }
 ],
 "metadata": {
  "accelerator": "GPU",
  "colab": {
   "provenance": []
  },
  "gpuClass": "standard",
  "kernelspec": {
   "display_name": "Python 3 (ipykernel)",
   "language": "python",
   "name": "python3"
  },
  "language_info": {
   "codemirror_mode": {
    "name": "ipython",
    "version": 3
   },
   "file_extension": ".py",
   "mimetype": "text/x-python",
   "name": "python",
   "nbconvert_exporter": "python",
   "pygments_lexer": "ipython3",
   "version": "3.12.4"
  }
 },
 "nbformat": 4,
 "nbformat_minor": 4
}
