








def hello_world() :
    print('Hello, Python World~!')
    
hello_world()





def hello(name, loud = 1) :
    if loud == 1 :
        print('HELLO ' + name + ' ~!!!')
    else :
        print('Hello ' + name + ' ~~~')

hello(name = 'Han', loud = 0) # 매개변수 이름과 입력값
hello(name = 'Han')           # 기본값 지정 매개변수 생략
hello('Han')                  # 기본값 지정 매개변수 생략
hello('Han',0)                # 입력매개변수 이름 생략
hello(loud = 0, name = 'Han') # 입력값 순서 바꾸기





def numbers(*nums) :
    print(nums, type(nums))
    
numbers(1, 2, 3)
numbers(2, 4, 6, 8, 10)








values = list(map(int, input().split()))
avg = sum(values) / len(values)
print(avg)











def numbers1(*nums) :
    print(nums)

numbers1(1, 2, 3)


def numbers2(*nums) : 
    return nums

numbers2(1, 2, 3)


# 함수 출력 : print
a1 = numbers1(1, 2, 3)
print(a1)

print('-'*20)

# 함수 출력 : return
a2 = numbers2(1, 2, 3)
print(a2)





def calculator(a, b) :
    summ = a + b
    mult = a * b
    return summ, mult

r1, r2 = calculator(10, 5)
print(r1, r2)





r1, _ = calculator(10, 5)








def avg(list_a):
    avg_n = sum(list_a) / len(list_a)
    return avg_n

list_a = list(map(int, input().split()))
avg_a = avg(list_a)
print(avg_a)

















def divide(a, b) :
    result = a / b
    return result

divide(10, 0)








def divide(a, b) :
    if b == 0 :
        print('나누는 값이 0이 될 수 없습니다.')
    else: 
        result = a / b
        return result

divide(10, 0)





a = 1
type(a) == int


b = [1,2,3]
type(b) == list


c = {'a':1, 'b': [1,2,3]}
type(c) == dict








try:
    num_str = "abc"
    num = int(num_str)
    
except ValueError:
    print("정수로 변환할 수 없는 문자열입니다.")


def divide(a, b) :
    try :
        result = a / b
        return result
    
    except ZeroDivisionError:
        print("0으로 나눌수 없습니다.")
        
divide(10, 0)





def divide(a, b) :
    try :
        result = a / b
        return result
    
    except Exception as e:
        print("오류가 발생하였습니다:", e)
        
divide(10, 0)








def avg(*num):
    try:
        list_a = list(num)
        for i in range(len(list_a)):
            list_a[i] = int(list_a[i])
        average = sum(list_a) / len(list_a)  # 평균 계산
        print(f"Average: {average}")
    except ValueError:
        print("정수로 변환할 수 없는 문자열입니다.")

avg(1, 2, 3)








from datetime import datetime
def date_check(year, month, day):
    try:
        year = int(year)
        month = int(month)
        day = int(day)

        date = datetime(year, month, day)
        return date
    
    except ValueError as e:
        print("올바른 날짜 형식으로 입력해주세요.")
        return None



