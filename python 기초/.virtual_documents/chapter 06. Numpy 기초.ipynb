











# 라이브러리 불러오기
import numpy as np























# 1차원 리스트
a1 = [1, 2, 3, 4, 5]

# 배열로 변환
b1 = np.array(a1)

# 확인
print(b1)





# 2차원 리스트
# a2 = [[1.5, 2.5, 3.2], [4.2, 5.7, 6.4]]
a2 = [[1.5, 2.5, 3.2],
      [4.2, 5.7, 6.4]]

# 배열로 변환
b2 = np.array(a2)

# 확인
print(b2)





# 3차원 리스트
# a3 = [[[1, 3, 1], [4, 7, 6], [8, 3, 4]], [[6, 2, 4], [8, 1, 5], [3, 5, 9]]]
a3 = [[[1, 3, 1],
       [4, 7, 6],
       [8, 3, 4]],
      [[6, 2, 4],
       [8, 1, 5],
       [3, 5, 9]]]

# 배열로 변환
b3 = np.array(a3)

# 확인
print(b3)











# 차원 확인
print(b1.ndim)
print(b2.ndim)
print(b3.ndim)





# 형태(크기) 확인
print(b1.shape)
print(b2.shape)
print(b3.shape)





# 요소 자료형 형식 확인
print(b1.dtype)
print(b2.dtype)
print(b3.dtype)








# 라이브러리 불러오기
import numpy as np





# 10, 11, 12, 13, 14, 15
axis = [10, 11, 12, 13, 14, 15]
# 배열 만들기

ax = np.array(axis)
# 확인
print(ax)

# 정보 확인
print(ax.ndim)
print(ax.shape)
print(ax.dtype)





a = [[11, 12, 13, 14], [15, 16, 17, 18], [19, 20, 21, 22]]

# 배열 만들기
ax = np.array(a)

# 확인
print(ax)

# 정보 확인
print(ax.ndim)
print(ax.shape)
print(ax.dtype)






# (2, 3) 형태의 2차원 배열 만들기
a = np.array([[1, 2, 3],
              [4, 5, 6]])

# 확인
print(a)





# (3, 2) 형태의 2차원 배열로 Reshape
b = a.reshape(3, 2)

# 확인
print(b)





# 1차원 배열로 Reshape
# c = a.reshape(6,)
c = a.reshape(6)

# 확인
print(c)





# (2, 3) 형태의 2차원 배열 만들기
a = np.array([[1, 2, 3],
              [4, 5, 6]])

# 확인
print(a)


# reshape(m, -1) 형태로 지정하여 Reshape 가능
print(a.reshape(1, -1))
print()

print(a.reshape(2, -1))
print()

print(a.reshape(3, -1))
print()

#print(a.reshape(4, -1))
#print(a.reshape(5, -1))

print(a.reshape(6, -1))








# 배열 만들기
a = np.array([[11, 12, 13, 14],
              [15, 16, 17, 18],
              [19, 20, 21, 22]])

# 배열 형태 확인
print(a.shape)

# (4, ?))형태의 2차원 배열
a = a.reshape(4, -1)

# 확인
print(a.shape)


# (2, ?) 형태의 2차원 배열
a = a.reshape(2, -1)

# 확인
print(a.shape)











# (3, 3) 형태의 2차원 배열 만들기
a = np.array([[1, 2, 3],
              [4, 5, 6],
              [7, 8, 9]])

# 확인
print(a)


a[[0],[1]]





# 첫 번째 행, 두 번째 열 요소 조회
print(a[0, 1])





# 첫 번째, 두 번째 행 조회
# print(a[[0, 1], :])
print(a[[0, 1]])


# 첫 번째, 두 번째, 세 번째 행 조회
# print(a[[0, 1, 2], :])
print(a[[0, 1, 2]])





# 첫 번째, 두 번째 열 조회
print(a[:, [0, 1]])





# 배열 확인
print(a)


# 두 번째 행 두 번째 열의 요소 조회
print(a[[1], [1]])


# 세 번째 행 두 번째 열의 요소 조회
print(a[[2], [1]])








a = np.array([[11, 12, 13, 14],
              [15, 16, 17, 18],
              [19, 20, 21, 22]])





print(a[1,1])





print(a[[2],[1]])





print(a[:, 2])








# (3, 3) 형태의 2차원 배열 만들기
a = np.array([[1, 2, 3],
              [4, 5, 6],
              [7, 8, 9]])

# 확인
print(a)


# 첫 번째 ~ 두 번째 행 조회
# print(a[0:2, :])
print(a[0:2])


# 첫 번째 행, 첫 번째 ~ 두 번째 열 조회
print(a[0, 0:2])


# 첫 번째 ~ 세 번째 행, 두 번째 ~ 세 번째 열 조회
print(a[0:3, 1:3])


# 두 번째 ~ 끝 행, 두 번째 ~ 끝 열 조회
print(a[1:, 1:])








a = np.array([[11, 12, 13, 14],
              [15, 16, 17, 18],
              [19, 20, 21, 22]])

















# 2차원 배열 만들기
score= np.array([[78, 91, 84, 89, 93, 65],
                 [82, 87, 96, 79, 91, 73]])

# 확인
print(score)





# 요소 중에서 90 이상인 것만 조회
print(score[score >= 90])





# 요소 중에서 90 이상인 것만 조회
condition = score >= 90
print(score[condition])





# 모든 요소 중에서 90 이상 95 미만인 것만 조회
print(score[(score >= 90) & (score <= 95)])








# 2차원 배열 만들기
score= np.array([[78, 91, 84, 89, 93, 65],
                 [82, 87, 96, 79, 91, 73]])

# 확인
print(score)

# 80 미만 데이터 조회
a = score[score < 80]
print(a)





# 2차원 배열 만들기
score= np.array([[78, 91, 84, 89, 93, 65],
                 [82, 87, 96, 79, 91, 73]])

# 확인
print(score)
# 짝수만 조회
print(score[score % 2 == 0])








# 두 개의 (2, 2) 형태의 2차원 배열 만들기
x = np.array([[1, 2], [3, 4]])
y = np.array([[5, 6], [7, 8]])

# 확인
print(x)
print(y)








# 배열 더하기
print(x + y)

# 또는
print(np.add(x, y))





# 배열 빼기
print(x - y)

# 또는
print(np.subtract(x, y))





# 배열 곱하기
print(x * y)

# 또는
print(np.multiply(x, y))





# 배열 나누기
print(x / y)

# 또는
print(np.divide(x, y))





# 배열 y 제곱
print(x ** y)

# 또는
print(np.power(x, y))


# 배열 제곱
print(x ** 2)





# array를 생성합니다.
a = np.array([[1,5,7],[2,3,8]])
print(a)


# 전체 집계
print(np.sum(a))

# 열기준 집계
print(np.sum(a, axis = 0))

# 행기준 집계
print(np.sum(a, axis = 1))











print(a)
# 전체 중에서 가장 큰 값의 인덱스
print(np.argmax(a))

# 행 방향 최대값의 인덱스
print(np.argmax(a, axis = 0))

# 열 방향 최대값의 인덱스
print(np.argmax(a, axis = 1))






# 선언
a = np.array([1,3,2,7])

# 조건
np.where(a > 2, 1, 0)








# 라이브러리 불러오기
import numpy as np





# [[  1  2  3]
#  [  4  5  6]
#  [  7  8  9]
#  [ 10 11 12]]

# 배열 만들기
axis = np.array([[1, 2, 3], [4, 5, 6], [7, 8, 9], [10, 11, 12]])

# 확인
print(axis)





# 배열 크기 확인
axis.shape





# [[ 1  2  3  4]
#  [ 5  6  7  8]
#  [ 9 10 11 12]]

# 형태 변경
np_02 = axis.reshape(3,-1)

# 확인
print(np_02)





# [7 8 9] 조회
print(axis[2])





# 10 곱하기
axis





# 조건 조회
print(axis[axis > 7])





# 조회 결과에 대한 연산
axis[axis > 7] *= 2





# 원본 배열 확인
print(axis)





np.where(axis % 3, 0, 1)





mean = np.mean(axis)
mean_0 = np.mean(axis, axis = 0)
mean_1 = np.mean(axis, axis = 1)
print(mean)
print(mean_0)
print(mean_1)



