





# 라이브러리 불러오기
import pandas as pd











# 데이터 읽어오기
path = 'https://raw.githubusercontent.com/DA4BAM/dataset/master/Attrition_simple2.CSV'
data = pd.read_csv(path)  

# 상위 5개 확인
data.head(5)


# 확인
data.head()











# Attrition 열 조회 : 시리즈로 조회
data['Attrition']


# Attrition 열 조회2 : 시리즈로 조회
data.Attrition


# Attrition, Age 열 조회 : 데이터프레임으로 조회
# 대괄호 안에 또 대괄호로 읽지 마시고, 대괄호 안에 리스트!!!
data[['Attrition', 'Age' ]]








# 상위 5개 행 조회
data.head(5)


# PercentSalaryHike 열만 조회
data['PercentSalaryHike']


#  Age, DistanceFromHome, Gender열만 조회
data[['Age', 'DistanceFromHome', 'Gender']]


# Age, DistanceFromHome, Gender열만 DistanceFromHome 열 기준으로 내림차순 정렬해서 조회
data[['Age', 'DistanceFromHome', 'Gender']].sort_values(by='DistanceFromHome', ascending=False)








# 조건절(조건문)의 결과는 True, False
data['DistanceFromHome'] > 10


# DistanceFromHome 열 값이 10 보다 큰 행 조회
data.loc[data['DistanceFromHome'] > 10]





# and로 여러 조건 연결
data.loc[(data['DistanceFromHome'] > 10) & (data['JobSatisfaction'] == 4)]


# or 조건 : |
data.loc[(data['DistanceFromHome'] > 10) | (data['JobSatisfaction'] == 4)]





# 값 나열
data.loc[data['JobSatisfaction'].isin([1,4])]





# or 조건
data.loc[(data['JobSatisfaction'] == 1) | (data['JobSatisfaction'] == 4)]





# 범위 지정
data.loc[data['Age'].between(25, 30)]





# and 조건
data.loc[(data['Age'] >= 25) & (data['Age'] <= 30)]





# 조건에 맞는 하나의 열 조회
data.loc[data['MonthlyIncome'] >= 10000, ['Age']]


# 조건에 맞는 여러 열 조회
data.loc[data['MonthlyIncome'] >= 10000, ['Age', 'MaritalStatus', 'TotalWorkingYears']]


나이가 50대(50 ~ 59)이고, 월급이 100000보다 작은 직원 정보를 조회해봅시다
Age, MonthlyIncome, Gender, DistanceFromHome

inclusive = 'left' (이거는 왼쪽은 포함하는것)








# 라이브러리 불러오기









# 파일 읽어오기
path = 'https://raw.githubusercontent.com/DA4BAM/dataset/master/titanic_simple.csv'
data_n = pd.read_csv(path)





data_n.loc[:, ['Name']].head(5)





data_n.loc[:, ['Name', 'Age', 'Sex']]





data_n.loc[:, ['Name', 'Age', 'Sex']].head(10)





data_n.loc[data_n['Age'] >= 30]





Fare_mean = data_n['Fare'].mean()





data_n.loc[data_n['Fare'] < Fare_mean]




















# 라이브러리 불러오기
import pandas as pd








# 데이터 읽어오기
path = 'https://raw.githubusercontent.com/DA4BAM/dataset/master/Attrition_simple2.CSV'
data = pd.read_csv(path)  

# 상위 5개 확인
data.head(5)





# MonthlyIncome 합계
data['MonthlyIncome'].sum()


# MonthlyIncome, TotalWorkingYears 각각의 평균
data[['MonthlyIncome', 'TotalWorkingYears']].mean()





# MaritalStatus 별 Age 평균 --> 시리즈
data.groupby('MaritalStatus', as_index=True)['Age'].mean()





# MaritalStatus 별 Age 평균 --> 데이터프레임
data.groupby('MaritalStatus', as_index=True)[['Age']].mean()





# MaritalStatus 별 Age 평균 --> 데이터프레임
data.groupby('MaritalStatus', as_index=False)[['Age']].mean()





data.groupby('MaritalStatus', as_index=False)[['Age']].mean()





data.groupby('MaritalStatus', as_index=False)[['Age','MonthlyIncome']].mean()





data.groupby('MaritalStatus', as_index=False).sum()





# 'MaritalStatus', 'Gender'별 나머지 열들 평균 조회
data_sum = data.groupby(['MaritalStatus', 'Gender'], as_index=False)[['Age','MonthlyIncome']].mean()

# 확인
data_sum





data_agg = data.groupby('MaritalStatus', as_index=False)[['MonthlyIncome']].agg(['min','max','mean'])
# 확인
data_agg











# 데이터 읽어오기
 

# 상위 5개 확인
























# 라이브러리 불러오기









# 파일 읽어오기































