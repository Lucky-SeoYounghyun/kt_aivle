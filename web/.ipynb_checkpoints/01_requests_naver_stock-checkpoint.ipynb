{
 "cells": [
  {
   "cell_type": "markdown",
   "id": "a2843caf",
   "metadata": {
    "id": "a2843caf"
   },
   "source": [
    "## Web Crawling\n",
    "- 웹 페이지에서 데이터를 수집하는 방법에 대해서 학습"
   ]
  },
  {
   "cell_type": "markdown",
   "id": "193e82cc",
   "metadata": {
    "id": "193e82cc"
   },
   "source": [
    "### 웹크롤링 방법\n",
    "\n",
    "#### 웹페이지의 종류\n",
    "- 정적인 페이지 : 웹 브라우져에 화면이 한번 뜨면 이벤트에 의한 화면의 변경이 없는 페이지 \n",
    "- 동적인 페이지 : 웹 브라우져에 화면이 뜨고 이벤트가 발생하면 서버에서 데이터를 가져와 화면을 변경하는 페이지\n",
    "\n",
    "#### requests 이용\n",
    "- 받아오는 문자열에 따라 두가지 방법으로 구분\n",
    "    - json 문자열로 받아서 파싱하는 방법 : 주로 동적 페이지 크롤링할때 사용 \n",
    "    - html 문자열로 받아서 파싱하는 방법 : 주로 정적 페이지 크롤링할때 사용\n",
    "        \n",
    "#### selenium 이용\n",
    "- 브라우져를 직접 열어서 데이터를 받는 방법\n",
    "\n",
    "#### 크롤링 방법에 따른 속도\n",
    "- requests json > requests html > selenium"
   ]
  },
  {
   "cell_type": "markdown",
   "id": "c9c2b3eb",
   "metadata": {
    "id": "c9c2b3eb"
   },
   "source": [
    "### Crawling Naver Stock Datas\n",
    "- 네이버 증권 사이트에서 주가 데이터 수집\n",
    "- 수집할 데이터 : 일별 kospi, kosdaq 주가, 일별 환율(exchange rate) 데이터\n",
    "- 데이터 수집 절차\n",
    "    - 웹서비스 분석 : url\n",
    "    - 서버에 데이터 요청 : request(url) > response : json(str)\n",
    "    - 서버에서 받은 데이터 파싱(데이터 형태를 변경) : json(str) > list, dict > DataFrame"
   ]
  },
  {
   "cell_type": "code",
   "execution_count": 1,
   "id": "77151645",
   "metadata": {},
   "outputs": [],
   "source": [
    "import requests\n",
    "import pandas as pd"
   ]
  },
  {
   "cell_type": "markdown",
   "id": "e9946ce1",
   "metadata": {
    "id": "e9946ce1"
   },
   "source": [
    "#### 1. 웹서비스 분석 : url\n",
    "- pc 웹페이지가 복잡하면 mobile 웹페이지에서 수집"
   ]
  },
  {
   "cell_type": "code",
   "execution_count": 18,
   "id": "05f8fcb2",
   "metadata": {},
   "outputs": [
    {
     "data": {
      "text/plain": [
       "'https://m.stock.naver.com/api/index/KOSPI/price?pageSize=60&page=1'"
      ]
     },
     "execution_count": 18,
     "metadata": {},
     "output_type": "execute_result"
    }
   ],
   "source": [
    "page_size, page = 60, 1\n",
    "\n",
    "url = f'https://m.stock.naver.com/api/index/KOSPI/price?pageSize={page_size}&page={page}'\n",
    "url"
   ]
  },
  {
   "cell_type": "markdown",
   "id": "45b9c484",
   "metadata": {
    "id": "45b9c484"
   },
   "source": [
    "#### 2. 서버에 데이터 요청 : request(url) > response : json(str)\n",
    "- response의 status code가 200이 나오는지 확인\n",
    "- 403이나 500이 나오면 request가 잘못되거나 web server에서 수집이 안되도록 설정이 된것임\n",
    "    - header 설정 또는 selenium 사용\n",
    "- 200이 나오더라도 response 안에 있는 내용을 확인 > 확인하는 방법 : response.text"
   ]
  },
  {
   "cell_type": "code",
   "execution_count": 19,
   "id": "ba8417ac",
   "metadata": {},
   "outputs": [
    {
     "data": {
      "text/plain": [
       "<Response [200]>"
      ]
     },
     "execution_count": 19,
     "metadata": {},
     "output_type": "execute_result"
    }
   ],
   "source": [
    "response = requests.get(url)\n",
    "response"
   ]
  },
  {
   "cell_type": "code",
   "execution_count": 20,
   "id": "d54dc30b-04b1-41ce-92d6-1b0fefacd874",
   "metadata": {},
   "outputs": [
    {
     "data": {
      "text/plain": [
       "(str,\n",
       " '[{\"localTradedAt\":\"2024-09-19\",\"closePrice\":\"2,580.80\",\"compareToPreviousClosePrice\":\"5.39\",\"compare')"
      ]
     },
     "execution_count": 20,
     "metadata": {},
     "output_type": "execute_result"
    }
   ],
   "source": [
    "type(response.text), response.text[:100]"
   ]
  },
  {
   "cell_type": "markdown",
   "id": "2ab0fb67",
   "metadata": {
    "id": "2ab0fb67"
   },
   "source": [
    "#### 3. 서버에서 받은 데이터 파싱(데이터 형태를 변경) : json(str) > list, dict > DataFrame"
   ]
  },
  {
   "cell_type": "code",
   "execution_count": 22,
   "id": "6e0851a3",
   "metadata": {},
   "outputs": [
    {
     "data": {
      "text/plain": [
       "(list,\n",
       " [{'localTradedAt': '2024-09-19',\n",
       "   'closePrice': '2,580.80',\n",
       "   'compareToPreviousClosePrice': '5.39',\n",
       "   'compareToPreviousPrice': {'code': '2', 'text': '상승', 'name': 'RISING'},\n",
       "   'fluctuationsRatio': '0.21',\n",
       "   'openPrice': '2,594.67',\n",
       "   'highPrice': '2,598.68',\n",
       "   'lowPrice': '2,550.09'},\n",
       "  {'localTradedAt': '2024-09-13',\n",
       "   'closePrice': '2,575.41',\n",
       "   'compareToPreviousClosePrice': '3.32',\n",
       "   'compareToPreviousPrice': {'code': '2', 'text': '상승', 'name': 'RISING'},\n",
       "   'fluctuationsRatio': '0.13',\n",
       "   'openPrice': '2,571.81',\n",
       "   'highPrice': '2,584.11',\n",
       "   'lowPrice': '2,562.91'}])"
      ]
     },
     "execution_count": 22,
     "metadata": {},
     "output_type": "execute_result"
    }
   ],
   "source": [
    "data = response.json()\n",
    "type(data), data[:2]"
   ]
  },
  {
   "cell_type": "code",
   "execution_count": 23,
   "id": "681f8ef2-652d-407e-b53e-a59f7a5b908b",
   "metadata": {},
   "outputs": [
    {
     "data": {
      "text/html": [
       "<div>\n",
       "<style scoped>\n",
       "    .dataframe tbody tr th:only-of-type {\n",
       "        vertical-align: middle;\n",
       "    }\n",
       "\n",
       "    .dataframe tbody tr th {\n",
       "        vertical-align: top;\n",
       "    }\n",
       "\n",
       "    .dataframe thead th {\n",
       "        text-align: right;\n",
       "    }\n",
       "</style>\n",
       "<table border=\"1\" class=\"dataframe\">\n",
       "  <thead>\n",
       "    <tr style=\"text-align: right;\">\n",
       "      <th></th>\n",
       "      <th>localTradedAt</th>\n",
       "      <th>closePrice</th>\n",
       "    </tr>\n",
       "  </thead>\n",
       "  <tbody>\n",
       "    <tr>\n",
       "      <th>58</th>\n",
       "      <td>2024-06-25</td>\n",
       "      <td>2,774.39</td>\n",
       "    </tr>\n",
       "    <tr>\n",
       "      <th>59</th>\n",
       "      <td>2024-06-24</td>\n",
       "      <td>2,764.73</td>\n",
       "    </tr>\n",
       "  </tbody>\n",
       "</table>\n",
       "</div>"
      ],
      "text/plain": [
       "   localTradedAt closePrice\n",
       "58    2024-06-25   2,774.39\n",
       "59    2024-06-24   2,764.73"
      ]
     },
     "execution_count": 23,
     "metadata": {},
     "output_type": "execute_result"
    }
   ],
   "source": [
    "df = pd.DataFrame(data)\n",
    "df = df[['localTradedAt', 'closePrice']]\n",
    "df.tail(2)"
   ]
  },
  {
   "cell_type": "markdown",
   "id": "a5806ae9",
   "metadata": {
    "id": "a5806ae9"
   },
   "source": [
    "#### 4. 함수로 만들기"
   ]
  },
  {
   "cell_type": "code",
   "execution_count": 27,
   "id": "fcc4a262",
   "metadata": {},
   "outputs": [],
   "source": [
    "def stock_price(page = 1, page_size = 60):\n",
    "    url = f'https://m.stock.naver.com/api/index/KOSPI/price?pageSize={page_size}&page={page}'\n",
    "    response = requests.get(url)\n",
    "    data = response.json()\n",
    "    df = pd.DataFrame(data)\n",
    "    return df[['localTradedAt', 'closePrice']]"
   ]
  },
  {
   "cell_type": "code",
   "execution_count": 28,
   "id": "ed025c5b-370f-4d6e-936d-9bdbcabec336",
   "metadata": {},
   "outputs": [
    {
     "data": {
      "text/html": [
       "<div>\n",
       "<style scoped>\n",
       "    .dataframe tbody tr th:only-of-type {\n",
       "        vertical-align: middle;\n",
       "    }\n",
       "\n",
       "    .dataframe tbody tr th {\n",
       "        vertical-align: top;\n",
       "    }\n",
       "\n",
       "    .dataframe thead th {\n",
       "        text-align: right;\n",
       "    }\n",
       "</style>\n",
       "<table border=\"1\" class=\"dataframe\">\n",
       "  <thead>\n",
       "    <tr style=\"text-align: right;\">\n",
       "      <th></th>\n",
       "      <th>localTradedAt</th>\n",
       "      <th>closePrice</th>\n",
       "    </tr>\n",
       "  </thead>\n",
       "  <tbody>\n",
       "    <tr>\n",
       "      <th>0</th>\n",
       "      <td>2024-09-02</td>\n",
       "      <td>2,681.00</td>\n",
       "    </tr>\n",
       "    <tr>\n",
       "      <th>1</th>\n",
       "      <td>2024-08-30</td>\n",
       "      <td>2,674.31</td>\n",
       "    </tr>\n",
       "    <tr>\n",
       "      <th>2</th>\n",
       "      <td>2024-08-29</td>\n",
       "      <td>2,662.28</td>\n",
       "    </tr>\n",
       "    <tr>\n",
       "      <th>3</th>\n",
       "      <td>2024-08-28</td>\n",
       "      <td>2,689.83</td>\n",
       "    </tr>\n",
       "    <tr>\n",
       "      <th>4</th>\n",
       "      <td>2024-08-27</td>\n",
       "      <td>2,689.25</td>\n",
       "    </tr>\n",
       "  </tbody>\n",
       "</table>\n",
       "</div>"
      ],
      "text/plain": [
       "  localTradedAt closePrice\n",
       "0    2024-09-02   2,681.00\n",
       "1    2024-08-30   2,674.31\n",
       "2    2024-08-29   2,662.28\n",
       "3    2024-08-28   2,689.83\n",
       "4    2024-08-27   2,689.25"
      ]
     },
     "execution_count": 28,
     "metadata": {},
     "output_type": "execute_result"
    }
   ],
   "source": [
    "stock_price(page=3, page_size = 5)"
   ]
  },
  {
   "cell_type": "markdown",
   "id": "30b5340b",
   "metadata": {
    "id": "30b5340b"
   },
   "source": [
    "#### 5. 원달러 환율 데이터 수집 : 실습"
   ]
  },
  {
   "cell_type": "code",
   "execution_count": 15,
   "id": "46ee645e",
   "metadata": {},
   "outputs": [
    {
     "data": {
      "text/html": [
       "<div>\n",
       "<style scoped>\n",
       "    .dataframe tbody tr th:only-of-type {\n",
       "        vertical-align: middle;\n",
       "    }\n",
       "\n",
       "    .dataframe tbody tr th {\n",
       "        vertical-align: top;\n",
       "    }\n",
       "\n",
       "    .dataframe thead th {\n",
       "        text-align: right;\n",
       "    }\n",
       "</style>\n",
       "<table border=\"1\" class=\"dataframe\">\n",
       "  <thead>\n",
       "    <tr style=\"text-align: right;\">\n",
       "      <th></th>\n",
       "      <th>localTradedAt</th>\n",
       "      <th>closePrice</th>\n",
       "    </tr>\n",
       "  </thead>\n",
       "  <tbody>\n",
       "    <tr>\n",
       "      <th>58</th>\n",
       "      <td>2024-03-27</td>\n",
       "      <td>1,351.00</td>\n",
       "    </tr>\n",
       "    <tr>\n",
       "      <th>59</th>\n",
       "      <td>2024-03-26</td>\n",
       "      <td>1,344.50</td>\n",
       "    </tr>\n",
       "  </tbody>\n",
       "</table>\n",
       "</div>"
      ],
      "text/plain": [
       "   localTradedAt closePrice\n",
       "58    2024-03-27   1,351.00\n",
       "59    2024-03-26   1,344.50"
      ]
     },
     "execution_count": 15,
     "metadata": {},
     "output_type": "execute_result"
    }
   ],
   "source": [
    "# 1 URL\n",
    "page = 2\n",
    "page_size = 60\n",
    "url = f'https://m.stock.naver.com/front-api/marketIndex/prices?category=exchange&reutersCode=FX_USDKRW&page={page}&pageSize={page_size}'\n",
    "\n",
    "# 2. request(URL) > response(JSON)\n",
    "response = requests.get(url)\n",
    "# 3. JSON\n",
    "data = response.json()['result']\n",
    "df = pd.DataFrame(data)[['localTradedAt', 'closePrice']]\n",
    "df.tail(2)"
   ]
  },
  {
   "cell_type": "code",
   "execution_count": 19,
   "id": "2eb77b05-81f0-4380-83fd-ff7211f7ce92",
   "metadata": {},
   "outputs": [],
   "source": [
    "def exchange_rage(code = 'FX_USDKRW', page = 1, page_size = 60):\n",
    "    url = f'https://m.stock.naver.com/front-api/marketIndex/prices?category=exchange&reutersCode={code}&page={page}&pageSize={page_size}'\n",
    "    response = requests.get(url)\n",
    "    data = response.json()['result']\n",
    "    return pd.DataFrame(data)[['localTradedAt', 'closePrice']]"
   ]
  },
  {
   "cell_type": "code",
   "execution_count": 18,
   "id": "a0907a2c-87e3-4684-8725-608d9f4af4cc",
   "metadata": {},
   "outputs": [
    {
     "data": {
      "text/html": [
       "<div>\n",
       "<style scoped>\n",
       "    .dataframe tbody tr th:only-of-type {\n",
       "        vertical-align: middle;\n",
       "    }\n",
       "\n",
       "    .dataframe tbody tr th {\n",
       "        vertical-align: top;\n",
       "    }\n",
       "\n",
       "    .dataframe thead th {\n",
       "        text-align: right;\n",
       "    }\n",
       "</style>\n",
       "<table border=\"1\" class=\"dataframe\">\n",
       "  <thead>\n",
       "    <tr style=\"text-align: right;\">\n",
       "      <th></th>\n",
       "      <th>localTradedAt</th>\n",
       "      <th>closePrice</th>\n",
       "    </tr>\n",
       "  </thead>\n",
       "  <tbody>\n",
       "    <tr>\n",
       "      <th>0</th>\n",
       "      <td>2024-09-20</td>\n",
       "      <td>1,330.40</td>\n",
       "    </tr>\n",
       "    <tr>\n",
       "      <th>1</th>\n",
       "      <td>2024-09-19</td>\n",
       "      <td>1,330.00</td>\n",
       "    </tr>\n",
       "    <tr>\n",
       "      <th>2</th>\n",
       "      <td>2024-09-13</td>\n",
       "      <td>1,332.00</td>\n",
       "    </tr>\n",
       "    <tr>\n",
       "      <th>3</th>\n",
       "      <td>2024-09-12</td>\n",
       "      <td>1,339.00</td>\n",
       "    </tr>\n",
       "    <tr>\n",
       "      <th>4</th>\n",
       "      <td>2024-09-11</td>\n",
       "      <td>1,340.50</td>\n",
       "    </tr>\n",
       "    <tr>\n",
       "      <th>5</th>\n",
       "      <td>2024-09-10</td>\n",
       "      <td>1,344.50</td>\n",
       "    </tr>\n",
       "    <tr>\n",
       "      <th>6</th>\n",
       "      <td>2024-09-09</td>\n",
       "      <td>1,342.00</td>\n",
       "    </tr>\n",
       "    <tr>\n",
       "      <th>7</th>\n",
       "      <td>2024-09-06</td>\n",
       "      <td>1,339.50</td>\n",
       "    </tr>\n",
       "    <tr>\n",
       "      <th>8</th>\n",
       "      <td>2024-09-05</td>\n",
       "      <td>1,335.00</td>\n",
       "    </tr>\n",
       "    <tr>\n",
       "      <th>9</th>\n",
       "      <td>2024-09-04</td>\n",
       "      <td>1,336.50</td>\n",
       "    </tr>\n",
       "  </tbody>\n",
       "</table>\n",
       "</div>"
      ],
      "text/plain": [
       "  localTradedAt closePrice\n",
       "0    2024-09-20   1,330.40\n",
       "1    2024-09-19   1,330.00\n",
       "2    2024-09-13   1,332.00\n",
       "3    2024-09-12   1,339.00\n",
       "4    2024-09-11   1,340.50\n",
       "5    2024-09-10   1,344.50\n",
       "6    2024-09-09   1,342.00\n",
       "7    2024-09-06   1,339.50\n",
       "8    2024-09-05   1,335.00\n",
       "9    2024-09-04   1,336.50"
      ]
     },
     "execution_count": 18,
     "metadata": {},
     "output_type": "execute_result"
    }
   ],
   "source": [
    "exchange_rage(page_size = 10)"
   ]
  },
  {
   "cell_type": "markdown",
   "id": "13e21944",
   "metadata": {
    "id": "13e21944"
   },
   "source": [
    "#### 6. 시각화"
   ]
  },
  {
   "cell_type": "code",
   "execution_count": null,
   "id": "3dd29f18",
   "metadata": {},
   "outputs": [],
   "source": [
    "page_size = 30\n",
    "kp_df = stock_price('KOSPI', page_size = page_size)\n",
    "kd_df = stock_price('KOSDAQ', page_size = page_size)\n",
    "usd_df = exchange_rage(page_size = page_size)"
   ]
  },
  {
   "cell_type": "markdown",
   "id": "c1c52868",
   "metadata": {
    "id": "c1c52868"
   },
   "source": [
    "#### 7. 데이터 스케일링\n",
    "- min max scaling\n",
    "\n",
    "\n",
    "- $z = \\frac{x_i - min(x)}{max(x) - min(x)} (0 \\leqq z \\leqq 1)$\n",
    "\n",
    "\n",
    "- latex syntax : `https://jjycjnmath.tistory.com/117`"
   ]
  },
  {
   "cell_type": "code",
   "execution_count": null,
   "id": "f7ba6e27",
   "metadata": {},
   "outputs": [],
   "source": []
  },
  {
   "cell_type": "markdown",
   "id": "3d862521",
   "metadata": {
    "id": "3d862521"
   },
   "source": [
    "#### 8. 상관관계 분석\n",
    "- 피어슨 상관계수(Pearson Correlation Coefficient)\n",
    "- 두 데이터 집합의 상관도를 분석할때 사용되는 지표\n",
    "- 상관계수의 해석\n",
    "    - -1에 가까울수록 서로 반대방향으로 움직임\n",
    "    - 1에 가까울수록 서로 같은방향으로 움직임\n",
    "    - 0에 가까울수록 두 데이터는 관계가 없음"
   ]
  },
  {
   "cell_type": "code",
   "execution_count": null,
   "id": "4e51967a",
   "metadata": {},
   "outputs": [],
   "source": []
  }
 ],
 "metadata": {
  "colab": {
   "name": "01_requests_naver_stock.ipynb",
   "provenance": []
  },
  "kernelspec": {
   "display_name": "Python 3 (ipykernel)",
   "language": "python",
   "name": "python3"
  },
  "language_info": {
   "codemirror_mode": {
    "name": "ipython",
    "version": 3
   },
   "file_extension": ".py",
   "mimetype": "text/x-python",
   "name": "python",
   "nbconvert_exporter": "python",
   "pygments_lexer": "ipython3",
   "version": "3.12.4"
  },
  "toc": {
   "base_numbering": 1,
   "nav_menu": {},
   "number_sections": false,
   "sideBar": true,
   "skip_h1_title": false,
   "title_cell": "Table of Contents",
   "title_sidebar": "Contents",
   "toc_cell": false,
   "toc_position": {},
   "toc_section_display": true,
   "toc_window_display": false
  }
 },
 "nbformat": 4,
 "nbformat_minor": 5
}
