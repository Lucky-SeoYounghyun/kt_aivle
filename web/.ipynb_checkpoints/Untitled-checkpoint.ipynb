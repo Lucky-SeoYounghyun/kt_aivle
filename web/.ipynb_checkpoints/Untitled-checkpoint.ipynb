{
 "cells": [
  {
   "cell_type": "markdown",
   "id": "fc52cb1e-0abb-4575-9a18-69f9247fb0bb",
   "metadata": {},
   "source": [
    "# Python\n",
    "- 컴퓨터의 VPU, RAM, SSD를 활용하기 위해서 학습\n",
    "1. 변수전언 : RAM 사용 문법: 식별자(저장공간을 구분하는 문자열) : PEP20, PEP8(autopep8, flake8)\n",
    "2. 데이터 타입 : RAM 효율적 사용 문법 : int, float, bool, str, list, tuple, dicr, set\n",
    "3. 연산자 :CPU 사용 문법 : 산술, 비교, 논리, 할당, 멤버 ...\n",
    "4. 조건문, 반복문 : if, elif, else : while, for, break, continue, range() ...\n",
    "5. 함수 : 반복 사용되는 코드를 묶어서 코드 작성 실행 : def, return, scope(global), lambda ...\n",
    "6. 클래스 : 변수, 함수를 묶어서 코드 작성 실행 : 객체지향 구현 : class, self, special methods(생성자)\n",
    "7. 모듈 : 변수, 함수, 클래스를 파일로 묶어서 코드 작성 실행 : 확장자 .py\n",
    "8. 패키지 : 여러개의 모듈을 디렉토리로 묶어서 관리 : 버전정보 : import, from, as\n",
    "9. 입출력 : SSD 사용 문법 : RAM(object) > SSD(file), SSD(file) > RAM(object) : pickle"
   ]
  },
  {
   "cell_type": "code",
   "execution_count": 4,
   "id": "926833bd-d821-4025-b60b-77d414f9fc51",
   "metadata": {},
   "outputs": [],
   "source": [
    "# import this"
   ]
  },
  {
   "cell_type": "code",
   "execution_count": null,
   "id": "556c710e-0dde-425d-8253-edca6c1c1a94",
   "metadata": {},
   "outputs": [],
   "source": []
  },
  {
   "cell_type": "code",
   "execution_count": null,
   "id": "c2c46647-6c17-40f4-8bf9-ec70de4b066a",
   "metadata": {},
   "outputs": [],
   "source": []
  },
  {
   "cell_type": "code",
   "execution_count": null,
   "id": "e6e18c68-9596-49f4-83d1-fe9e946d2866",
   "metadata": {},
   "outputs": [],
   "source": []
  }
 ],
 "metadata": {
  "kernelspec": {
   "display_name": "Python 3 (ipykernel)",
   "language": "python",
   "name": "python3"
  },
  "language_info": {
   "codemirror_mode": {
    "name": "ipython",
    "version": 3
   },
   "file_extension": ".py",
   "mimetype": "text/x-python",
   "name": "python",
   "nbconvert_exporter": "python",
   "pygments_lexer": "ipython3",
   "version": "3.12.4"
  }
 },
 "nbformat": 4,
 "nbformat_minor": 5
}
