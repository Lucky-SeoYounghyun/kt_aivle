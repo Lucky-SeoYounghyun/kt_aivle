


!pip install selenium


import pandas as pd
from selenium import webdriver
from selenium.webdriver.common.by import By


driver = webdriver.Chrome()


driver.get('https://daum.net')


driver.set_window_size(200, 600)


driver.execute_script('alert("hello?");')


alert = driver.switch_to.alert
alert.accept()


driver.set_window_size(3000, 1200)


# 검색어 입력
driver.find_element(By.CSS_SELECTOR, '#q').send_keys('selenium')


# 검색버튼 클릭
driver.find_element(By.CSS_SELECTOR, '.btn_ksearch').click()


# 브라우저 종료
driver.quit()





driver = webdriver.Chrome()





import time





driver.get('https://www.ted.com/talks')


# close-pc-btn-handler
driver.find_element(By.CSS_SELECTOR, '#close-pc-btn-handler').click()


driver.find_element(By.CSS_SELECTOR, 'h2.text-textPrimary-onLight').text


driver.quit


#
options = webdriver.ChromeOptions()
options.add_argument('headless')
driver = webdriver.Chrome(options = options)
driver.get('https://www.ted.com/talks')
time.sleep(1)
driver.find_element(By.CSS_SELECTOR, '#close-pc-btn-handler').click()
text = driver.find_element(By.CSS_SELECTOR, 'h2.text-textPrimary-onLight').text
print(text)
driver.quit


















