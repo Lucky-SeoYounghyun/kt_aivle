


# install scrapy
#!pip install scrapy


import scrapy, requests
from scrapy.http import TextResponse





!scrapy startproject news


!tree news


!tree news /F


!dir news /S


import os

def print_tree(startpath, depth=0, indent=''):
    items = sorted(os.listdir(startpath), key=lambda x: (os.path.isfile(os.path.join(startpath, x)), x), reverse=True)
    
    if depth == 0:
        folder_name = os.path.basename(os.path.abspath(startpath))
        print('\033[32m' + folder_name + '\033[0m')
        
    for item in items:
        path = os.path.join(startpath, item)
        if os.path.isdir(path):
            print(indent + '└─  ' + '\033[32m' + item + '\033[0m')
            print_tree(path, depth + 1, indent + '    ')
        else:
            print(indent + '│  ' + item)

print_tree('./news')


import os

def my_tree(startpath, indent=''):
    items = sorted(os.listdir(startpath), key=lambda x: (os.path.isfile(os.path.join(startpath, x)), x), reverse=True)

    if indent == '':
        print('\033[32m' + os.path.basename(os.path.abspath(startpath)) + '\033[0m')

    for item in items:
        path = os.path.join(startpath, item)
        connector = '└── ' if item == items[-1] else '├── '

        if os.path.isdir(path):
            print(indent + connector + '\033[32m' + item + '\033[0m')
            my_tree(path, indent + ('    ' if item == items[-1] else '│   '))
        else:
            print(indent + connector + item)

# 이 부분에 원하는 경로를 넣으시면 됩니다.
my_tree('./news')


url = 'https://news.daum.net/'
response = requests.get(url)
response = TextResponse(response.url, body = response.text, encoding='utf-')























import scrapy, requests
from scrapy.http import TextResponse





















