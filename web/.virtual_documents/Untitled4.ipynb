


import requests
import pandas as pd
from bs4 import BeautifulSoup


# 1. URL
url = 'https://finance.naver.com/research/company_list.naver?&page=1'


# 2. request(URL) > response(HTML)
response = requests.get(url)
response


response.text[:200]


# 3. HTML > BeautifulSoup > css-selector > DataFrame


dom = BeautifulSoup(response.content, 'html.parser')
type(dom) # select(css-selector), select_one()


# selector = '#contentarea_left > div.box_type_m > table.type_1 > tbody > tr:nth-child(3)'
selector = 'table > tr'
elements = dom.select(selector)
len(elements)


element = elements[2]
tag = element.select('td')
len(tag), tag


data = {}
data['stock_item'] = tag[0].select_one('a').text
data['stock_link'] = tag[0].select_one('a').get('href')
data['title'] = tag[1].select_one('a').text
data['title_link'] = tag[1].select_one('a').get('href')
data['writer'] = tag[2].text
data['pdf_link'] = tag[3].select_one('a').get('href')
data['date'] = tag[4].text
data['pv'] = tag[5].text
data


# enumerate

rows = []
for idx, elemnet in enumerate(elements):
    tag = elemnet.select('td')
    # print(idx,len(tag))
    if len(tag) == 6:
        data = {}
        data['stock_item'] = tag[0].select_one('a').text
        data['stock_link'] = tag[0].select_one('a').get('href')
        data['title'] = tag[1].select_one('a').text
        data['title_link'] = tag[1].select_one('a').get('href')
        data['writer'] = tag[2].text
        data['pdf_link'] = tag[3].select_one('a').get('href')
        data['date'] = tag[4].text
        data['pv'] = tag[5].text
        rows.append(data)


df = pd.DataFrame(rows)
df.tail(2)


# file download


import os
os.listdir()[-2:]


path = 'reports'
# 디렉토리, 파일 존재 여부 확인
os.path.exists(path)


if not os.path.exists(path):
    os.makedirs(path)


os.path.exists(path)


os.listdir()


title = df.loc[0, 'title']
pdf_link = df.loc[0, 'pdf_link']
title, pdf_link


response = requests.get(url)
response


filename = f'{path}/{title}.pdf'
print(filename)

with open(filename, 'wb') as file:
    file.write(response.content)


import shutil
shutil.rmtree(path)
os.path.exists(path)


os.listdir(path)


for idx, row in df.iterrows():
    print(idx, row['title'], row['pdf_link'])
    title, pdf_link = row['title'], row['pdf_link']
    response = requests.get(url)
    filename = f'{path}/{title}.pdf'
    with open(filename, 'wb') as file:
        
        file.write(response.content)



