{
 "cells": [
  {
   "cell_type": "markdown",
   "id": "democratic-utility",
   "metadata": {},
   "source": [
    "### Zigbang 원룸 매물 데이터 수집"
   ]
  },
  {
   "cell_type": "code",
   "execution_count": 1,
   "id": "9affefe3",
   "metadata": {},
   "outputs": [],
   "source": [
    "import requests\n",
    "import pandas as pd"
   ]
  },
  {
   "cell_type": "markdown",
   "id": "whole-answer",
   "metadata": {},
   "source": [
    "#### Process\n",
    "    - 동이름으로 위도 경도 구하기\n",
    "    - 위도 경도로 geohash 알아내기\n",
    "    - geohash로 매물 아이디 가져오기\n",
    "    - 매물 아이디로 매물 정보 가져오기"
   ]
  },
  {
   "cell_type": "markdown",
   "id": "b98f0c6c",
   "metadata": {},
   "source": [
    "#### 1. 동이름으로 위도 경도 구하기"
   ]
  },
  {
   "cell_type": "code",
   "execution_count": 9,
   "id": "4e8d14a3",
   "metadata": {},
   "outputs": [
    {
     "data": {
      "text/plain": [
       "'{\"success\":true,\"code\":\"200\",\"items\":[{\"id\":4002,\"type\":\"address\",\"name\":\"망원동\",\"hint\":\"\",\"description\":\"서울특별시 마포구 망원동\",\"lat\":37.556785583496094,\"lng\":126.9013442993164,\"zoom\":5,\"polygon\":[],\"_score\":null,\"_source\":{\"name_length\":3,\"local1\":\"서울시\",\"local2\":\"마포구\",\"local3\":\"망원동\",\"web_level\":15,\"web_lat\":37.556785583496094,\"web_lng\":126.9013442993164,\"app_level\":15,\"app_lat\":37.556785583496094,\"app_lng\":126.9013442993164,\"법정동코드\":\"1144012300\"},\"zoom_level\":{\"google\":15,\"daum\":4},\"zoom_level_v2\":{\"app\":5,\"web\":4}},{\"id\":156,\"type\":\"school\",\"name\":\"서울동교초등학교\",\"hint\":\"\",\"description\":\"서울특별시 마포구 망원동\",\"lat\":37.558210071,\"lng\":126.90235496,\"zoom\":3,\"polygon\":[],\"_score\":null,\"_source\":{\"name_length\":8,\"school_code\":\"B100001977\",\"gender\":\"both\",\"stage\":\"elementary\",\"sullib\":\"public\",\"foundation_date\":\"1974-09-01\",\"address\":\"서울시 마포구 망원동 426-5\",\"local1\":\"서울특별시\",\"local2\":\"마포구\",\"local3\":\"망원동\",\"suggestions_insensitive\":[\"서울동교초등학교\"],\"address_road\":\"서울시 마포구 월드컵로25길 86\",\"suggestions\":[\"서울시마포구망원동426-5\",\"서울시마포구월드컵로25길86\"],\"distance\":1000},\"zoom_level\":{\"google\":15,\"daum\":4},\"zoom_level_v2\":{\"app\":4,\"web\":4}},{\"id\":173,\"type\":\"school\",\"name\":\"서울망원초등학교\",\"hint\":\"\",\"description\":\"서울특별시 마포구 망원동\",\"lat\":37.560845223,\"lng\":126.900958257,\"zoom\":3,\"polygon\":[],\"_score\":null,\"_source\":{\"name_length\":8,\"school_code\":\"B100001979\",\"gender\":\"both\",\"stage\":\"elementary\",\"sullib\":\"public\",\"foundation_date\":\"1983-12-31\",\"address\":\"서울시 마포구 망원동 467-1\",\"local1\":\"서울특별시\",\"local2\":\"마포구\",\"local3\":\"망원동\",\"suggestions_insensitive\":[\"서울망원초등학교\"],\"address_road\":\"서울시 마포구 방울내로5길 28\",\"suggestions\":[\"서울시마포구망원동467-1\",\"서울시마포구방울내로5길28\"],\"distance\":1000},\"zoom_level\":{\"google\":15,\"daum\":4},\"zoom_level_v2\":{\"app\":4,\"web\":4}}],\"next\":null,\"limit\":0}'"
      ]
     },
     "execution_count": 9,
     "metadata": {},
     "output_type": "execute_result"
    }
   ],
   "source": [
    "addr = '망원동'\n",
    "url = f'https://apis.zigbang.com/v2/search?leaseYn=N&q={addr}&serviceType=원룸'\n",
    "\n",
    "response = requests.get(url)\n",
    "response.text"
   ]
  },
  {
   "cell_type": "code",
   "execution_count": 12,
   "id": "3f910441-f042-48a3-a427-341af39d571c",
   "metadata": {},
   "outputs": [
    {
     "data": {
      "text/plain": [
       "(37.556785583496094, 126.9013442993164)"
      ]
     },
     "execution_count": 12,
     "metadata": {},
     "output_type": "execute_result"
    }
   ],
   "source": [
    "data = response.json()['items'][0]\n",
    "lat, lng = data['lat'],data['lng']\n",
    "lat, lng"
   ]
  },
  {
   "cell_type": "markdown",
   "id": "8dfada31",
   "metadata": {},
   "source": [
    "#### 2. 위도 경도로 geohash 알아내기"
   ]
  },
  {
   "cell_type": "code",
   "execution_count": 14,
   "id": "1d270ab4",
   "metadata": {},
   "outputs": [
    {
     "name": "stdout",
     "output_type": "stream",
     "text": [
      "Requirement already satisfied: geohash2 in c:\\users\\tjdud\\anaconda3\\lib\\site-packages (1.1)\n",
      "Requirement already satisfied: docutils>=0.3 in c:\\users\\tjdud\\anaconda3\\lib\\site-packages (from geohash2) (0.18.1)\n"
     ]
    }
   ],
   "source": [
    "!pip install geohash2"
   ]
  },
  {
   "cell_type": "code",
   "execution_count": 16,
   "id": "bd3a9c50-d02d-4e4b-b087-a7a35b73009a",
   "metadata": {},
   "outputs": [],
   "source": [
    "import geohash2"
   ]
  },
  {
   "cell_type": "code",
   "execution_count": 19,
   "id": "5450d10b-d4b8-4628-bffd-10ca628a5fa6",
   "metadata": {},
   "outputs": [
    {
     "data": {
      "text/plain": [
       "'wydjx'"
      ]
     },
     "execution_count": 19,
     "metadata": {},
     "output_type": "execute_result"
    }
   ],
   "source": [
    "geohash =geohash2.encode(lat, lng, precision = 5)\n",
    "geohash"
   ]
  },
  {
   "cell_type": "code",
   "execution_count": 21,
   "id": "ed155c7d-cb26-4a19-b34a-b8f337886aad",
   "metadata": {},
   "outputs": [
    {
     "data": {
      "text/plain": [
       "<Response [200]>"
      ]
     },
     "execution_count": 21,
     "metadata": {},
     "output_type": "execute_result"
    }
   ],
   "source": [
    "url = f'https://apis.zigbang.com/v2/items/oneroom?geohash={geohash}&depositMin=0&rentMin=0&salesTypes[0]=전세&salesTypes[1]=월세&domain=zigbang&checkAnyItemWithoutFilter=true'\n",
    "\n",
    "response = requests.get(url)\n",
    "response"
   ]
  },
  {
   "cell_type": "code",
   "execution_count": 25,
   "id": "bfab22ac-14e4-46fc-bca8-915b5d369714",
   "metadata": {},
   "outputs": [
    {
     "data": {
      "text/plain": [
       "380"
      ]
     },
     "execution_count": 25,
     "metadata": {},
     "output_type": "execute_result"
    }
   ],
   "source": []
  },
  {
   "cell_type": "code",
   "execution_count": null,
   "id": "f74683e8-b701-44f7-9ca5-77f3f6344a33",
   "metadata": {},
   "outputs": [],
   "source": []
  },
  {
   "cell_type": "code",
   "execution_count": null,
   "id": "59de1add-2603-4956-83f4-53a5278472ac",
   "metadata": {},
   "outputs": [],
   "source": []
  },
  {
   "cell_type": "markdown",
   "id": "13e8b3f9",
   "metadata": {},
   "source": [
    "#### 3. geohash로 매물 아이디 가져오기"
   ]
  },
  {
   "cell_type": "code",
   "execution_count": null,
   "id": "6e371430-f713-4273-be37-93645f5d1227",
   "metadata": {},
   "outputs": [],
   "source": [
    "item_ids = []\n",
    "for data in response.json()['items']:\n",
    "    item_ids.append(data['itemId'])\n",
    "len(item_ids)"
   ]
  },
  {
   "cell_type": "code",
   "execution_count": null,
   "id": "2ceb8ea4",
   "metadata": {},
   "outputs": [],
   "source": [
    "item_ids = [data['itemId'] for data in response.json()['items']]"
   ]
  },
  {
   "cell_type": "markdown",
   "id": "85225aae",
   "metadata": {},
   "source": [
    "#### 4. 매물 아이디로 매물 정보 가져오기"
   ]
  },
  {
   "cell_type": "code",
   "execution_count": 31,
   "id": "0212d892",
   "metadata": {},
   "outputs": [
    {
     "data": {
      "text/plain": [
       "<Response [200]>"
      ]
     },
     "execution_count": 31,
     "metadata": {},
     "output_type": "execute_result"
    }
   ],
   "source": [
    "url = 'https://apis.zigbang.com/v2/items/list'\n",
    "\n",
    "params = {\n",
    "    'domain': \"zigbang\",\n",
    "    'item_ids' : item_ids\n",
    "}\n",
    "\n",
    "reponse = requests.post(url, params)\n",
    "reponse"
   ]
  },
  {
   "cell_type": "code",
   "execution_count": 38,
   "id": "ea317817-ce2f-4f98-8f36-a5c90fe0ecd1",
   "metadata": {},
   "outputs": [
    {
     "data": {
      "text/html": [
       "<div>\n",
       "<style scoped>\n",
       "    .dataframe tbody tr th:only-of-type {\n",
       "        vertical-align: middle;\n",
       "    }\n",
       "\n",
       "    .dataframe tbody tr th {\n",
       "        vertical-align: top;\n",
       "    }\n",
       "\n",
       "    .dataframe thead th {\n",
       "        text-align: right;\n",
       "    }\n",
       "</style>\n",
       "<table border=\"1\" class=\"dataframe\">\n",
       "  <thead>\n",
       "    <tr style=\"text-align: right;\">\n",
       "      <th></th>\n",
       "      <th>item_id</th>\n",
       "      <th>sales_title</th>\n",
       "      <th>deposit</th>\n",
       "      <th>rent</th>\n",
       "      <th>size_m2</th>\n",
       "      <th>floor</th>\n",
       "      <th>building_floor</th>\n",
       "      <th>title</th>\n",
       "      <th>manage_cost</th>\n",
       "      <th>address1</th>\n",
       "    </tr>\n",
       "  </thead>\n",
       "  <tbody>\n",
       "    <tr>\n",
       "      <th>378</th>\n",
       "      <td>42176516</td>\n",
       "      <td>월세</td>\n",
       "      <td>1000</td>\n",
       "      <td>75</td>\n",
       "      <td>37.00</td>\n",
       "      <td>반지하</td>\n",
       "      <td>2</td>\n",
       "      <td>반려동물O 깔끔한 투룸</td>\n",
       "      <td>3</td>\n",
       "      <td>서울시 마포구 성산동</td>\n",
       "    </tr>\n",
       "    <tr>\n",
       "      <th>379</th>\n",
       "      <td>42218289</td>\n",
       "      <td>월세</td>\n",
       "      <td>1000</td>\n",
       "      <td>49</td>\n",
       "      <td>15.84</td>\n",
       "      <td>2</td>\n",
       "      <td>5</td>\n",
       "      <td>가좌역2분 깔끔 엘베있는 필로티 원룸</td>\n",
       "      <td>10</td>\n",
       "      <td>서울시 마포구 중동</td>\n",
       "    </tr>\n",
       "  </tbody>\n",
       "</table>\n",
       "</div>"
      ],
      "text/plain": [
       "      item_id sales_title  deposit  rent  size_m2 floor building_floor  \\\n",
       "378  42176516          월세     1000    75    37.00   반지하              2   \n",
       "379  42218289          월세     1000    49    15.84     2              5   \n",
       "\n",
       "                    title manage_cost     address1  \n",
       "378          반려동물O 깔끔한 투룸           3  서울시 마포구 성산동  \n",
       "379  가좌역2분 깔끔 엘베있는 필로티 원룸          10   서울시 마포구 중동  "
      ]
     },
     "execution_count": 38,
     "metadata": {},
     "output_type": "execute_result"
    }
   ],
   "source": [
    "data = reponse.json()['items']\n",
    "df = pd.DataFrame(data)\n",
    "df = df[['item_id', 'sales_title', 'deposit', 'rent', 'size_m2', 'floor', 'building_floor', 'title', 'manage_cost', 'address1']]\n",
    "df.tail(2)\n",
    "# df.columns"
   ]
  },
  {
   "cell_type": "code",
   "execution_count": 34,
   "id": "6186e213-1520-40e1-8a47-df8f78f4ca41",
   "metadata": {},
   "outputs": [
    {
     "data": {
      "text/plain": [
       "Index(['item_id', 'sales_type'], dtype='object')"
      ]
     },
     "execution_count": 34,
     "metadata": {},
     "output_type": "execute_result"
    }
   ],
   "source": [
    "def oneroom(addr):\n",
    "    url = f'https://apis.zigbang.com/v2/search?leaseYn=N&q={addr}&serviceType=원룸'\n",
    "    response = requests.get(url)\n",
    "    data = response.json()['items'][0]\n",
    "    lat, lng = data['lat'],data['lng']\n",
    "    lat, lng\n",
    "    "
   ]
  },
  {
   "cell_type": "code",
   "execution_count": null,
   "id": "d989e3ca-e491-48c9-8825-5e0927d82dc7",
   "metadata": {},
   "outputs": [],
   "source": []
  }
 ],
 "metadata": {
  "kernelspec": {
   "display_name": "Python 3 (ipykernel)",
   "language": "python",
   "name": "python3"
  },
  "language_info": {
   "codemirror_mode": {
    "name": "ipython",
    "version": 3
   },
   "file_extension": ".py",
   "mimetype": "text/x-python",
   "name": "python",
   "nbconvert_exporter": "python",
   "pygments_lexer": "ipython3",
   "version": "3.12.4"
  },
  "toc": {
   "base_numbering": 1,
   "nav_menu": {},
   "number_sections": false,
   "sideBar": true,
   "skip_h1_title": false,
   "title_cell": "Table of Contents",
   "title_sidebar": "Contents",
   "toc_cell": false,
   "toc_position": {},
   "toc_section_display": true,
   "toc_window_display": false
  }
 },
 "nbformat": 4,
 "nbformat_minor": 5
}
