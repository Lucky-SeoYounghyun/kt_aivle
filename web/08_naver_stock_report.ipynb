{
 "cells": [
  {
   "cell_type": "markdown",
   "id": "af005015-6cdc-4e00-9dd2-20f7a724fd8b",
   "metadata": {},
   "source": [
    "# Crawling Naver Stock Repots"
   ]
  },
  {
   "cell_type": "code",
   "execution_count": 4,
   "id": "7067fde7-53c9-44a9-96fb-9df7a651bcf3",
   "metadata": {},
   "outputs": [],
   "source": [
    "import requests\n",
    "import pandas as pd\n",
    "from bs4 import BeautifulSoup"
   ]
  },
  {
   "cell_type": "code",
   "execution_count": 6,
   "id": "da50eac5-4aeb-41ef-b665-ae9e4aab01ff",
   "metadata": {},
   "outputs": [],
   "source": [
    "# 1. URL\n",
    "url = 'https://finance.naver.com/research/company_list.naver?&page=1'"
   ]
  },
  {
   "cell_type": "code",
   "execution_count": 8,
   "id": "869cdd32-038f-43fd-9254-c5f4f6dd712b",
   "metadata": {},
   "outputs": [
    {
     "data": {
      "text/plain": [
       "<Response [200]>"
      ]
     },
     "execution_count": 8,
     "metadata": {},
     "output_type": "execute_result"
    }
   ],
   "source": [
    "# 2. request(URL) > response(HTML)\n",
    "response = requests.get(url)\n",
    "response"
   ]
  },
  {
   "cell_type": "code",
   "execution_count": 11,
   "id": "da085e49-177b-4603-99a0-2a58cf63afc3",
   "metadata": {},
   "outputs": [
    {
     "data": {
      "text/plain": [
       "'<!--  global include -->\\n\\n\\t\\n\\t\\n\\t\\n\\t\\n\\t\\n<html lang=\\'ko\\'>\\n<head>\\n\\n\\n\\t\\n\\t\\n\\t\\t\\n\\t\\t\\t\\n\\t\\t\\t\\n\\t\\t\\t\\t<title>종목분석 리포트 : 네이버페이 증권</title>\\n\\t\\t\\t\\n\\t\\t\\n\\t\\n\\n\\n\\n\\n<meta http-equiv=\"Content-Type\" content=\"text/html; charset=utf-8\" />\\n\\n'"
      ]
     },
     "execution_count": 11,
     "metadata": {},
     "output_type": "execute_result"
    }
   ],
   "source": [
    "response.text[:200]"
   ]
  },
  {
   "cell_type": "code",
   "execution_count": 10,
   "id": "aa0aa325-5bdc-4942-992f-f9564587d592",
   "metadata": {},
   "outputs": [],
   "source": [
    "# 3. HTML > BeautifulSoup > css-selector > DataFrame"
   ]
  },
  {
   "cell_type": "code",
   "execution_count": 13,
   "id": "fea1a806-ddf2-4f94-9394-11231e009044",
   "metadata": {},
   "outputs": [
    {
     "data": {
      "text/plain": [
       "bs4.BeautifulSoup"
      ]
     },
     "execution_count": 13,
     "metadata": {},
     "output_type": "execute_result"
    }
   ],
   "source": [
    "dom = BeautifulSoup(response.content, 'html.parser')\n",
    "type(dom) # select(css-selector), select_one()"
   ]
  },
  {
   "cell_type": "code",
   "execution_count": 19,
   "id": "2c4dc36e-edbe-4bfe-96c0-a99908aee53f",
   "metadata": {},
   "outputs": [
    {
     "data": {
      "text/plain": [
       "55"
      ]
     },
     "execution_count": 19,
     "metadata": {},
     "output_type": "execute_result"
    }
   ],
   "source": [
    "# selector = '#contentarea_left > div.box_type_m > table.type_1 > tbody > tr:nth-child(3)'\n",
    "selector = 'table > tr'\n",
    "elements = dom.select(selector)\n",
    "len(elements)"
   ]
  },
  {
   "cell_type": "code",
   "execution_count": 21,
   "id": "ad8511ee-43f0-43d8-a426-604f2beedb92",
   "metadata": {},
   "outputs": [
    {
     "data": {
      "text/plain": [
       "(6,\n",
       " [<td style=\"padding-left:10\">\n",
       "  <a class=\"stock_item\" href=\"/item/main.naver?code=066570\" title=\"LG전자\">LG전자</a>\n",
       "  </td>,\n",
       "  <td><a href=\"company_read.naver?nid=77126&amp;page=1\">AI데이터센터 냉각 시장 공략</a><img alt=\"NEW\" class=\"ico_new\" height=\"8\" src=\"https://ssl.pstatic.net/imgstock/images5/ico_research_new.gif\" width=\"8\"/></td>,\n",
       "  <td>교보증권</td>,\n",
       "  <td class=\"file\"><a href=\"https://stock.pstatic.net/stock-research/company/34/20240923_company_481199000.pdf\" target=\"_blank\"><img align=\"absmiddle\" alt=\"pdf\" src=\"https://ssl.pstatic.net/imgstock/images5/down.gif\"/></a></td>,\n",
       "  <td class=\"date\" style=\"padding-left:5px\">24.09.23</td>,\n",
       "  <td class=\"date\">226</td>])"
      ]
     },
     "execution_count": 21,
     "metadata": {},
     "output_type": "execute_result"
    }
   ],
   "source": [
    "element = elements[2]\n",
    "tag = element.select('td')\n",
    "len(tag), tag"
   ]
  },
  {
   "cell_type": "code",
   "execution_count": 39,
   "id": "8f8b7479-6b98-44c9-b531-9b15a4f2bd5a",
   "metadata": {},
   "outputs": [
    {
     "data": {
      "text/plain": [
       "{'stock_item': 'LG전자',\n",
       " 'stock_link': '/item/main.naver?code=066570',\n",
       " 'title': 'AI데이터센터 냉각 시장 공략',\n",
       " 'title_link': 'company_read.naver?nid=77126&page=1',\n",
       " 'writer': '교보증권',\n",
       " 'pdf_link': 'https://stock.pstatic.net/stock-research/company/34/20240923_company_481199000.pdf',\n",
       " 'date': '24.09.23',\n",
       " 'pv': '226'}"
      ]
     },
     "execution_count": 39,
     "metadata": {},
     "output_type": "execute_result"
    }
   ],
   "source": [
    "data = {}\n",
    "data['stock_item'] = tag[0].select_one('a').text\n",
    "data['stock_link'] = tag[0].select_one('a').get('href')\n",
    "data['title'] = tag[1].select_one('a').text\n",
    "data['title_link'] = tag[1].select_one('a').get('href')\n",
    "data['writer'] = tag[2].text\n",
    "data['pdf_link'] = tag[3].select_one('a').get('href')\n",
    "data['date'] = tag[4].text\n",
    "data['pv'] = tag[5].text\n",
    "data"
   ]
  },
  {
   "cell_type": "code",
   "execution_count": 45,
   "id": "3717496c-81f2-47db-b503-145e2e2543b2",
   "metadata": {},
   "outputs": [],
   "source": [
    "# enumerate\n",
    "\n",
    "rows = []\n",
    "for idx, elemnet in enumerate(elements):\n",
    "    tag = elemnet.select('td')\n",
    "    # print(idx,len(tag))\n",
    "    if len(tag) == 6:\n",
    "        data = {}\n",
    "        data['stock_item'] = tag[0].select_one('a').text\n",
    "        data['stock_link'] = tag[0].select_one('a').get('href')\n",
    "        data['title'] = tag[1].select_one('a').text\n",
    "        data['title_link'] = tag[1].select_one('a').get('href')\n",
    "        data['writer'] = tag[2].text\n",
    "        data['pdf_link'] = tag[3].select_one('a').get('href')\n",
    "        data['date'] = tag[4].text\n",
    "        data['pv'] = tag[5].text\n",
    "        rows.append(data)"
   ]
  },
  {
   "cell_type": "code",
   "execution_count": 47,
   "id": "72d7ea40-767b-45cf-aa6d-62d32499820b",
   "metadata": {},
   "outputs": [
    {
     "data": {
      "text/html": [
       "<div>\n",
       "<style scoped>\n",
       "    .dataframe tbody tr th:only-of-type {\n",
       "        vertical-align: middle;\n",
       "    }\n",
       "\n",
       "    .dataframe tbody tr th {\n",
       "        vertical-align: top;\n",
       "    }\n",
       "\n",
       "    .dataframe thead th {\n",
       "        text-align: right;\n",
       "    }\n",
       "</style>\n",
       "<table border=\"1\" class=\"dataframe\">\n",
       "  <thead>\n",
       "    <tr style=\"text-align: right;\">\n",
       "      <th></th>\n",
       "      <th>stock_item</th>\n",
       "      <th>stock_link</th>\n",
       "      <th>title</th>\n",
       "      <th>title_link</th>\n",
       "      <th>writer</th>\n",
       "      <th>pdf_link</th>\n",
       "      <th>date</th>\n",
       "      <th>pv</th>\n",
       "    </tr>\n",
       "  </thead>\n",
       "  <tbody>\n",
       "    <tr>\n",
       "      <th>28</th>\n",
       "      <td>동국S&amp;C</td>\n",
       "      <td>/item/main.naver?code=100130</td>\n",
       "      <td>금리 하락으로 미국에서 훈풍이 불어온다</td>\n",
       "      <td>company_read.naver?nid=77098&amp;page=1</td>\n",
       "      <td>iM증권</td>\n",
       "      <td>https://stock.pstatic.net/stock-research/compa...</td>\n",
       "      <td>24.09.19</td>\n",
       "      <td>1501</td>\n",
       "    </tr>\n",
       "    <tr>\n",
       "      <th>29</th>\n",
       "      <td>SOOP</td>\n",
       "      <td>/item/main.naver?code=067160</td>\n",
       "      <td>경쟁사 스트리머 이적, 트래픽 유입 기대</td>\n",
       "      <td>company_read.naver?nid=77097&amp;page=1</td>\n",
       "      <td>신한투자증권</td>\n",
       "      <td>https://stock.pstatic.net/stock-research/compa...</td>\n",
       "      <td>24.09.19</td>\n",
       "      <td>1455</td>\n",
       "    </tr>\n",
       "  </tbody>\n",
       "</table>\n",
       "</div>"
      ],
      "text/plain": [
       "   stock_item                    stock_link                   title  \\\n",
       "28      동국S&C  /item/main.naver?code=100130   금리 하락으로 미국에서 훈풍이 불어온다   \n",
       "29       SOOP  /item/main.naver?code=067160  경쟁사 스트리머 이적, 트래픽 유입 기대   \n",
       "\n",
       "                             title_link  writer  \\\n",
       "28  company_read.naver?nid=77098&page=1    iM증권   \n",
       "29  company_read.naver?nid=77097&page=1  신한투자증권   \n",
       "\n",
       "                                             pdf_link      date    pv  \n",
       "28  https://stock.pstatic.net/stock-research/compa...  24.09.19  1501  \n",
       "29  https://stock.pstatic.net/stock-research/compa...  24.09.19  1455  "
      ]
     },
     "execution_count": 47,
     "metadata": {},
     "output_type": "execute_result"
    }
   ],
   "source": [
    "df = pd.DataFrame(rows)\n",
    "df.tail(2)"
   ]
  },
  {
   "cell_type": "code",
   "execution_count": 50,
   "id": "c0a35554-4081-4be2-8e40-ddf4b4cd50c6",
   "metadata": {},
   "outputs": [],
   "source": [
    "# file download"
   ]
  },
  {
   "cell_type": "code",
   "execution_count": 52,
   "id": "37b20c68-71d7-474a-86bc-6662034f3df6",
   "metadata": {},
   "outputs": [
    {
     "data": {
      "text/plain": [
       "['Untitled2.ipynb', 'Untitled3.ipynb']"
      ]
     },
     "execution_count": 52,
     "metadata": {},
     "output_type": "execute_result"
    }
   ],
   "source": [
    "import os\n",
    "os.listdir()[-2:]"
   ]
  },
  {
   "cell_type": "code",
   "execution_count": 54,
   "id": "bc1decab-4026-4ecf-88fe-0c7a1754c303",
   "metadata": {},
   "outputs": [
    {
     "data": {
      "text/plain": [
       "False"
      ]
     },
     "execution_count": 54,
     "metadata": {},
     "output_type": "execute_result"
    }
   ],
   "source": [
    "path = 'reports'\n",
    "# 디렉토리, 파일 존재 여부 확인\n",
    "os.path.exists(path)"
   ]
  },
  {
   "cell_type": "code",
   "execution_count": 73,
   "id": "000dc8e1-a859-4b5f-b153-3fdab136e423",
   "metadata": {},
   "outputs": [],
   "source": [
    "if not os.path.exists(path):\n",
    "    os.makedirs(path)"
   ]
  },
  {
   "cell_type": "code",
   "execution_count": 57,
   "id": "deee23fe-5a7d-41f1-8dd5-ef74856bc02b",
   "metadata": {},
   "outputs": [
    {
     "data": {
      "text/plain": [
       "True"
      ]
     },
     "execution_count": 57,
     "metadata": {},
     "output_type": "execute_result"
    }
   ],
   "source": [
    "os.path.exists(path)"
   ]
  },
  {
   "cell_type": "code",
   "execution_count": 58,
   "id": "c298d27b-6378-4bce-afd2-866788ab4090",
   "metadata": {},
   "outputs": [
    {
     "data": {
      "text/plain": [
       "['.ipynb_checkpoints',\n",
       " '.virtual_documents',\n",
       " '01_requests_naver_stock.ipynb',\n",
       " '02_requests_daum_exchange.ipynb',\n",
       " '03_rest_api (1).ipynb',\n",
       " '03_rest_api.ipynb',\n",
       " '04_requests_zigbang.ipynb',\n",
       " '04_requests_zigbang_code.ipynb',\n",
       " '05_html.ipynb',\n",
       " '06_css_selector.ipynb',\n",
       " '07_naver_relational_keywords.ipynb',\n",
       " '08_naver_stock_report.ipynb',\n",
       " 'reports',\n",
       " 'Untitled.ipynb',\n",
       " 'untitled.txt',\n",
       " 'Untitled1.ipynb',\n",
       " 'Untitled2.ipynb',\n",
       " 'Untitled3.ipynb']"
      ]
     },
     "execution_count": 58,
     "metadata": {},
     "output_type": "execute_result"
    }
   ],
   "source": [
    "os.listdir()"
   ]
  },
  {
   "cell_type": "code",
   "execution_count": 63,
   "id": "869f274e-6708-4a7d-809d-0988a6d95bb8",
   "metadata": {},
   "outputs": [
    {
     "data": {
      "text/plain": [
       "('AI데이터센터 냉각 시장 공략',\n",
       " 'https://stock.pstatic.net/stock-research/company/34/20240923_company_481199000.pdf')"
      ]
     },
     "execution_count": 63,
     "metadata": {},
     "output_type": "execute_result"
    }
   ],
   "source": [
    "title = df.loc[0, 'title']\n",
    "pdf_link = df.loc[0, 'pdf_link']\n",
    "title, pdf_link"
   ]
  },
  {
   "cell_type": "code",
   "execution_count": 64,
   "id": "c638bf26-1bdf-40fc-8a51-11e832636c17",
   "metadata": {},
   "outputs": [
    {
     "data": {
      "text/plain": [
       "<Response [200]>"
      ]
     },
     "execution_count": 64,
     "metadata": {},
     "output_type": "execute_result"
    }
   ],
   "source": [
    "response = requests.get(url)\n",
    "response"
   ]
  },
  {
   "cell_type": "code",
   "execution_count": 66,
   "id": "ac29e254-8c51-4390-b947-ac4133cfdf35",
   "metadata": {},
   "outputs": [
    {
     "name": "stdout",
     "output_type": "stream",
     "text": [
      "reports/AI데이터센터 냉각 시장 공략.pdf\n"
     ]
    }
   ],
   "source": [
    "filename = f'{path}/{title}.pdf'\n",
    "print(filename)\n",
    "\n",
    "with open(filename, 'wb') as file:\n",
    "    file.write(response.content)"
   ]
  },
  {
   "cell_type": "code",
   "execution_count": 68,
   "id": "2f3159ac-b5b8-4af8-8e7c-196bb53b17c6",
   "metadata": {},
   "outputs": [
    {
     "data": {
      "text/plain": [
       "False"
      ]
     },
     "execution_count": 68,
     "metadata": {},
     "output_type": "execute_result"
    }
   ],
   "source": [
    "import shutil\n",
    "shutil.rmtree(path)\n",
    "os.path.exists(path)"
   ]
  },
  {
   "cell_type": "code",
   "execution_count": 69,
   "id": "912f8cab-31d4-4489-ad0d-52099dc695ea",
   "metadata": {},
   "outputs": [
    {
     "ename": "FileNotFoundError",
     "evalue": "[WinError 3] 지정된 경로를 찾을 수 없습니다: 'reports'",
     "output_type": "error",
     "traceback": [
      "\u001b[1;31m---------------------------------------------------------------------------\u001b[0m",
      "\u001b[1;31mFileNotFoundError\u001b[0m                         Traceback (most recent call last)",
      "Cell \u001b[1;32mIn[69], line 1\u001b[0m\n\u001b[1;32m----> 1\u001b[0m os\u001b[38;5;241m.\u001b[39mlistdir(path)\n",
      "\u001b[1;31mFileNotFoundError\u001b[0m: [WinError 3] 지정된 경로를 찾을 수 없습니다: 'reports'"
     ]
    }
   ],
   "source": [
    "os.listdir(path)"
   ]
  },
  {
   "cell_type": "code",
   "execution_count": 74,
   "id": "e883fab0-e38e-4c9d-9b59-e5118b4af193",
   "metadata": {},
   "outputs": [
    {
     "name": "stdout",
     "output_type": "stream",
     "text": [
      "0 AI데이터센터 냉각 시장 공략 https://stock.pstatic.net/stock-research/company/34/20240923_company_481199000.pdf\n",
      "1 설계와 시공능력으로 액침냉각 사업 확대 https://stock.pstatic.net/stock-research/company/34/20240923_company_279682000.pdf\n",
      "2 액침냉각, 기술적 강점을 확보해 나가는 중 https://stock.pstatic.net/stock-research/company/62/20240923_company_647832000.pdf\n",
      "3 3Q24 Preview: 국내 수주 강세 VS 중국 부진 .. https://stock.pstatic.net/stock-research/company/57/20240923_company_621805000.pdf\n",
      "4 Re-rating 구간 돌입 https://stock.pstatic.net/stock-research/company/63/20240923_company_747255000.pdf\n",
      "5 높아지는 Peak sales https://stock.pstatic.net/stock-research/company/29/20240923_company_582032000.pdf\n",
      "6 Metsera, 너는 계획이 다 있구나 https://stock.pstatic.net/stock-research/company/39/20240923_company_387902000.pdf\n",
      "7 의대 열풍, 나만 믿어 https://stock.pstatic.net/stock-research/company/21/20240923_company_352867000.pdf\n",
      "8 속도가 느려도, 방향성은 맞다 https://stock.pstatic.net/stock-research/company/39/20240923_company_584932000.pdf\n",
      "9 빅파마들의 RPT 방향, 우리도 간다 https://stock.pstatic.net/stock-research/company/29/20240920_company_395376000.pdf\n",
      "10 코스닥 방사성의약품 기업으로 진입  https://stock.pstatic.net/stock-research/company/29/20240920_company_183023000.pdf\n",
      "11 롯데렌탈의 쏘카 지분 추가취득 당분간 중단 https://stock.pstatic.net/stock-research/company/57/20240920_company_178894000.pdf\n",
      "12 길어지고 있는 기다림 https://stock.pstatic.net/stock-research/company/18/20240920_company_753861000.pdf\n",
      "13 2024년 3분기 부진 터널 통과해야! https://stock.pstatic.net/stock-research/company/18/20240920_company_57258000.pdf\n",
      "14 이튼의 견고한 성장 파트너 https://stock.pstatic.net/stock-research/company/18/20240920_company_34889000.pdf\n",
      "15 엘사 https://stock.pstatic.net/stock-research/company/29/20240920_company_281135000.pdf\n",
      "16 Moment of Truth https://stock.pstatic.net/stock-research/company/21/20240920_company_358074000.pdf\n",
      "17 확대되는 TROP2 ADC 치료제 시장 https://stock.pstatic.net/stock-research/company/63/20240920_company_241527000.pdf\n",
      "18 엔지니어링 플라스틱 소재 개발 및 고도화로 .. https://stock.pstatic.net/stock-research/company/72/20240920_company_938658000.pdf\n",
      "19 경쟁력 있는 CDMO, 여기에도 있다 https://stock.pstatic.net/stock-research/company/66/20240919_company_564633000.pdf\n",
      "20 환율 모멘텀 발생 예상. 자사주 추가 매입 가.. https://stock.pstatic.net/stock-research/company/57/20240919_company_316925000.pdf\n",
      "21 가치가 높아지는 F박스와 K패션 해외 진출 수.. https://stock.pstatic.net/stock-research/company/16/20240919_company_108073000.pdf\n",
      "22 경증 아토피 치료의 글로벌  시장 판도를 바.. https://stock.pstatic.net/stock-research/company/2/20240919_company_999118000.pdf\n",
      "23 3분기는 비수기, 그러나   주주 가치 환원에 .. https://stock.pstatic.net/stock-research/company/2/20240919_company_792011000.pdf\n",
      "24 3Q24 일시적인 실적 둔화,  분위기 반전이 필.. https://stock.pstatic.net/stock-research/company/2/20240919_company_398898000.pdf\n",
      "25 지속가능한 성장 https://stock.pstatic.net/stock-research/company/63/20240919_company_57035000.pdf\n",
      "26 미국 타워 판가도 인상 https://stock.pstatic.net/stock-research/company/63/20240919_company_131970000.pdf\n",
      "27 콥데이 후기: 8.6G OLED 투자 본격화 수혜 기.. https://stock.pstatic.net/stock-research/company/63/20240919_company_584893000.pdf\n",
      "28 금리 하락으로 미국에서 훈풍이 불어온다 https://stock.pstatic.net/stock-research/company/61/20240919_company_401972000.pdf\n",
      "29 경쟁사 스트리머 이적, 트래픽 유입 기대 https://stock.pstatic.net/stock-research/company/21/20240919_company_26810000.pdf\n"
     ]
    }
   ],
   "source": [
    "for idx, row in df.iterrows():\n",
    "    print(idx, row['title'], row['pdf_link'])\n",
    "    title, pdf_link = row['title'], row['pdf_link']\n",
    "    response = requests.get(url)\n",
    "    filename = f'{path}/{title}.pdf'\n",
    "    with open(filename, 'wb') as file:\n",
    "        \n",
    "        file.write(response.content)"
   ]
  },
  {
   "cell_type": "code",
   "execution_count": null,
   "id": "0699cd50-da20-4a1c-89b3-0202b09332a7",
   "metadata": {},
   "outputs": [],
   "source": []
  }
 ],
 "metadata": {
  "kernelspec": {
   "display_name": "Python 3 (ipykernel)",
   "language": "python",
   "name": "python3"
  },
  "language_info": {
   "codemirror_mode": {
    "name": "ipython",
    "version": 3
   },
   "file_extension": ".py",
   "mimetype": "text/x-python",
   "name": "python",
   "nbconvert_exporter": "python",
   "pygments_lexer": "ipython3",
   "version": "3.12.4"
  }
 },
 "nbformat": 4,
 "nbformat_minor": 5
}
