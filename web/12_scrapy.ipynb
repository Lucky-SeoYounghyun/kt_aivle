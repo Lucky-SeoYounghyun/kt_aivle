{
 "cells": [
  {
   "cell_type": "markdown",
   "id": "b12537ef",
   "metadata": {
    "id": "b12537ef"
   },
   "source": [
    "# Scrapy\n",
    "- 웹사이트에서 데이터 수집을 위한 오픈소스 파이썬 프레임워크\n",
    "- 멀티스레딩으로 데이터 수집\n",
    "- gmarket 상품데이터 수집"
   ]
  },
  {
   "cell_type": "code",
   "execution_count": 1,
   "id": "c8df8471",
   "metadata": {
    "id": "c8df8471",
    "tags": []
   },
   "outputs": [],
   "source": [
    "# install scrapy\n",
    "#!pip install scrapy"
   ]
  },
  {
   "cell_type": "code",
   "execution_count": 2,
   "id": "616421e2-b85f-4111-b5ac-c92abbe59c2f",
   "metadata": {},
   "outputs": [],
   "source": [
    "import scrapy, requests\n",
    "from scrapy.http import TextResponse"
   ]
  },
  {
   "cell_type": "markdown",
   "id": "c0332cd8-37a0-4f19-9a84-e64a565827d6",
   "metadata": {
    "id": "c0332cd8-37a0-4f19-9a84-e64a565827d6"
   },
   "source": [
    "## 1. make project"
   ]
  },
  {
   "cell_type": "code",
   "execution_count": 3,
   "id": "3712532a-e7e9-49d7-b9a0-95526c024d04",
   "metadata": {
    "id": "3712532a-e7e9-49d7-b9a0-95526c024d04"
   },
   "outputs": [
    {
     "name": "stdout",
     "output_type": "stream",
     "text": [
      "New Scrapy project 'news', using template directory 'C:\\Users\\tjdud\\anaconda3\\Lib\\site-packages\\scrapy\\templates\\project', created in:\n",
      "    C:\\Users\\tjdud\\web\\news\n",
      "\n",
      "You can start your first spider with:\n",
      "    cd news\n",
      "    scrapy genspider example example.com\n"
     ]
    }
   ],
   "source": [
    "!scrapy startproject news"
   ]
  },
  {
   "cell_type": "code",
   "execution_count": null,
   "id": "cfde8ac9-e362-405f-857a-3d245c277e4c",
   "metadata": {
    "id": "cfde8ac9-e362-405f-857a-3d245c277e4c",
    "outputId": "ba59f688-fac0-4bf5-92dd-f6fe70d51309",
    "tags": []
   },
   "outputs": [
    {
     "name": "stdout",
     "output_type": "stream",
     "text": [
      "\u001b[1;36mnews\u001b[0m\n",
      "├── \u001b[1;36mnews\u001b[0m\n",
      "│   ├── __init__.py\n",
      "│   ├── items.py\n",
      "│   ├── middlewares.py\n",
      "│   ├── pipelines.py\n",
      "│   ├── settings.py\n",
      "│   └── \u001b[1;36mspiders\u001b[0m\n",
      "│       └── __init__.py\n",
      "└── scrapy.cfg\n",
      "\n",
      "3 directories, 7 files\n"
     ]
    }
   ],
   "source": [
    "!tree news"
   ]
  },
  {
   "cell_type": "code",
   "execution_count": 6,
   "id": "4b3d33f9-519c-4ba5-84d7-b4dbc89719e7",
   "metadata": {},
   "outputs": [
    {
     "name": "stdout",
     "output_type": "stream",
     "text": [
      "폴더 PATH의 목록입니다.\n",
      "볼륨 일련 번호는 22D1-176C입니다.\n",
      "C:\\USERS\\TJDUD\\WEB\\NEWS\n",
      "│  scrapy.cfg\n",
      "│  \n",
      "└─news\n",
      "    │  items.py\n",
      "    │  middlewares.py\n",
      "    │  pipelines.py\n",
      "    │  settings.py\n",
      "    │  __init__.py\n",
      "    │  \n",
      "    └─spiders\n",
      "            __init__.py\n",
      "            \n"
     ]
    }
   ],
   "source": [
    "!tree news /F"
   ]
  },
  {
   "cell_type": "code",
   "execution_count": 10,
   "id": "320f9b26-4488-473a-939f-6d7ee901e374",
   "metadata": {},
   "outputs": [
    {
     "name": "stdout",
     "output_type": "stream",
     "text": [
      " C 드라이브의 볼륨에는 이름이 없습니다.\n",
      " 볼륨 일련 번호: 22D1-176C\n",
      "\n",
      " C:\\Users\\tjdud\\web\\news 디렉터리\n",
      "\n",
      "2024-09-23  오후 03:05    <DIR>          .\n",
      "2024-09-23  오후 03:05    <DIR>          ..\n",
      "2024-09-23  오후 03:05    <DIR>          news\n",
      "2024-09-23  오후 03:05               262 scrapy.cfg\n",
      "               1개 파일                 262 바이트\n",
      "\n",
      " C:\\Users\\tjdud\\web\\news\\news 디렉터리\n",
      "\n",
      "2024-09-23  오후 03:05    <DIR>          .\n",
      "2024-09-23  오후 03:05    <DIR>          ..\n",
      "2024-09-23  오후 03:05               272 items.py\n",
      "2024-09-23  오후 03:05             3,747 middlewares.py\n",
      "2024-09-23  오후 03:05               371 pipelines.py\n",
      "2024-09-23  오후 03:05             3,355 settings.py\n",
      "2024-08-16  오후 07:24    <DIR>          spiders\n",
      "2024-02-24  오전 04:37                 0 __init__.py\n",
      "               5개 파일               7,745 바이트\n",
      "\n",
      " C:\\Users\\tjdud\\web\\news\\news\\spiders 디렉터리\n",
      "\n",
      "2024-08-16  오후 07:24    <DIR>          .\n",
      "2024-08-16  오후 07:24    <DIR>          ..\n",
      "2024-02-24  오전 04:37               161 __init__.py\n",
      "               1개 파일                 161 바이트\n",
      "\n",
      "     전체 파일:\n",
      "               7개 파일               8,168 바이트\n",
      "               8개 디렉터리  1,566,878,920,704 바이트 남음\n"
     ]
    }
   ],
   "source": [
    "!dir news /S"
   ]
  },
  {
   "cell_type": "code",
   "execution_count": 30,
   "id": "830dc31b-6a74-4a81-8353-b4d21f9466d3",
   "metadata": {},
   "outputs": [
    {
     "name": "stdout",
     "output_type": "stream",
     "text": [
      "\u001b[32mnews\u001b[0m\n",
      "│  scrapy.cfg\n",
      "└─  \u001b[32mnews\u001b[0m\n",
      "    │  settings.py\n",
      "    │  pipelines.py\n",
      "    │  middlewares.py\n",
      "    │  items.py\n",
      "    │  __init__.py\n",
      "    └─  \u001b[32mspiders\u001b[0m\n",
      "        │  __init__.py\n"
     ]
    }
   ],
   "source": [
    "import os\n",
    "\n",
    "def print_tree(startpath, depth=0, indent=''):\n",
    "    items = sorted(os.listdir(startpath), key=lambda x: (os.path.isfile(os.path.join(startpath, x)), x), reverse=True)\n",
    "    \n",
    "    if depth == 0:\n",
    "        folder_name = os.path.basename(os.path.abspath(startpath))\n",
    "        print('\\033[32m' + folder_name + '\\033[0m')\n",
    "        \n",
    "    for item in items:\n",
    "        path = os.path.join(startpath, item)\n",
    "        if os.path.isdir(path):\n",
    "            print(indent + '└─  ' + '\\033[32m' + item + '\\033[0m')\n",
    "            print_tree(path, depth + 1, indent + '    ')\n",
    "        else:\n",
    "            print(indent + '│  ' + item)\n",
    "\n",
    "print_tree('./news')"
   ]
  },
  {
   "cell_type": "code",
   "execution_count": 3,
   "id": "dca07263-cc82-4868-8705-2746bc06853c",
   "metadata": {},
   "outputs": [
    {
     "name": "stdout",
     "output_type": "stream",
     "text": [
      "\u001b[1;32mnews\u001b[0m\n",
      "├── scrapy.cfg\n",
      "├── news.csv\n",
      "└── \u001b[1;32mnews\u001b[0m\n",
      "    ├── settings.py\n",
      "    ├── pipelines.py\n",
      "    ├── middlewares.py\n",
      "    ├── items.py\n",
      "    ├── __init__.py\n",
      "    ├── \u001b[1;32mspiders\u001b[0m\n",
      "    │   ├── spider.py\n",
      "    │   ├── __init__.py\n",
      "    │   └── \u001b[1;32m__pycache__\u001b[0m\n",
      "    │       ├── spider.cpython-312.pyc\n",
      "    │       └── __init__.cpython-312.pyc\n",
      "    └── \u001b[1;32m__pycache__\u001b[0m\n",
      "        ├── settings.cpython-312.pyc\n",
      "        ├── items.cpython-312.pyc\n",
      "        └── __init__.cpython-312.pyc\n"
     ]
    }
   ],
   "source": [
    "import os\n",
    "\n",
    "def my_tree(startpath, indent=''):\n",
    "    items = sorted(os.listdir(startpath), key=lambda x: (os.path.isfile(os.path.join(startpath, x)), x), reverse=True)\n",
    "\n",
    "    if indent == '':\n",
    "        print('\\033[1;32m' + os.path.basename(os.path.abspath(startpath)) + '\\033[0m')\n",
    "\n",
    "    for item in items:\n",
    "        path = os.path.join(startpath, item)\n",
    "        connector = '└── ' if item == items[-1] else '├── '\n",
    "\n",
    "        if os.path.isdir(path):\n",
    "            print(indent + connector + '\\033[1;32m' + item + '\\033[0m')\n",
    "            my_tree(path, indent + ('    ' if item == items[-1] else '│   '))\n",
    "        else:\n",
    "            print(indent + connector + item)\n",
    "\n",
    "# 이 부분에 원하는 경로를 넣으시면 됩니다.\n",
    "my_tree('./news')"
   ]
  },
  {
   "cell_type": "code",
   "execution_count": 11,
   "id": "4503dea8-3e87-41f6-9753-cde22609fa7e",
   "metadata": {},
   "outputs": [
    {
     "data": {
      "text/plain": [
       "<200 https://news.daum.net/>"
      ]
     },
     "execution_count": 11,
     "metadata": {},
     "output_type": "execute_result"
    }
   ],
   "source": [
    "url = 'https://news.daum.net/'\n",
    "response = requests.get(url)\n",
    "response = TextResponse(response.url, body = response.text, encoding='utf-')"
   ]
  },
  {
   "cell_type": "code",
   "execution_count": null,
   "id": "b93097e8-ab9a-41dc-8e4e-901cd2229cb8",
   "metadata": {},
   "outputs": [],
   "source": []
  },
  {
   "cell_type": "code",
   "execution_count": null,
   "id": "ed373f93-ac27-4bb9-ab5c-9e399595cb91",
   "metadata": {},
   "outputs": [],
   "source": []
  },
  {
   "cell_type": "code",
   "execution_count": null,
   "id": "4ff72ff8-eb83-4a54-83fe-7fec48b60a9c",
   "metadata": {},
   "outputs": [],
   "source": []
  },
  {
   "cell_type": "code",
   "execution_count": null,
   "id": "20041b78-3f23-4528-8db0-adacb939144f",
   "metadata": {},
   "outputs": [],
   "source": []
  },
  {
   "cell_type": "code",
   "execution_count": null,
   "id": "802b31be-d44d-45ac-835f-f39cc39423e1",
   "metadata": {},
   "outputs": [],
   "source": []
  },
  {
   "cell_type": "markdown",
   "id": "3ab608ad-302a-44bf-8f41-75fe6ff61be7",
   "metadata": {
    "id": "3ab608ad-302a-44bf-8f41-75fe6ff61be7",
    "tags": []
   },
   "source": [
    "- scrapy structure\n",
    "    - items : 데이터의 모양 정의\n",
    "    - middewares : 수집할때 header 정보와 같은 내용을 설정\n",
    "    - pipelines : 데이터를 수집한 후에 코드를 실행\n",
    "    - settings : robots.txt 규칙, 크롤링 시간 텀등을 설정\n",
    "    - spiders : 크롤링 절차를 정의"
   ]
  },
  {
   "cell_type": "markdown",
   "id": "8f2c2301-9562-46fe-aece-481dd73b88c9",
   "metadata": {
    "id": "8f2c2301-9562-46fe-aece-481dd73b88c9",
    "tags": []
   },
   "source": [
    "## 2. xpath\n",
    "- link, contents"
   ]
  },
  {
   "cell_type": "code",
   "execution_count": null,
   "id": "3aac82cb",
   "metadata": {
    "id": "3aac82cb",
    "tags": []
   },
   "outputs": [],
   "source": [
    "import scrapy, requests\n",
    "from scrapy.http import TextResponse"
   ]
  },
  {
   "cell_type": "code",
   "execution_count": null,
   "id": "2e62e523-22eb-4ee2-8ef6-f7acc806f6a7",
   "metadata": {
    "id": "2e62e523-22eb-4ee2-8ef6-f7acc806f6a7"
   },
   "outputs": [],
   "source": []
  },
  {
   "cell_type": "markdown",
   "id": "a66594e9-822f-412b-b6ac-5e6d192d943a",
   "metadata": {
    "id": "a66594e9-822f-412b-b6ac-5e6d192d943a"
   },
   "source": [
    "## 3. items.py\n",
    "- Data Model"
   ]
  },
  {
   "cell_type": "code",
   "execution_count": null,
   "id": "da0a8805-28ee-4deb-9281-ecc84b0b68bb",
   "metadata": {
    "id": "da0a8805-28ee-4deb-9281-ecc84b0b68bb"
   },
   "outputs": [],
   "source": []
  },
  {
   "cell_type": "markdown",
   "id": "9a36c20c-a58d-4f60-8ed4-b13178e174d7",
   "metadata": {
    "id": "9a36c20c-a58d-4f60-8ed4-b13178e174d7",
    "tags": []
   },
   "source": [
    "## 4. spider.py\n",
    "- wirte crawling process"
   ]
  },
  {
   "cell_type": "code",
   "execution_count": null,
   "id": "cdb3e0db-4ff6-4ec7-aa24-b8ae37feff18",
   "metadata": {
    "id": "cdb3e0db-4ff6-4ec7-aa24-b8ae37feff18"
   },
   "outputs": [],
   "source": []
  },
  {
   "cell_type": "markdown",
   "id": "f62d4d2e-1978-4d8c-ac50-0ca52803c670",
   "metadata": {
    "id": "f62d4d2e-1978-4d8c-ac50-0ca52803c670",
    "tags": []
   },
   "source": [
    "## 5. run scrapy\n",
    "- news 디렉토리에서 아래의 커멘드 실행\n",
    "- scrapy crawl news -o news.csv"
   ]
  },
  {
   "cell_type": "code",
   "execution_count": null,
   "id": "8811644a-184c-46f7-b2f3-ceda17dac532",
   "metadata": {
    "id": "8811644a-184c-46f7-b2f3-ceda17dac532"
   },
   "outputs": [],
   "source": []
  }
 ],
 "metadata": {
  "colab": {
   "provenance": []
  },
  "kernelspec": {
   "display_name": "Python 3 (ipykernel)",
   "language": "python",
   "name": "python3"
  },
  "language_info": {
   "codemirror_mode": {
    "name": "ipython",
    "version": 3
   },
   "file_extension": ".py",
   "mimetype": "text/x-python",
   "name": "python",
   "nbconvert_exporter": "python",
   "pygments_lexer": "ipython3",
   "version": "3.12.4"
  },
  "toc": {
   "base_numbering": 1,
   "nav_menu": {},
   "number_sections": false,
   "sideBar": true,
   "skip_h1_title": false,
   "title_cell": "Table of Contents",
   "title_sidebar": "Contents",
   "toc_cell": false,
   "toc_position": {},
   "toc_section_display": true,
   "toc_window_display": false
  }
 },
 "nbformat": 4,
 "nbformat_minor": 5
}
