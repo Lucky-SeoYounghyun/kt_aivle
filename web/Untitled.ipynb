{
 "cells": [
  {
   "cell_type": "markdown",
   "id": "fc52cb1e-0abb-4575-9a18-69f9247fb0bb",
   "metadata": {},
   "source": [
    "# Python\n",
    "- 컴퓨터의 VPU, RAM, SSD를 활용하기 위해서 학습\n",
    "1. 변수전언 : RAM 사용 문법: 식별자(저장공간을 구분하는 문자열) : PEP20, PEP8(autopep8, flake8)\n",
    "2. 데이터 타입 : RAM 효율적 사용 문법 : int, float, bool, str, list, tuple, dicr, set\n",
    "3. 연산자 :CPU 사용 문법 : 산술, 비교, 논리, 할당, 멤버 ...\n",
    "4. 조건문, 반복문 : if, elif, else : while, for, break, continue, range() ...\n",
    "5. 함수 : 반복 사용되는 코드를 묶어서 코드 작성 실행 : def, return, scope(global), lambda ...\n",
    "6. 클래스 : 변수, 함수를 묶어서 코드 작성 실행 : 객체지향 구현 : class, self, special methods(생성자)\n",
    "7. 모듈 : 변수, 함수, 클래스를 파일로 묶어서 코드 작성 실행 : 확장자 .py\n",
    "8. 패키지 : 여러개의 모듈을 디렉토리로 묶어서 관리 : 버전정보 : import, from, as\n",
    "9. 입출력 : SSD 사용 문법 : RAM(object) > SSD(file), SSD(file) > RAM(object) : pickle"
   ]
  },
  {
   "cell_type": "code",
   "execution_count": 4,
   "id": "926833bd-d821-4025-b60b-77d414f9fc51",
   "metadata": {},
   "outputs": [],
   "source": [
    "# import this"
   ]
  },
  {
   "cell_type": "markdown",
   "id": "4f90a7cc-285e-4a0e-926b-cd08079e9573",
   "metadata": {},
   "source": [
    "# Class\n",
    "- 변수, 함수를 묶어서 코드 작성 실행\n",
    "- 객체 지향 구현 : 실제세계를 모델링하여 프로그램을 개발하는 개발 방법론 : 협업이 용이함\n",
    "- 함수사용 : 함수선언(코드작성) > 함수호출(코드실행)\n",
    "- 클래스 사용\n",
    "  - 클래스 선언(코드작성 : 설계도 작성) > 객체생성(메모리사용:제픔생산) > 메서드 실행(코드실행:제품사용)\n",
    "  - 메서드 : 클래스안에 선언되는 함수\n",
    "- class 식별자 : UpperCamelcase, PascalCase(0), snake_case(X: 변수, 함수)"
   ]
  },
  {
   "cell_type": "code",
   "execution_count": 22,
   "id": "c2c46647-6c17-40f4-8bf9-ec70de4b066a",
   "metadata": {},
   "outputs": [],
   "source": [
    "# 1. 클래스 선언 : 코드 생성\n",
    "# 예금 계좌 : Account : balance, deposit(), withdraq()\n",
    "class Account:\n",
    "    \n",
    "    balance = 0\n",
    "    \n",
    "    def deposit(self, amount):\n",
    "        self.balance += amount\n",
    "    def withdraw(self, amount):\n",
    "        self.balance -= amount"
   ]
  },
  {
   "cell_type": "code",
   "execution_count": 28,
   "id": "e6e18c68-9596-49f4-83d1-fe9e946d2866",
   "metadata": {},
   "outputs": [],
   "source": [
    "# 2. 객체생성 : 메모리 사용\n",
    "acc1 = Account()\n",
    "acc2 = Account()"
   ]
  },
  {
   "cell_type": "code",
   "execution_count": 29,
   "id": "88b42f9d-c49b-450d-a3ed-95af0c2e276c",
   "metadata": {},
   "outputs": [
    {
     "data": {
      "text/plain": [
       "(['balance', 'deposit', 'withdraw'], ['balance', 'deposit', 'withdraw'])"
      ]
     },
     "execution_count": 29,
     "metadata": {},
     "output_type": "execute_result"
    }
   ],
   "source": [
    "# dir() : 객체 안에 들어있는 변수, 함수 목록 출력\n",
    "dir(acc1)[-3:], dir(acc2)[-3:]"
   ]
  },
  {
   "cell_type": "code",
   "execution_count": 24,
   "id": "fdedf852-0aed-4bd8-b401-27e164e9bd85",
   "metadata": {},
   "outputs": [],
   "source": [
    "acc1.balance = 1000"
   ]
  },
  {
   "cell_type": "code",
   "execution_count": 25,
   "id": "76ccb416-9579-46a1-832b-5fd20d443120",
   "metadata": {},
   "outputs": [
    {
     "data": {
      "text/plain": [
       "(1000, 0)"
      ]
     },
     "execution_count": 25,
     "metadata": {},
     "output_type": "execute_result"
    }
   ],
   "source": [
    "# 3. 메서드 실행 : 코드 실행\n",
    "acc1.balance, acc2.balance"
   ]
  },
  {
   "cell_type": "code",
   "execution_count": 26,
   "id": "2706c36f-e8a4-437e-b222-5b7ce25e335d",
   "metadata": {},
   "outputs": [],
   "source": [
    "acc1.withdraw(600)\n",
    "acc2.deposit(3000)"
   ]
  },
  {
   "cell_type": "code",
   "execution_count": 27,
   "id": "98cba382-e425-4774-a223-459557af4d0b",
   "metadata": {},
   "outputs": [
    {
     "data": {
      "text/plain": [
       "(400, 3000)"
      ]
     },
     "execution_count": 27,
     "metadata": {},
     "output_type": "execute_result"
    }
   ],
   "source": [
    "acc1.balance, acc2.balance"
   ]
  },
  {
   "cell_type": "code",
   "execution_count": 30,
   "id": "58175fe5-f1ff-4452-8970-9df4c27c76bd",
   "metadata": {},
   "outputs": [],
   "source": [
    "# pandas DataFrame\n",
    "# 클래스 선언(다른사람) > 객체생성(사용1) > 매세드 호출(사용2)"
   ]
  },
  {
   "cell_type": "code",
   "execution_count": 31,
   "id": "82823402-2edf-4e0b-b36b-bfe7a9a5d1fd",
   "metadata": {},
   "outputs": [],
   "source": [
    "# 1. 클래스선언 : 다른 사람이 만든 클래스 가져옴\n",
    "import pandas as pd"
   ]
  },
  {
   "cell_type": "code",
   "execution_count": 32,
   "id": "aeee27a0-9e39-47cb-86cf-56ae35e4d0ef",
   "metadata": {},
   "outputs": [
    {
     "data": {
      "text/html": [
       "<div>\n",
       "<style scoped>\n",
       "    .dataframe tbody tr th:only-of-type {\n",
       "        vertical-align: middle;\n",
       "    }\n",
       "\n",
       "    .dataframe tbody tr th {\n",
       "        vertical-align: top;\n",
       "    }\n",
       "\n",
       "    .dataframe thead th {\n",
       "        text-align: right;\n",
       "    }\n",
       "</style>\n",
       "<table border=\"1\" class=\"dataframe\">\n",
       "  <thead>\n",
       "    <tr style=\"text-align: right;\">\n",
       "      <th></th>\n",
       "      <th>id</th>\n",
       "      <th>name</th>\n",
       "    </tr>\n",
       "  </thead>\n",
       "  <tbody>\n",
       "    <tr>\n",
       "      <th>0</th>\n",
       "      <td>1</td>\n",
       "      <td>A</td>\n",
       "    </tr>\n",
       "    <tr>\n",
       "      <th>1</th>\n",
       "      <td>2</td>\n",
       "      <td>B</td>\n",
       "    </tr>\n",
       "    <tr>\n",
       "      <th>2</th>\n",
       "      <td>3</td>\n",
       "      <td>C</td>\n",
       "    </tr>\n",
       "  </tbody>\n",
       "</table>\n",
       "</div>"
      ],
      "text/plain": [
       "  id name\n",
       "0  1    A\n",
       "1  2    B\n",
       "2  3    C"
      ]
     },
     "execution_count": 32,
     "metadata": {},
     "output_type": "execute_result"
    }
   ],
   "source": [
    "df = pd.DataFrame({'id' : list('123'), 'name' : list('ABC')})\n",
    "df"
   ]
  },
  {
   "cell_type": "code",
   "execution_count": 35,
   "id": "c8603f0d-1f09-402b-8a43-9099b932fb42",
   "metadata": {},
   "outputs": [
    {
     "data": {
      "text/plain": [
       "<bound method DataFrame.sum of   id name\n",
       "0  1    A\n",
       "1  2    B\n",
       "2  3    C>"
      ]
     },
     "execution_count": 35,
     "metadata": {},
     "output_type": "execute_result"
    }
   ],
   "source": [
    "df.sum"
   ]
  },
  {
   "cell_type": "code",
   "execution_count": null,
   "id": "0447ab9f-80e8-4bb0-8ca9-5ecfc21b6e9a",
   "metadata": {},
   "outputs": [],
   "source": [
    "# data1\n",
    "data1 = 'python'\n",
    "type(data1)"
   ]
  },
  {
   "cell_type": "code",
   "execution_count": 36,
   "id": "571c6ff7-02b3-474d-9c42-792f4da301bd",
   "metadata": {},
   "outputs": [
    {
     "data": {
      "text/plain": [
       "(numpy.ndarray, array([1, 2, 3]))"
      ]
     },
     "execution_count": 36,
     "metadata": {},
     "output_type": "execute_result"
    }
   ],
   "source": [
    "import numpy as np\n",
    "arr = np.array([1,2,3])\n",
    "type(arr), arr"
   ]
  },
  {
   "cell_type": "code",
   "execution_count": 37,
   "id": "e073c7c4-6bba-460e-9f2c-75f96178be10",
   "metadata": {},
   "outputs": [],
   "source": [
    "# 1. 클래스 선언\n",
    "class Account:\n",
    "    \n",
    "    balance = 0\n",
    "    \n",
    "    def deposit(self, amount):\n",
    "        self.balance += amount\n",
    "    def withdraw(self, amount):\n",
    "        self.balance -= amount"
   ]
  },
  {
   "cell_type": "code",
   "execution_count": 38,
   "id": "bd1ff407-f356-4def-8d8a-6fb89514ecd0",
   "metadata": {},
   "outputs": [],
   "source": [
    "acc = Account()"
   ]
  },
  {
   "cell_type": "code",
   "execution_count": 39,
   "id": "846c66c8-e375-4858-b2f0-d4346e3f6f57",
   "metadata": {},
   "outputs": [],
   "source": [
    "acc.deposit(1000)"
   ]
  },
  {
   "cell_type": "code",
   "execution_count": 40,
   "id": "1e263bb6-e3d4-4c64-8037-725ad933f0b3",
   "metadata": {},
   "outputs": [
    {
     "data": {
      "text/plain": [
       "1000"
      ]
     },
     "execution_count": 40,
     "metadata": {},
     "output_type": "execute_result"
    }
   ],
   "source": [
    "acc.balance"
   ]
  },
  {
   "cell_type": "code",
   "execution_count": null,
   "id": "ad8784ab-80b6-4dbf-8913-e80477a5edfd",
   "metadata": {},
   "outputs": [],
   "source": []
  }
 ],
 "metadata": {
  "kernelspec": {
   "display_name": "Python 3 (ipykernel)",
   "language": "python",
   "name": "python3"
  },
  "language_info": {
   "codemirror_mode": {
    "name": "ipython",
    "version": 3
   },
   "file_extension": ".py",
   "mimetype": "text/x-python",
   "name": "python",
   "nbconvert_exporter": "python",
   "pygments_lexer": "ipython3",
   "version": "3.12.4"
  }
 },
 "nbformat": 4,
 "nbformat_minor": 5
}
