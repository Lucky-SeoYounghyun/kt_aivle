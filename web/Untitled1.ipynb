{
 "cells": [
  {
   "cell_type": "code",
   "execution_count": 2,
   "id": "119d44b5-d0a6-4f74-b58c-f86f44f678bc",
   "metadata": {},
   "outputs": [],
   "source": [
    "import requests\n",
    "import pandas as pd"
   ]
  },
  {
   "cell_type": "code",
   "execution_count": null,
   "id": "407248b8-bdba-4016-984a-7c16d7298113",
   "metadata": {},
   "outputs": [],
   "source": []
  },
  {
   "cell_type": "code",
   "execution_count": 4,
   "id": "1302bc46-b18f-480a-a691-dc1818682e36",
   "metadata": {},
   "outputs": [],
   "source": [
    "\n",
    "url = 'https://m.finance.daum.net/api/exchanges/summaries'"
   ]
  },
  {
   "cell_type": "code",
   "execution_count": 5,
   "id": "6c8f4e0b-6c32-4ea5-b3fd-6bccfc418878",
   "metadata": {},
   "outputs": [
    {
     "data": {
      "text/plain": [
       "<Response [403]>"
      ]
     },
     "execution_count": 5,
     "metadata": {},
     "output_type": "execute_result"
    }
   ],
   "source": [
    "reponse = requests.get(url)\n",
    "reponse"
   ]
  },
  {
   "cell_type": "code",
   "execution_count": 14,
   "id": "986761ad-eb08-476e-8a62-9db6b7f2466b",
   "metadata": {},
   "outputs": [
    {
     "data": {
      "text/plain": [
       "'{\"data\":[{\"symbolCode\":\"FRX.KRWUSD\",\"date\":\"2024-09-20 12:01:00\",\"currencyCode\":\"USD\",\"currencyName\":\"달러\",\"currencyUnit\":1,\"country\":\"미국\",\"region\":{\"korName\":\"아메리카\",\"engName\":\"America\"},\"name\":\"미국 (USD/KRW)\",\"recurrenceCount\":277,\"basePrice\":1331.500,\"change\":\"RISE\",\"changePrice\":1.500,\"changeRate\":0.0011278195,\"ttBuyingPrice\":1318.500,\"ttSellingPrice\":1344.500,\"cashBuyingPrice\":1354.800,\"cashSellingPrice\":1308.200,\"tcBuyingPrice\":null,\"fcSellingPrice\":null,\"exchangeCommission\":6.7699100000,\"usD'"
      ]
     },
     "execution_count": 14,
     "metadata": {},
     "output_type": "execute_result"
    }
   ],
   "source": [
    "headers = {'user-agent' :'Mozilla/5.0 (Windows NT 10.0; Win64; x64) AppleWebKit/537.36 (KHTML, like Gecko) Chrome/128.0.0.0 Safari/537.36', 'referer' : 'https://m.finance.daum.net/global/exchanges'}\n",
    "\n",
    "response = requests.get(url, headers = headers)\n",
    "\n",
    "response.text[:500]"
   ]
  },
  {
   "cell_type": "code",
   "execution_count": null,
   "id": "4ef9c44a-a3b5-4c90-9c33-ac73a2c935ed",
   "metadata": {},
   "outputs": [],
   "source": [
    "data = response.json()['data']\n",
    "df = pd.DataFrame(data)['cu']"
   ]
  },
  {
   "cell_type": "code",
   "execution_count": null,
   "id": "85c14733-7a5e-4911-b5ea-c4f82e6db5d5",
   "metadata": {},
   "outputs": [],
   "source": []
  }
 ],
 "metadata": {
  "kernelspec": {
   "display_name": "Python 3 (ipykernel)",
   "language": "python",
   "name": "python3"
  },
  "language_info": {
   "codemirror_mode": {
    "name": "ipython",
    "version": 3
   },
   "file_extension": ".py",
   "mimetype": "text/x-python",
   "name": "python",
   "nbconvert_exporter": "python",
   "pygments_lexer": "ipython3",
   "version": "3.12.4"
  }
 },
 "nbformat": 4,
 "nbformat_minor": 5
}
