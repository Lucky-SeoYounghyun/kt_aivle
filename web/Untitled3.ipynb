{
 "cells": [
  {
   "cell_type": "code",
   "execution_count": 1,
   "id": "6b47ebd7-3e51-4f2f-b8d6-945a1b2535da",
   "metadata": {},
   "outputs": [
    {
     "name": "stdout",
     "output_type": "stream",
     "text": [
      "input() 함수 실행 시간: 0.551002초\n",
      "sys.stdin.readline() 함수 실행 시간: 0.828999초\n"
     ]
    }
   ],
   "source": [
    "import sys\n",
    "import time\n",
    "from unittest import mock\n",
    "\n",
    "# 테스트 입력을 준비\n",
    "test_input = 'test\\n' * 100000  # 10만 개의 입력\n",
    "\n",
    "# input() 함수 성능 테스트\n",
    "with mock.patch('builtins.input', side_effect=test_input.splitlines()):\n",
    "    start_time = time.time()\n",
    "    for _ in range(100000):\n",
    "        input()\n",
    "    end_time = time.time()\n",
    "    print(f\"input() 함수 실행 시간: {end_time - start_time:.6f}초\")\n",
    "\n",
    "# sys.stdin.readline() 성능 테스트\n",
    "with mock.patch('sys.stdin', mock.Mock()):\n",
    "    sys.stdin.readline = mock.Mock(side_effect=test_input.splitlines(keepends=True))\n",
    "    \n",
    "    start_time = time.time()\n",
    "    for _ in range(100000):\n",
    "        sys.stdin.readline()\n",
    "    end_time = time.time()\n",
    "    print(f\"sys.stdin.readline() 함수 실행 시간: {end_time - start_time:.6f}초\")"
   ]
  },
  {
   "cell_type": "code",
   "execution_count": null,
   "id": "8eb2d19f-2229-4f87-90c5-87d4025cad3b",
   "metadata": {},
   "outputs": [],
   "source": []
  },
  {
   "cell_type": "code",
   "execution_count": null,
   "id": "bb51840b-5334-442c-bda2-2d535a1ccb70",
   "metadata": {},
   "outputs": [],
   "source": []
  },
  {
   "cell_type": "code",
   "execution_count": null,
   "id": "1ffa72c0-ac34-41ba-a9aa-64c9e7037e5c",
   "metadata": {},
   "outputs": [],
   "source": []
  }
 ],
 "metadata": {
  "kernelspec": {
   "display_name": "Python 3 (ipykernel)",
   "language": "python",
   "name": "python3"
  },
  "language_info": {
   "codemirror_mode": {
    "name": "ipython",
    "version": 3
   },
   "file_extension": ".py",
   "mimetype": "text/x-python",
   "name": "python",
   "nbconvert_exporter": "python",
   "pygments_lexer": "ipython3",
   "version": "3.12.4"
  }
 },
 "nbformat": 4,
 "nbformat_minor": 5
}
