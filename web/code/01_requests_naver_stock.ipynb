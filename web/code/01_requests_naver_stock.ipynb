{
 "cells": [
  {
   "cell_type": "markdown",
   "id": "a2843caf",
   "metadata": {
    "id": "a2843caf"
   },
   "source": [
    "## Web Crawling\n",
    "- 웹 페이지에서 데이터를 수집하는 방법에 대해서 학습"
   ]
  },
  {
   "cell_type": "markdown",
   "id": "193e82cc",
   "metadata": {
    "id": "193e82cc"
   },
   "source": [
    "### 웹크롤링 방법\n",
    "\n",
    "#### 웹페이지의 종류\n",
    "- 정적인 페이지 : 웹 브라우져에 화면이 한번 뜨면 이벤트에 의한 화면의 변경이 없는 페이지 \n",
    "- 동적인 페이지 : 웹 브라우져에 화면이 뜨고 이벤트가 발생하면 서버에서 데이터를 가져와 화면을 변경하는 페이지\n",
    "\n",
    "#### requests 이용\n",
    "- 받아오는 문자열에 따라 두가지 방법으로 구분\n",
    "    - json 문자열로 받아서 파싱하는 방법 : 주로 동적 페이지 크롤링할때 사용 \n",
    "    - html 문자열로 받아서 파싱하는 방법 : 주로 정적 페이지 크롤링할때 사용\n",
    "        \n",
    "#### selenium 이용\n",
    "- 브라우져를 직접 열어서 데이터를 받는 방법\n",
    "\n",
    "#### 크롤링 방법에 따른 속도\n",
    "- requests json > requests html > selenium"
   ]
  },
  {
   "cell_type": "markdown",
   "id": "c9c2b3eb",
   "metadata": {
    "id": "c9c2b3eb"
   },
   "source": [
    "### Crawling Naver Stock Data\n",
    "- 네이버 증권 사이트에서 주가 데이터 수집\n",
    "- 수집할 데이터 : 일별 kospi, kosdaq 주가, 일별 환율(exchange rate) 데이터\n",
    "- 데이터 수집 절차\n",
    "    - 웹서비스 분석 : url : chrome devtool\n",
    "    - 서버에 데이터 요청 : request(url) > response : json(str)\n",
    "    - 서버에서 받은 데이터 파싱(데이터 형태를 변경) : json(str) > list, dict > DataFrame"
   ]
  },
  {
   "cell_type": "code",
   "execution_count": 1,
   "id": "77151645",
   "metadata": {},
   "outputs": [],
   "source": [
    "import requests\n",
    "import pandas as pd"
   ]
  },
  {
   "cell_type": "markdown",
   "id": "e9946ce1",
   "metadata": {
    "id": "e9946ce1"
   },
   "source": [
    "#### 1. 웹서비스 분석 : url\n",
    "- pc 웹페이지가 복잡하면 mobile 웹페이지에서 수집"
   ]
  },
  {
   "cell_type": "code",
   "execution_count": 4,
   "id": "05f8fcb2",
   "metadata": {},
   "outputs": [
    {
     "data": {
      "text/plain": [
       "'https://m.stock.naver.com/api/index/KOSPI/price?pageSize=60&page=1'"
      ]
     },
     "execution_count": 4,
     "metadata": {},
     "output_type": "execute_result"
    }
   ],
   "source": [
    "page_size, page = 60, 1\n",
    "url = f'https://m.stock.naver.com/api/index/KOSPI/price?pageSize={page_size}&page={page}'\n",
    "url"
   ]
  },
  {
   "cell_type": "markdown",
   "id": "45b9c484",
   "metadata": {
    "id": "45b9c484"
   },
   "source": [
    "#### 2. 서버에 데이터 요청 : request(url) > response : json(str)\n",
    "- response의 status code가 200이 나오는지 확인\n",
    "- 403이나 500이 나오면 request가 잘못되거나 web server에서 수집이 안되도록 설정이 된것임\n",
    "    - header 설정 또는 selenium 사용\n",
    "- 200이 나오더라도 response 안에 있는 내용을 확인 > 확인하는 방법 : response.text"
   ]
  },
  {
   "cell_type": "code",
   "execution_count": 7,
   "id": "ba8417ac",
   "metadata": {},
   "outputs": [
    {
     "data": {
      "text/plain": [
       "<Response [200]>"
      ]
     },
     "execution_count": 7,
     "metadata": {},
     "output_type": "execute_result"
    }
   ],
   "source": [
    "response = requests.get(url)\n",
    "response"
   ]
  },
  {
   "cell_type": "code",
   "execution_count": 9,
   "id": "7303ffe7-dfa6-4ab6-b4a2-3f0e993a9786",
   "metadata": {},
   "outputs": [
    {
     "data": {
      "text/plain": [
       "requests.models.Response"
      ]
     },
     "execution_count": 9,
     "metadata": {},
     "output_type": "execute_result"
    }
   ],
   "source": [
    "type(response)"
   ]
  },
  {
   "cell_type": "code",
   "execution_count": 11,
   "id": "638886d8-435e-4ea4-88a1-c38690ed73ed",
   "metadata": {},
   "outputs": [
    {
     "data": {
      "text/plain": [
       "(str,\n",
       " '[{\"localTradedAt\":\"2024-09-20\",\"closePrice\":\"2,606.94\",\"compareToPreviousClosePrice\":\"26.14\",\"compar')"
      ]
     },
     "execution_count": 11,
     "metadata": {},
     "output_type": "execute_result"
    }
   ],
   "source": [
    "type(response.text), response.text[:100]"
   ]
  },
  {
   "cell_type": "code",
   "execution_count": 13,
   "id": "64beb526-ef07-46ec-bc4b-9c6a5b9f51c0",
   "metadata": {},
   "outputs": [],
   "source": [
    "# dir(response)"
   ]
  },
  {
   "cell_type": "markdown",
   "id": "2ab0fb67",
   "metadata": {
    "id": "2ab0fb67"
   },
   "source": [
    "#### 3. 서버에서 받은 데이터 파싱(데이터 형태를 변경) : json(str) > list, dict > DataFrame"
   ]
  },
  {
   "cell_type": "code",
   "execution_count": 16,
   "id": "6e0851a3",
   "metadata": {},
   "outputs": [],
   "source": [
    "data = response.json()\n",
    "# type(data), data[:2]"
   ]
  },
  {
   "cell_type": "code",
   "execution_count": 18,
   "id": "523a3514-2a78-4187-a54b-151360a5afaf",
   "metadata": {},
   "outputs": [
    {
     "data": {
      "text/html": [
       "<div>\n",
       "<style scoped>\n",
       "    .dataframe tbody tr th:only-of-type {\n",
       "        vertical-align: middle;\n",
       "    }\n",
       "\n",
       "    .dataframe tbody tr th {\n",
       "        vertical-align: top;\n",
       "    }\n",
       "\n",
       "    .dataframe thead th {\n",
       "        text-align: right;\n",
       "    }\n",
       "</style>\n",
       "<table border=\"1\" class=\"dataframe\">\n",
       "  <thead>\n",
       "    <tr style=\"text-align: right;\">\n",
       "      <th></th>\n",
       "      <th>localTradedAt</th>\n",
       "      <th>closePrice</th>\n",
       "    </tr>\n",
       "  </thead>\n",
       "  <tbody>\n",
       "    <tr>\n",
       "      <th>0</th>\n",
       "      <td>2024-09-20</td>\n",
       "      <td>2,606.94</td>\n",
       "    </tr>\n",
       "    <tr>\n",
       "      <th>1</th>\n",
       "      <td>2024-09-19</td>\n",
       "      <td>2,580.80</td>\n",
       "    </tr>\n",
       "  </tbody>\n",
       "</table>\n",
       "</div>"
      ],
      "text/plain": [
       "  localTradedAt closePrice\n",
       "0    2024-09-20   2,606.94\n",
       "1    2024-09-19   2,580.80"
      ]
     },
     "execution_count": 18,
     "metadata": {},
     "output_type": "execute_result"
    }
   ],
   "source": [
    "df = pd.DataFrame(data)\n",
    "df = df[['localTradedAt', 'closePrice']]\n",
    "df.head(2)"
   ]
  },
  {
   "cell_type": "markdown",
   "id": "a5806ae9",
   "metadata": {
    "id": "a5806ae9"
   },
   "source": [
    "#### 4. 함수로 만들기"
   ]
  },
  {
   "cell_type": "code",
   "execution_count": 44,
   "id": "fcc4a262",
   "metadata": {},
   "outputs": [],
   "source": [
    "def stock_price(code='KOSPI', page=1, page_size=60):\n",
    "    url = f'https://m.stock.naver.com/api/index/{code}/price?pageSize={page_size}&page={page}'\n",
    "    response = requests.get(url)\n",
    "    data = response.json()\n",
    "    return pd.DataFrame(data)[['localTradedAt', 'closePrice']]"
   ]
  },
  {
   "cell_type": "code",
   "execution_count": 46,
   "id": "c846e5a4-e7f5-44c1-aaed-571ddf31632a",
   "metadata": {},
   "outputs": [],
   "source": [
    "# https://m.stock.naver.com/api/index/KOSDAQ/price?pageSize=10&page=2"
   ]
  },
  {
   "cell_type": "code",
   "execution_count": 48,
   "id": "f9aacc6c-8f27-48e3-9e91-f2ea0a4472cd",
   "metadata": {},
   "outputs": [
    {
     "data": {
      "text/html": [
       "<div>\n",
       "<style scoped>\n",
       "    .dataframe tbody tr th:only-of-type {\n",
       "        vertical-align: middle;\n",
       "    }\n",
       "\n",
       "    .dataframe tbody tr th {\n",
       "        vertical-align: top;\n",
       "    }\n",
       "\n",
       "    .dataframe thead th {\n",
       "        text-align: right;\n",
       "    }\n",
       "</style>\n",
       "<table border=\"1\" class=\"dataframe\">\n",
       "  <thead>\n",
       "    <tr style=\"text-align: right;\">\n",
       "      <th></th>\n",
       "      <th>localTradedAt</th>\n",
       "      <th>closePrice</th>\n",
       "    </tr>\n",
       "  </thead>\n",
       "  <tbody>\n",
       "    <tr>\n",
       "      <th>0</th>\n",
       "      <td>2024-09-03</td>\n",
       "      <td>760.37</td>\n",
       "    </tr>\n",
       "    <tr>\n",
       "      <th>1</th>\n",
       "      <td>2024-09-02</td>\n",
       "      <td>769.21</td>\n",
       "    </tr>\n",
       "    <tr>\n",
       "      <th>2</th>\n",
       "      <td>2024-08-30</td>\n",
       "      <td>767.66</td>\n",
       "    </tr>\n",
       "    <tr>\n",
       "      <th>3</th>\n",
       "      <td>2024-08-29</td>\n",
       "      <td>756.04</td>\n",
       "    </tr>\n",
       "    <tr>\n",
       "      <th>4</th>\n",
       "      <td>2024-08-28</td>\n",
       "      <td>762.50</td>\n",
       "    </tr>\n",
       "  </tbody>\n",
       "</table>\n",
       "</div>"
      ],
      "text/plain": [
       "  localTradedAt closePrice\n",
       "0    2024-09-03     760.37\n",
       "1    2024-09-02     769.21\n",
       "2    2024-08-30     767.66\n",
       "3    2024-08-29     756.04\n",
       "4    2024-08-28     762.50"
      ]
     },
     "execution_count": 48,
     "metadata": {},
     "output_type": "execute_result"
    }
   ],
   "source": [
    "stock_price('KOSDAQ', 3, 5)"
   ]
  },
  {
   "cell_type": "markdown",
   "id": "30b5340b",
   "metadata": {
    "id": "30b5340b"
   },
   "source": [
    "#### 5. 원달러 환율 데이터 수집 : 실습"
   ]
  },
  {
   "cell_type": "code",
   "execution_count": 145,
   "id": "46ee645e",
   "metadata": {},
   "outputs": [
    {
     "data": {
      "text/html": [
       "<div>\n",
       "<style scoped>\n",
       "    .dataframe tbody tr th:only-of-type {\n",
       "        vertical-align: middle;\n",
       "    }\n",
       "\n",
       "    .dataframe tbody tr th {\n",
       "        vertical-align: top;\n",
       "    }\n",
       "\n",
       "    .dataframe thead th {\n",
       "        text-align: right;\n",
       "    }\n",
       "</style>\n",
       "<table border=\"1\" class=\"dataframe\">\n",
       "  <thead>\n",
       "    <tr style=\"text-align: right;\">\n",
       "      <th></th>\n",
       "      <th>localTradedAt</th>\n",
       "      <th>closePrice</th>\n",
       "    </tr>\n",
       "  </thead>\n",
       "  <tbody>\n",
       "    <tr>\n",
       "      <th>58</th>\n",
       "      <td>2024-06-26</td>\n",
       "      <td>1,394.50</td>\n",
       "    </tr>\n",
       "    <tr>\n",
       "      <th>59</th>\n",
       "      <td>2024-06-25</td>\n",
       "      <td>1,392.00</td>\n",
       "    </tr>\n",
       "  </tbody>\n",
       "</table>\n",
       "</div>"
      ],
      "text/plain": [
       "   localTradedAt closePrice\n",
       "58    2024-06-26   1,394.50\n",
       "59    2024-06-25   1,392.00"
      ]
     },
     "execution_count": 145,
     "metadata": {},
     "output_type": "execute_result"
    }
   ],
   "source": [
    "# 1. URL\n",
    "page_size, page = 60, 1\n",
    "url = f'https://m.stock.naver.com/front-api/marketIndex/prices?\\\n",
    "category=exchange&reutersCode=FX_USDKRW&page={page}&pageSize={page_size}'\n",
    "# 2. request(URL) > response(JSON)\n",
    "response = requests.get(url)\n",
    "# 3. JSON > list, dict > DataFrame\n",
    "data = response.json()['result']\n",
    "df = pd.DataFrame(data)[['localTradedAt', 'closePrice']]\n",
    "df.tail(2)"
   ]
  },
  {
   "cell_type": "code",
   "execution_count": 94,
   "id": "b96690f3-2b21-4f36-ae98-e984a24f9c59",
   "metadata": {},
   "outputs": [],
   "source": [
    "def exchange_rate(code='FX_USDKRW', page=1, page_size=60):\n",
    "    url = f'https://m.stock.naver.com/front-api/marketIndex/prices?\\\n",
    "category=exchange&reutersCode={code}&page={page}&pageSize={page_size}'\n",
    "    response = requests.get(url)\n",
    "    data = response.json()['result']\n",
    "    return pd.DataFrame(data)[['localTradedAt', 'closePrice']]"
   ]
  },
  {
   "cell_type": "code",
   "execution_count": 96,
   "id": "ea0dcd0b-4054-41e7-8624-4278de98a4b0",
   "metadata": {},
   "outputs": [
    {
     "data": {
      "text/html": [
       "<div>\n",
       "<style scoped>\n",
       "    .dataframe tbody tr th:only-of-type {\n",
       "        vertical-align: middle;\n",
       "    }\n",
       "\n",
       "    .dataframe tbody tr th {\n",
       "        vertical-align: top;\n",
       "    }\n",
       "\n",
       "    .dataframe thead th {\n",
       "        text-align: right;\n",
       "    }\n",
       "</style>\n",
       "<table border=\"1\" class=\"dataframe\">\n",
       "  <thead>\n",
       "    <tr style=\"text-align: right;\">\n",
       "      <th></th>\n",
       "      <th>localTradedAt</th>\n",
       "      <th>closePrice</th>\n",
       "    </tr>\n",
       "  </thead>\n",
       "  <tbody>\n",
       "    <tr>\n",
       "      <th>8</th>\n",
       "      <td>2024-09-05</td>\n",
       "      <td>1,335.00</td>\n",
       "    </tr>\n",
       "    <tr>\n",
       "      <th>9</th>\n",
       "      <td>2024-09-04</td>\n",
       "      <td>1,336.50</td>\n",
       "    </tr>\n",
       "  </tbody>\n",
       "</table>\n",
       "</div>"
      ],
      "text/plain": [
       "  localTradedAt closePrice\n",
       "8    2024-09-05   1,335.00\n",
       "9    2024-09-04   1,336.50"
      ]
     },
     "execution_count": 96,
     "metadata": {},
     "output_type": "execute_result"
    }
   ],
   "source": [
    "exchange_rate(page_size=10).tail(2)"
   ]
  },
  {
   "cell_type": "markdown",
   "id": "13e21944",
   "metadata": {
    "id": "13e21944"
   },
   "source": [
    "#### 6. 시각화"
   ]
  },
  {
   "cell_type": "code",
   "execution_count": 129,
   "id": "ddc0935f-c8cc-455b-a14f-e18aef5a9353",
   "metadata": {},
   "outputs": [],
   "source": [
    "# 데이터 수집\n",
    "page_size = 30\n",
    "kp_df = stock_price('KOSPI', page_size=page_size)\n",
    "kd_df = stock_price('KOSDAQ', page_size=page_size)\n",
    "usd_df = exchange_rate(page_size=page_size)\n",
    "\n",
    "# 데이터 전처리\n",
    "kp_df['closePrice'] = kp_df['closePrice'].apply(lambda data: float(data.replace(',', '')))\n",
    "kd_df['closePrice'] = kd_df['closePrice'].apply(lambda data: float(data.replace(',', '')))\n",
    "usd_df['closePrice'] = usd_df['closePrice'].apply(lambda data: float(data.replace(',', '')))"
   ]
  },
  {
   "cell_type": "code",
   "execution_count": 163,
   "id": "287672f0-b346-40e7-8cf9-b6994132114f",
   "metadata": {},
   "outputs": [
    {
     "data": {
      "text/plain": [
       "0     2024-09-20\n",
       "5     2024-09-10\n",
       "10    2024-09-03\n",
       "15    2024-08-27\n",
       "20    2024-08-20\n",
       "25    2024-08-12\n",
       "Name: localTradedAt, dtype: object"
      ]
     },
     "execution_count": 163,
     "metadata": {},
     "output_type": "execute_result"
    }
   ],
   "source": [
    "kp_df['localTradedAt'][::5]"
   ]
  },
  {
   "cell_type": "code",
   "execution_count": 165,
   "id": "1ca8e7bd-7a0e-4f50-96a7-3a45ba961d9e",
   "metadata": {},
   "outputs": [
    {
     "data": {
      "image/png": "[encoded data removed]",
      "text/plain": [
       "<Figure size 2000x300 with 1 Axes>"
      ]
     },
     "metadata": {},
     "output_type": "display_data"
    }
   ],
   "source": [
    "import matplotlib.pyplot as plt\n",
    "\n",
    "plt.figure(figsize=(20, 3))\n",
    "plt.plot(kp_df['localTradedAt'], kp_df['closePrice'], label='kospi')\n",
    "plt.plot(kd_df['localTradedAt'], kd_df['closePrice'], label='kosdaq')\n",
    "plt.plot(usd_df['localTradedAt'], usd_df['closePrice'], label='usd')\n",
    "plt.xticks(kp_df['localTradedAt'][::5])\n",
    "plt.legend()\n",
    "plt.show()"
   ]
  },
  {
   "cell_type": "markdown",
   "id": "c1c52868",
   "metadata": {
    "id": "c1c52868"
   },
   "source": [
    "#### 7. 데이터 스케일링\n",
    "- min max scaling\n",
    "\n",
    "\n",
    "- $z = \\frac{x_i - min(x)}{max(x) - min(x)} (0 \\leqq z \\leqq 1)$\n",
    "\n",
    "\n",
    "- latex syntax : `https://jjycjnmath.tistory.com/117`"
   ]
  },
  {
   "cell_type": "code",
   "execution_count": 167,
   "id": "f7ba6e27",
   "metadata": {},
   "outputs": [],
   "source": [
    "from sklearn.preprocessing import minmax_scale"
   ]
  },
  {
   "cell_type": "code",
   "execution_count": 169,
   "id": "c0c00cae-b80f-46f9-801d-8666b7e60606",
   "metadata": {},
   "outputs": [
    {
     "data": {
      "text/plain": [
       "array([0.448842  , 0.34704066, 0.31930005, 0.30221307, 0.        ,\n",
       "       0.0517756 , 0.11610911, 0.15908389, 0.31976325, 0.34704066,\n",
       "       0.77848688, 0.86273803, 0.82830674, 0.76639218, 0.90818322,\n",
       "       0.90519815, 0.95028307, 0.96922285, 1.        , 0.96634071,\n",
       "       0.94318065, 0.82856408, 0.94626866, 0.6748842 , 0.55651055,\n",
       "       0.54004117, 0.38630983, 0.22316006, 0.28327329, 0.04518785])"
      ]
     },
     "execution_count": 169,
     "metadata": {},
     "output_type": "execute_result"
    }
   ],
   "source": [
    "minmax_scale(kp_df['closePrice'])"
   ]
  },
  {
   "cell_type": "code",
   "execution_count": 173,
   "id": "464818f7-e694-49ea-bd9b-9baf1819f2f6",
   "metadata": {},
   "outputs": [
    {
     "data": {
      "image/png": "[encoded data removed]",
      "text/plain": [
       "<Figure size 2000x300 with 1 Axes>"
      ]
     },
     "metadata": {},
     "output_type": "display_data"
    }
   ],
   "source": [
    "plt.figure(figsize=(20, 3))\n",
    "plt.plot(kp_df['localTradedAt'], minmax_scale(kp_df['closePrice']), label='kospi')\n",
    "plt.plot(kd_df['localTradedAt'], minmax_scale(kd_df['closePrice']), label='kosdaq')\n",
    "plt.plot(usd_df['localTradedAt'], minmax_scale(usd_df['closePrice']), label='usd')\n",
    "plt.xticks(kp_df['localTradedAt'][::5])\n",
    "plt.legend()\n",
    "plt.show()"
   ]
  },
  {
   "cell_type": "markdown",
   "id": "3d862521",
   "metadata": {
    "id": "3d862521"
   },
   "source": [
    "#### 8. 상관관계 분석\n",
    "- 피어슨 상관계수(Pearson Correlation Coefficient)\n",
    "- 두 데이터 집합의 상관도를 분석할때 사용되는 지표\n",
    "- 상관계수의 해석\n",
    "    - -1에 가까울수록 서로 반대방향으로 움직임\n",
    "    - 1에 가까울수록 서로 같은방향으로 움직임\n",
    "    - 0에 가까울수록 두 데이터는 관계가 없음"
   ]
  },
  {
   "cell_type": "code",
   "execution_count": 183,
   "id": "138da1d1-234e-4eb9-9b6d-e9b5a968fe42",
   "metadata": {},
   "outputs": [
    {
     "data": {
      "text/html": [
       "<div>\n",
       "<style scoped>\n",
       "    .dataframe tbody tr th:only-of-type {\n",
       "        vertical-align: middle;\n",
       "    }\n",
       "\n",
       "    .dataframe tbody tr th {\n",
       "        vertical-align: top;\n",
       "    }\n",
       "\n",
       "    .dataframe thead th {\n",
       "        text-align: right;\n",
       "    }\n",
       "</style>\n",
       "<table border=\"1\" class=\"dataframe\">\n",
       "  <thead>\n",
       "    <tr style=\"text-align: right;\">\n",
       "      <th></th>\n",
       "      <th>date</th>\n",
       "      <th>kospi</th>\n",
       "      <th>kosdaq</th>\n",
       "      <th>usd</th>\n",
       "    </tr>\n",
       "  </thead>\n",
       "  <tbody>\n",
       "    <tr>\n",
       "      <th>28</th>\n",
       "      <td>2024-08-07</td>\n",
       "      <td>2568.41</td>\n",
       "      <td>748.54</td>\n",
       "      <td>1376.0</td>\n",
       "    </tr>\n",
       "    <tr>\n",
       "      <th>29</th>\n",
       "      <td>2024-08-06</td>\n",
       "      <td>2522.15</td>\n",
       "      <td>732.87</td>\n",
       "      <td>1377.5</td>\n",
       "    </tr>\n",
       "  </tbody>\n",
       "</table>\n",
       "</div>"
      ],
      "text/plain": [
       "          date    kospi  kosdaq     usd\n",
       "28  2024-08-07  2568.41  748.54  1376.0\n",
       "29  2024-08-06  2522.15  732.87  1377.5"
      ]
     },
     "execution_count": 183,
     "metadata": {},
     "output_type": "execute_result"
    }
   ],
   "source": [
    "# 데이터 전처리 : merge\n",
    "merge_df = pd.merge(kp_df, kd_df, on='localTradedAt')\n",
    "merge_df = pd.merge(merge_df, usd_df, on='localTradedAt')\n",
    "merge_df.columns = ['date', 'kospi', 'kosdaq', 'usd']\n",
    "merge_df.tail(2)"
   ]
  },
  {
   "cell_type": "code",
   "execution_count": 189,
   "id": "4e35e12b-2d8c-46cd-b06e-8805306eb563",
   "metadata": {},
   "outputs": [
    {
     "data": {
      "text/html": [
       "<div>\n",
       "<style scoped>\n",
       "    .dataframe tbody tr th:only-of-type {\n",
       "        vertical-align: middle;\n",
       "    }\n",
       "\n",
       "    .dataframe tbody tr th {\n",
       "        vertical-align: top;\n",
       "    }\n",
       "\n",
       "    .dataframe thead th {\n",
       "        text-align: right;\n",
       "    }\n",
       "</style>\n",
       "<table border=\"1\" class=\"dataframe\">\n",
       "  <thead>\n",
       "    <tr style=\"text-align: right;\">\n",
       "      <th></th>\n",
       "      <th>kospi</th>\n",
       "      <th>kosdaq</th>\n",
       "      <th>usd</th>\n",
       "    </tr>\n",
       "  </thead>\n",
       "  <tbody>\n",
       "    <tr>\n",
       "      <th>kospi</th>\n",
       "      <td>1.000000</td>\n",
       "      <td>0.881514</td>\n",
       "      <td>-0.356399</td>\n",
       "    </tr>\n",
       "    <tr>\n",
       "      <th>kosdaq</th>\n",
       "      <td>0.881514</td>\n",
       "      <td>1.000000</td>\n",
       "      <td>0.029723</td>\n",
       "    </tr>\n",
       "    <tr>\n",
       "      <th>usd</th>\n",
       "      <td>-0.356399</td>\n",
       "      <td>0.029723</td>\n",
       "      <td>1.000000</td>\n",
       "    </tr>\n",
       "  </tbody>\n",
       "</table>\n",
       "</div>"
      ],
      "text/plain": [
       "           kospi    kosdaq       usd\n",
       "kospi   1.000000  0.881514 -0.356399\n",
       "kosdaq  0.881514  1.000000  0.029723\n",
       "usd    -0.356399  0.029723  1.000000"
      ]
     },
     "execution_count": 189,
     "metadata": {},
     "output_type": "execute_result"
    }
   ],
   "source": [
    "merge_df.iloc[:, 1:].corr()"
   ]
  },
  {
   "cell_type": "code",
   "execution_count": null,
   "id": "c607e69b-c593-437b-b6ba-81a5886f5821",
   "metadata": {},
   "outputs": [],
   "source": [
    "# 원달러환율이 높으면 달러를 원화로 환전하여 코스피 지수를 구매\n",
    "# 원달러환율이 낮으면 코스피 지수를 판매하여 달러로 환전"
   ]
  }
 ],
 "metadata": {
  "colab": {
   "name": "01_requests_naver_stock.ipynb",
   "provenance": []
  },
  "kernelspec": {
   "display_name": "Python 3 (ipykernel)",
   "language": "python",
   "name": "python3"
  },
  "language_info": {
   "codemirror_mode": {
    "name": "ipython",
    "version": 3
   },
   "file_extension": ".py",
   "mimetype": "text/x-python",
   "name": "python",
   "nbconvert_exporter": "python",
   "pygments_lexer": "ipython3",
   "version": "3.12.4"
  },
  "toc": {
   "base_numbering": 1,
   "nav_menu": {},
   "number_sections": false,
   "sideBar": true,
   "skip_h1_title": false,
   "title_cell": "Table of Contents",
   "title_sidebar": "Contents",
   "toc_cell": false,
   "toc_position": {},
   "toc_section_display": true,
   "toc_window_display": false
  }
 },
 "nbformat": 4,
 "nbformat_minor": 5
}
