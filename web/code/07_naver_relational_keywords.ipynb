{
 "cells": [
  {
   "cell_type": "markdown",
   "id": "2f46af77",
   "metadata": {},
   "source": [
    "### 네이버 함께 많이 찾는 주제어 수집\n",
    "- 정적(static) 웹페이지 데이터 수집 \n",
    "- BeautifulSoup을 이용하여 HTML 문자열 데이터 parsing"
   ]
  },
  {
   "cell_type": "code",
   "execution_count": 3,
   "id": "9a3541f0-d571-41f7-a357-335003d279ef",
   "metadata": {},
   "outputs": [],
   "source": [
    "import pandas as pd\n",
    "import requests\n",
    "from bs4 import BeautifulSoup"
   ]
  },
  {
   "cell_type": "markdown",
   "id": "16030538",
   "metadata": {},
   "source": [
    "#### 1. 웹페이지 분석 : URL"
   ]
  },
  {
   "cell_type": "code",
   "execution_count": 5,
   "id": "c1581d54",
   "metadata": {},
   "outputs": [],
   "source": [
    "url = 'https://search.naver.com/search.naver?query=삼성전자'"
   ]
  },
  {
   "cell_type": "markdown",
   "id": "56e6ea93",
   "metadata": {},
   "source": [
    "#### 2. request(URL) > response : str(html)"
   ]
  },
  {
   "cell_type": "code",
   "execution_count": 7,
   "id": "ceda1c7b",
   "metadata": {},
   "outputs": [
    {
     "data": {
      "text/plain": [
       "<Response [200]>"
      ]
     },
     "execution_count": 7,
     "metadata": {},
     "output_type": "execute_result"
    }
   ],
   "source": [
    "response = requests.get(url)\n",
    "response"
   ]
  },
  {
   "cell_type": "code",
   "execution_count": 13,
   "id": "024104d7-da87-4d06-913e-89c68a5b0fa6",
   "metadata": {},
   "outputs": [
    {
     "data": {
      "text/plain": [
       "'<!doctype html> <html lang=\"ko\"><head> <meta charset=\"utf-8\"> <meta name=\"referrer\" content=\"always\"'"
      ]
     },
     "execution_count": 13,
     "metadata": {},
     "output_type": "execute_result"
    }
   ],
   "source": [
    "response.text[:100]"
   ]
  },
  {
   "cell_type": "markdown",
   "id": "1e2acb8e",
   "metadata": {},
   "source": [
    "#### 3. str(html) > bs object"
   ]
  },
  {
   "cell_type": "code",
   "execution_count": 19,
   "id": "8736bc68",
   "metadata": {},
   "outputs": [
    {
     "data": {
      "text/plain": [
       "bs4.BeautifulSoup"
      ]
     },
     "execution_count": 19,
     "metadata": {},
     "output_type": "execute_result"
    }
   ],
   "source": [
    "dom = BeautifulSoup(response.text, 'html.parser')\n",
    "type(dom)"
   ]
  },
  {
   "cell_type": "markdown",
   "id": "252cf193",
   "metadata": {},
   "source": [
    "#### 4. bs object > .select(css-selector), .select_one(css-selector) > str(text)"
   ]
  },
  {
   "cell_type": "code",
   "execution_count": 23,
   "id": "525c3274",
   "metadata": {},
   "outputs": [],
   "source": [
    "# select > list(Tag1, Tag2 ...), select_one > Tag\n",
    "# dir(dom)"
   ]
  },
  {
   "cell_type": "code",
   "execution_count": 25,
   "id": "6e2b3d91-c622-472b-8670-f617e738ea75",
   "metadata": {},
   "outputs": [],
   "source": [
    "#fdr-367a0c4aba7a46c09bc7e3400438ee29 > div > div > div.bAUlEC095ho5bG7U0km1.fds-grid-layout-keyword.fds-refine-query-grid > div:nth-child(1) > div:nth-child(1) > a"
   ]
  },
  {
   "cell_type": "code",
   "execution_count": 31,
   "id": "be1a85ec-b011-4820-96da-46eb435db0f8",
   "metadata": {},
   "outputs": [
    {
     "data": {
      "text/plain": [
       "(6,\n",
       " [<span class=\"fds-keyword-text EC6qOsUFAOwAI0C5oRtw\">삼성전자주가</span>,\n",
       "  <span class=\"fds-keyword-text EC6qOsUFAOwAI0C5oRtw\">오늘 삼성전자 주가</span>,\n",
       "  <span class=\"fds-keyword-text EC6qOsUFAOwAI0C5oRtw\">삼성전자주식가격</span>,\n",
       "  <span class=\"fds-keyword-text EC6qOsUFAOwAI0C5oRtw\">삼성전자 주식</span>,\n",
       "  <span class=\"fds-keyword-text EC6qOsUFAOwAI0C5oRtw\">삼성전자 주가 전망</span>,\n",
       "  <span class=\"fds-keyword-text EC6qOsUFAOwAI0C5oRtw\">삼성전자주식전망</span>])"
      ]
     },
     "execution_count": 31,
     "metadata": {},
     "output_type": "execute_result"
    }
   ],
   "source": [
    "elements = dom.select('.fds-refine-query-grid span')\n",
    "len(elements), elements"
   ]
  },
  {
   "cell_type": "markdown",
   "id": "1e9ebdd4",
   "metadata": {},
   "source": [
    "#### 5. str(text) > DataFrame"
   ]
  },
  {
   "cell_type": "code",
   "execution_count": 35,
   "id": "62e1ef05",
   "metadata": {},
   "outputs": [
    {
     "data": {
      "text/plain": [
       "'삼성전자주가'"
      ]
     },
     "execution_count": 35,
     "metadata": {},
     "output_type": "execute_result"
    }
   ],
   "source": [
    "elements[0].text"
   ]
  },
  {
   "cell_type": "code",
   "execution_count": 37,
   "id": "43713133-b2d2-4599-8892-4d3937523791",
   "metadata": {},
   "outputs": [
    {
     "data": {
      "text/plain": [
       "['삼성전자주가', '오늘 삼성전자 주가', '삼성전자주식가격', '삼성전자 주식', '삼성전자 주가 전망', '삼성전자주식전망']"
      ]
     },
     "execution_count": 37,
     "metadata": {},
     "output_type": "execute_result"
    }
   ],
   "source": [
    "[element.text for element in elements]"
   ]
  },
  {
   "cell_type": "code",
   "execution_count": null,
   "id": "065487ca-52fc-4c19-9b23-bf1fefe353ab",
   "metadata": {},
   "outputs": [],
   "source": [
    "# daum exchange : headers\n",
    "# naver restapi : application 등록 > key\n",
    "# zigbang : request > response : 3번 \n",
    "# static page crawling : html > BeautifulSoup > css-selector : naver relational text"
   ]
  }
 ],
 "metadata": {
  "kernelspec": {
   "display_name": "Python 3 (ipykernel)",
   "language": "python",
   "name": "python3"
  },
  "language_info": {
   "codemirror_mode": {
    "name": "ipython",
    "version": 3
   },
   "file_extension": ".py",
   "mimetype": "text/x-python",
   "name": "python",
   "nbconvert_exporter": "python",
   "pygments_lexer": "ipython3",
   "version": "3.12.4"
  },
  "toc": {
   "base_numbering": 1,
   "nav_menu": {},
   "number_sections": false,
   "sideBar": true,
   "skip_h1_title": false,
   "title_cell": "Table of Contents",
   "title_sidebar": "Contents",
   "toc_cell": false,
   "toc_position": {},
   "toc_section_display": true,
   "toc_window_display": false
  }
 },
 "nbformat": 4,
 "nbformat_minor": 5
}
