{
 "cells": [
  {
   "cell_type": "markdown",
   "id": "03fff3b4",
   "metadata": {},
   "source": [
    "### selenium\n",
    "- `https://www.selenium.dev`\n",
    "- 자동화를 목적으로 만들어진 다양한 브라우져와 언어를 지원하는 라이브러리\n",
    "- 크롬 브라우져 설치\n",
    "    - 크롬 브라우져 드라이버 다운로드 (크롬 브라우져와 같은 버전)\n",
    "    - 다운로드한 드라이버 압축 해제\n",
    "    - chromedriver, chromedriver.exe 생성\n",
    "    - windows : 주피터 노트북 파일과 동일한 디렉토리에 chromedriver.exe 파일 업로드\n",
    "    - mac : sudo cp ~/Download/chromedirver /usr/local/bin"
   ]
  },
  {
   "cell_type": "code",
   "execution_count": 3,
   "id": "a6e6bc99",
   "metadata": {},
   "outputs": [],
   "source": [
    "# !pip install selenium\n",
    "# !pip install webdriver_manager"
   ]
  },
  {
   "cell_type": "code",
   "execution_count": 5,
   "id": "67593fc7-c76b-472a-8430-6f7e9d2dd61a",
   "metadata": {},
   "outputs": [],
   "source": [
    "import pandas as pd\n",
    "from selenium import webdriver\n",
    "from selenium.webdriver.common.by import By"
   ]
  },
  {
   "cell_type": "code",
   "execution_count": 23,
   "id": "9bef3c78-b50c-44d3-b2ad-43246e7b05cf",
   "metadata": {},
   "outputs": [],
   "source": [
    "# 직접 드라이버를 다운 받아서 설정\n",
    "driver = webdriver.Chrome()"
   ]
  },
  {
   "cell_type": "code",
   "execution_count": 13,
   "id": "851b33c5-bc05-4d0d-8129-a6d0d3c76801",
   "metadata": {},
   "outputs": [],
   "source": [
    "from selenium.webdriver.chrome.service import Service\n",
    "from webdriver_manager.chrome import ChromeDriverManager"
   ]
  },
  {
   "cell_type": "code",
   "execution_count": 19,
   "id": "a7bffa3f-3706-426f-8d92-795bcbc2f311",
   "metadata": {},
   "outputs": [],
   "source": [
    "# 자동으로 본인 환경에 맞는 드라이버를 다운 받아서 설정\n",
    "service = Service(ChromeDriverManager().install())"
   ]
  },
  {
   "cell_type": "code",
   "execution_count": 21,
   "id": "6a26bc8e-6c0f-4636-81f5-000555c23b2e",
   "metadata": {},
   "outputs": [],
   "source": [
    "driver = webdriver.Chrome(service=service)"
   ]
  },
  {
   "cell_type": "code",
   "execution_count": 25,
   "id": "38229937-6e1b-462d-938f-b16cd06fab06",
   "metadata": {},
   "outputs": [],
   "source": [
    "# 페이지 이동\n",
    "driver.get('https://daum.net')"
   ]
  },
  {
   "cell_type": "code",
   "execution_count": 27,
   "id": "3161f299-2b20-4d6e-94f3-7bd60fe957f4",
   "metadata": {},
   "outputs": [],
   "source": [
    "# 브라우져 사이즈 조절\n",
    "driver.set_window_size(200, 600)"
   ]
  },
  {
   "cell_type": "code",
   "execution_count": 29,
   "id": "f3003b8a-0668-45cb-ba8d-ecec946ed658",
   "metadata": {},
   "outputs": [],
   "source": [
    "# 자바스크립트 코드 실행\n",
    "driver.execute_script('alert(\"hello selenium!\");')"
   ]
  },
  {
   "cell_type": "code",
   "execution_count": 31,
   "id": "9b041f5f-382c-4327-bdc5-15f08e5f1430",
   "metadata": {},
   "outputs": [],
   "source": [
    "# alert 종료 \n",
    "alert = driver.switch_to.alert\n",
    "alert.accept()"
   ]
  },
  {
   "cell_type": "code",
   "execution_count": 37,
   "id": "732a59f4-00db-4a26-8338-481d88d6ff24",
   "metadata": {},
   "outputs": [],
   "source": [
    "driver.set_window_size(900, 1000)"
   ]
  },
  {
   "cell_type": "code",
   "execution_count": 43,
   "id": "a5b8d739-412b-4447-9012-2ca5c62975ee",
   "metadata": {},
   "outputs": [],
   "source": [
    "# 검색어 입력\n",
    "driver.find_element(By.CSS_SELECTOR, '#q').send_keys('selenium')"
   ]
  },
  {
   "cell_type": "code",
   "execution_count": 51,
   "id": "50e363c4-a5af-49ec-8606-973cc8fcb12f",
   "metadata": {},
   "outputs": [
    {
     "data": {
      "text/plain": [
       "'css selector'"
      ]
     },
     "execution_count": 51,
     "metadata": {},
     "output_type": "execute_result"
    }
   ],
   "source": [
    "By.CSS_SELECTOR"
   ]
  },
  {
   "cell_type": "code",
   "execution_count": 47,
   "id": "29affe20-a89c-4b71-8788-82523c5fa3e7",
   "metadata": {},
   "outputs": [],
   "source": [
    "# 검색버튼 클릭\n",
    "driver.find_element(By.CSS_SELECTOR, '.btn_ksearch').click()"
   ]
  },
  {
   "cell_type": "code",
   "execution_count": 49,
   "id": "f22dcce0-e07e-458d-b6d6-1c4c7d9058c7",
   "metadata": {},
   "outputs": [],
   "source": [
    "# 브라우져 종료 : 자원(RAM)반환\n",
    "driver.quit()"
   ]
  },
  {
   "cell_type": "markdown",
   "id": "c4c13a78",
   "metadata": {},
   "source": [
    "#### 텍스트 데이터 가져오기\n",
    "- TED 사이트 : `https://www.ted.com`"
   ]
  },
  {
   "cell_type": "code",
   "execution_count": 67,
   "id": "2d69a1aa-e3d5-431f-96c3-31ec645f7679",
   "metadata": {},
   "outputs": [],
   "source": [
    "import time"
   ]
  },
  {
   "cell_type": "code",
   "execution_count": 61,
   "id": "3ae39504-669f-4449-a7d2-65625a41965a",
   "metadata": {},
   "outputs": [],
   "source": [
    "driver = webdriver.Chrome()"
   ]
  },
  {
   "cell_type": "code",
   "execution_count": 63,
   "id": "cf9952e7-2faf-4c63-8e8a-2b55bd792b23",
   "metadata": {},
   "outputs": [],
   "source": [
    "driver.get('https://www.ted.com/talks')"
   ]
  },
  {
   "cell_type": "code",
   "execution_count": 65,
   "id": "1a7aea52-ee45-42de-a5b1-8d1686eaa58f",
   "metadata": {},
   "outputs": [],
   "source": [
    "time.sleep(1)\n",
    "driver.find_element(By.CSS_SELECTOR, '#close-pc-btn-handler').click()"
   ]
  },
  {
   "cell_type": "code",
   "execution_count": 69,
   "id": "adc3f11a-9859-465d-b0e2-ada338b1a607",
   "metadata": {},
   "outputs": [
    {
     "data": {
      "text/plain": [
       "'TED Talks: Discover ideas worth spreading'"
      ]
     },
     "execution_count": 69,
     "metadata": {},
     "output_type": "execute_result"
    }
   ],
   "source": [
    "driver.find_element(By.CSS_SELECTOR, 'h2.text-textPrimary-onLight').text"
   ]
  },
  {
   "cell_type": "code",
   "execution_count": 71,
   "id": "39e30c91",
   "metadata": {},
   "outputs": [],
   "source": [
    "driver.quit()"
   ]
  },
  {
   "cell_type": "markdown",
   "id": "152eda00",
   "metadata": {},
   "source": [
    "#### Headless\n",
    "- 브라우져를 화면에 띄우지 않고 메모리상에서만 올려서 크롤링하는 방법 \n",
    "- window가 지원되지 않는 환경에서 사용이 가능\n",
    "- chrome version 60.0.0.0 이상부터 지원 합니다."
   ]
  },
  {
   "cell_type": "code",
   "execution_count": 81,
   "id": "e850ff6c-e67b-4be1-b769-e4fe1ee59c47",
   "metadata": {},
   "outputs": [
    {
     "name": "stdout",
     "output_type": "stream",
     "text": [
      "TED Talks: Discover ideas worth spreading\n"
     ]
    }
   ],
   "source": [
    "options = webdriver.ChromeOptions()\n",
    "options.add_argument('headless')\n",
    "driver = webdriver.Chrome(service=service, options=options)\n",
    "driver.get('https://www.ted.com/talks')\n",
    "time.sleep(1)\n",
    "driver.find_element(By.CSS_SELECTOR, '#close-pc-btn-handler').click()\n",
    "text = driver.find_element(By.CSS_SELECTOR, 'h2.text-textPrimary-onLight').text\n",
    "print(text)\n",
    "driver.quit()"
   ]
  }
 ],
 "metadata": {
  "kernelspec": {
   "display_name": "Python 3 (ipykernel)",
   "language": "python",
   "name": "python3"
  },
  "language_info": {
   "codemirror_mode": {
    "name": "ipython",
    "version": 3
   },
   "file_extension": ".py",
   "mimetype": "text/x-python",
   "name": "python",
   "nbconvert_exporter": "python",
   "pygments_lexer": "ipython3",
   "version": "3.12.4"
  },
  "toc": {
   "base_numbering": 1,
   "nav_menu": {},
   "number_sections": false,
   "sideBar": true,
   "skip_h1_title": false,
   "title_cell": "Table of Contents",
   "title_sidebar": "Contents",
   "toc_cell": false,
   "toc_position": {},
   "toc_section_display": true,
   "toc_window_display": false
  }
 },
 "nbformat": 4,
 "nbformat_minor": 5
}
