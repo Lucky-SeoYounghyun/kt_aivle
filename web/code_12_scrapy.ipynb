{
 "cells": [
  {
   "cell_type": "markdown",
   "id": "b12537ef",
   "metadata": {
    "id": "b12537ef"
   },
   "source": [
    "# Scrapy\n",
    "- 웹사이트에서 데이터 수집을 위한 오픈소스 파이썬 프레임워크\n",
    "- 멀티스레딩으로 데이터 수집\n",
    "- daum news 데이터 수집"
   ]
  },
  {
   "cell_type": "code",
   "execution_count": 4,
   "id": "c8df8471",
   "metadata": {
    "id": "c8df8471",
    "tags": []
   },
   "outputs": [],
   "source": [
    "# install scrapy\n",
    "# !pip install scrapy"
   ]
  },
  {
   "cell_type": "code",
   "execution_count": 6,
   "id": "ffa19383-6875-45d3-b128-b0b64f2ca6ec",
   "metadata": {},
   "outputs": [],
   "source": [
    "import scrapy, requests\n",
    "from scrapy.http import TextResponse"
   ]
  },
  {
   "cell_type": "markdown",
   "id": "c0332cd8-37a0-4f19-9a84-e64a565827d6",
   "metadata": {
    "id": "c0332cd8-37a0-4f19-9a84-e64a565827d6"
   },
   "source": [
    "## 1. make project"
   ]
  },
  {
   "cell_type": "code",
   "execution_count": 8,
   "id": "12000ebe-ce7a-4165-ab13-8f7b1489e5e5",
   "metadata": {},
   "outputs": [
    {
     "name": "stdout",
     "output_type": "stream",
     "text": [
      "New Scrapy project 'news', using template directory 'C:\\Users\\User\\anaconda3\\Lib\\site-packages\\scrapy\\templates\\project', created in:\n",
      "    C:\\Users\\User\\Desktop\\code\\news\n",
      "\n",
      "You can start your first spider with:\n",
      "    cd news\n",
      "    scrapy genspider example example.com\n"
     ]
    }
   ],
   "source": [
    "!scrapy startproject news"
   ]
  },
  {
   "cell_type": "code",
   "execution_count": 14,
   "id": "6727c396-26aa-453c-81a9-cd20a44df282",
   "metadata": {},
   "outputs": [
    {
     "name": "stderr",
     "output_type": "stream",
     "text": [
      "'tree'은(는) 내부 또는 외부 명령, 실행할 수 있는 프로그램, 또는\n",
      "배치 파일이 아닙니다.\n"
     ]
    }
   ],
   "source": [
    "!tree news /f"
   ]
  },
  {
   "cell_type": "code",
   "execution_count": null,
   "id": "cfde8ac9-e362-405f-857a-3d245c277e4c",
   "metadata": {
    "id": "cfde8ac9-e362-405f-857a-3d245c277e4c",
    "outputId": "ba59f688-fac0-4bf5-92dd-f6fe70d51309",
    "tags": []
   },
   "outputs": [
    {
     "name": "stdout",
     "output_type": "stream",
     "text": [
      "\u001b[1;36mnews\u001b[0m\n",
      "├── \u001b[1;36mnews\u001b[0m\n",
      "│   ├── __init__.py\n",
      "│   ├── items.py\n",
      "│   ├── middlewares.py\n",
      "│   ├── pipelines.py\n",
      "│   ├── settings.py\n",
      "│   └── \u001b[1;36mspiders\u001b[0m\n",
      "│       └── __init__.py\n",
      "└── scrapy.cfg\n",
      "\n",
      "3 directories, 7 files\n"
     ]
    }
   ],
   "source": [
    "!tree news"
   ]
  },
  {
   "cell_type": "markdown",
   "id": "3ab608ad-302a-44bf-8f41-75fe6ff61be7",
   "metadata": {
    "id": "3ab608ad-302a-44bf-8f41-75fe6ff61be7",
    "tags": []
   },
   "source": [
    "- scrapy structure\n",
    "    - items : 데이터의 모양 정의\n",
    "    - middewares : 수집할때 header 정보와 같은 내용을 설정\n",
    "    - pipelines : 데이터를 수집한 후에 코드를 실행\n",
    "    - settings : robots.txt 규칙, 크롤링 시간 텀등을 설정\n",
    "    - spiders : 크롤링 절차를 정의"
   ]
  },
  {
   "cell_type": "markdown",
   "id": "8f2c2301-9562-46fe-aece-481dd73b88c9",
   "metadata": {
    "id": "8f2c2301-9562-46fe-aece-481dd73b88c9",
    "tags": []
   },
   "source": [
    "## 2. xpath\n",
    "- link, contents"
   ]
  },
  {
   "cell_type": "code",
   "execution_count": 18,
   "id": "03c95c83-29b6-4928-9410-373c75bf1142",
   "metadata": {},
   "outputs": [
    {
     "data": {
      "text/plain": [
       "<200 https://news.daum.net/>"
      ]
     },
     "execution_count": 18,
     "metadata": {},
     "output_type": "execute_result"
    }
   ],
   "source": [
    "url = 'https://news.daum.net/'\n",
    "response = requests.get(url)\n",
    "response = TextResponse(response.url, body=response.text, encoding='utf-8')\n",
    "response"
   ]
  },
  {
   "cell_type": "code",
   "execution_count": 31,
   "id": "2e62e523-22eb-4ee2-8ef6-f7acc806f6a7",
   "metadata": {
    "id": "2e62e523-22eb-4ee2-8ef6-f7acc806f6a7"
   },
   "outputs": [
    {
     "data": {
      "text/plain": [
       "(20,\n",
       " ['https://v.daum.net/v/20240923151053270',\n",
       "  'https://v.daum.net/v/20240923150750118',\n",
       "  'https://v.daum.net/v/20240923145528413'])"
      ]
     },
     "execution_count": 31,
     "metadata": {},
     "output_type": "execute_result"
    }
   ],
   "source": [
    "selector = '/html/body/div[2]/main/section/div/div[1]/div[1]/ul/li/div/div/strong/a/@href'\n",
    "links = response.xpath(selector).extract()\n",
    "len(links), links[:3]"
   ]
  },
  {
   "cell_type": "code",
   "execution_count": 35,
   "id": "eac2a393-a045-47dc-a2d7-540031f50e87",
   "metadata": {},
   "outputs": [
    {
     "data": {
      "text/plain": [
       "<200 https://v.daum.net/v/20240923151053270>"
      ]
     },
     "execution_count": 35,
     "metadata": {},
     "output_type": "execute_result"
    }
   ],
   "source": [
    "link = links[0]\n",
    "response = requests.get(link)\n",
    "response = TextResponse(response.url, body=response.text, encoding='utf-8')\n",
    "response"
   ]
  },
  {
   "cell_type": "code",
   "execution_count": 43,
   "id": "eec70bba-48af-4a65-ae49-7327e9773c36",
   "metadata": {},
   "outputs": [
    {
     "data": {
      "text/plain": [
       "\"전국 주택 2가구 중 1가구 이상은 '준공 20년 이상'\""
      ]
     },
     "execution_count": 43,
     "metadata": {},
     "output_type": "execute_result"
    }
   ],
   "source": [
    "title = response.xpath('//*[@id=\"mArticle\"]/div[1]/h3/text()')[0].extract()\n",
    "title"
   ]
  },
  {
   "cell_type": "markdown",
   "id": "ac938c1c-1819-4f9e-9ac0-7608b63ab738",
   "metadata": {},
   "source": [
    "### xpath\n",
    "- html element 선택하는 방법\n",
    "- scrapy 에서는 기본적으로 xpath를 사용\n",
    "- syntax\n",
    "    - // : 최상위 엘리먼트\n",
    "    - \\* : 모든 하위 엘리먼트 : css selector의 한칸띄우기와 같다.\n",
    "    - [@id=\"value\"] : 속성값 선택\n",
    "    - / : 한단계 하위 엘리먼트 : css selector의 >와 같다.\n",
    "    - [n] : nth-child(n)"
   ]
  },
  {
   "cell_type": "markdown",
   "id": "a66594e9-822f-412b-b6ac-5e6d192d943a",
   "metadata": {
    "id": "a66594e9-822f-412b-b6ac-5e6d192d943a"
   },
   "source": [
    "## 3. items.py\n",
    "- Data Model"
   ]
  },
  {
   "cell_type": "code",
   "execution_count": null,
   "id": "013c89dc-779f-4c04-a04a-c9c85d52635d",
   "metadata": {},
   "outputs": [],
   "source": [
    "# %load news/news/items.py"
   ]
  },
  {
   "cell_type": "code",
   "execution_count": 47,
   "id": "da0a8805-28ee-4deb-9281-ecc84b0b68bb",
   "metadata": {
    "id": "da0a8805-28ee-4deb-9281-ecc84b0b68bb"
   },
   "outputs": [
    {
     "name": "stdout",
     "output_type": "stream",
     "text": [
      "Overwriting news/news/items.py\n"
     ]
    }
   ],
   "source": [
    "%%writefile news/news/items.py\n",
    "import scrapy\n",
    "\n",
    "class NewsItem(scrapy.Item):\n",
    "    title = scrapy.Field()\n",
    "    link = scrapy.Field()"
   ]
  },
  {
   "cell_type": "markdown",
   "id": "9a36c20c-a58d-4f60-8ed4-b13178e174d7",
   "metadata": {
    "id": "9a36c20c-a58d-4f60-8ed4-b13178e174d7",
    "tags": []
   },
   "source": [
    "## 4. spider.py\n",
    "- wirte crawling process"
   ]
  },
  {
   "cell_type": "code",
   "execution_count": 55,
   "id": "881ce2ba-8894-4929-810c-c62480f319bc",
   "metadata": {},
   "outputs": [
    {
     "name": "stdout",
     "output_type": "stream",
     "text": [
      "Overwriting news/news/spiders/spider.py\n"
     ]
    }
   ],
   "source": [
    "%%writefile news/news/spiders/spider.py\n",
    "import scrapy\n",
    "from news.items import NewsItem\n",
    "\n",
    "class NewsSpider(scrapy.Spider):\n",
    "    name = 'news'\n",
    "    allow_domain = ['daum.net']\n",
    "    start_urls = ['https://news.daum.net']\n",
    "    \n",
    "    def parse(self, response):\n",
    "        selector = '/html/body/div[2]/main/section/div/div[1]/div[1]/ul/li/div/div/strong/a/@href'\n",
    "        links = response.xpath(selector).extract()\n",
    "        for link in links:\n",
    "            yield scrapy.Request(link, callback=self.parse_content)\n",
    "\n",
    "    def parse_content(self, response):\n",
    "        item = NewsItem()\n",
    "        item['link'] = response.url\n",
    "        item['title'] = response.xpath('//*[@id=\"mArticle\"]/div[1]/h3/text()')[0].extract()\n",
    "        yield item"
   ]
  },
  {
   "cell_type": "markdown",
   "id": "f62d4d2e-1978-4d8c-ac50-0ca52803c670",
   "metadata": {
    "id": "f62d4d2e-1978-4d8c-ac50-0ca52803c670",
    "tags": []
   },
   "source": [
    "## 5. run scrapy\n",
    "- news 디렉토리에서 아래의 커멘드 실행\n",
    "- scrapy crawl news -o news.csv"
   ]
  },
  {
   "cell_type": "code",
   "execution_count": 66,
   "id": "64bb9f97-95a4-49d1-a88e-8aeb1b1e3d7f",
   "metadata": {},
   "outputs": [
    {
     "data": {
      "text/plain": [
       "'C:\\\\Users\\\\User\\\\Desktop\\\\code'"
      ]
     },
     "execution_count": 66,
     "metadata": {},
     "output_type": "execute_result"
    }
   ],
   "source": [
    "%pwd"
   ]
  },
  {
   "cell_type": "code",
   "execution_count": 1,
   "id": "04187a34-2d76-4765-8d3a-8f912fef691c",
   "metadata": {},
   "outputs": [
    {
     "name": "stdout",
     "output_type": "stream",
     "text": [
      "\u001b[1;32mnews\u001b[0m\n",
      "├── scrapy.cfg\n",
      "├── news.csv\n",
      "└── \u001b[1;32mnews\u001b[0m\n",
      "    ├── settings.py\n",
      "    ├── pipelines.py\n",
      "    ├── middlewares.py\n",
      "    ├── items.py\n",
      "    ├── __init__.py\n",
      "    ├── \u001b[1;32mspiders\u001b[0m\n",
      "    │   ├── spider.py\n",
      "    │   ├── __init__.py\n",
      "    │   └── \u001b[1;32m__pycache__\u001b[0m\n",
      "    │       ├── spider.cpython-312.pyc\n",
      "    │       └── __init__.cpython-312.pyc\n",
      "    └── \u001b[1;32m__pycache__\u001b[0m\n",
      "        ├── settings.cpython-312.pyc\n",
      "        ├── items.cpython-312.pyc\n",
      "        └── __init__.cpython-312.pyc\n"
     ]
    }
   ],
   "source": [
    "import os\n",
    "\n",
    "def my_tree(startpath, indent=''):\n",
    "    items = sorted(os.listdir(startpath), key=lambda x: (os.path.isfile(os.path.join(startpath, x)), x), reverse=True)\n",
    "\n",
    "    if indent == '':\n",
    "        print('\\033[1;32m' + os.path.basename(os.path.abspath(startpath)) + '\\033[0m')\n",
    "\n",
    "    for item in items:\n",
    "        path = os.path.join(startpath, item)\n",
    "        connector = '└── ' if item == items[-1] else '├── '\n",
    "\n",
    "        if os.path.isdir(path):\n",
    "            print(indent + connector + '\\033[1;32m' + item + '\\033[0m')\n",
    "            my_tree(path, indent + ('    ' if item == items[-1] else '│   '))\n",
    "        else:\n",
    "            print(indent + connector + item)\n",
    "\n",
    "# 이 부분에 원하는 경로를 넣으시면 됩니다.\n",
    "my_tree('./news')"
   ]
  },
  {
   "cell_type": "code",
   "execution_count": null,
   "id": "b5469a7b-f7d9-4de8-8267-d05f88e46b89",
   "metadata": {},
   "outputs": [],
   "source": []
  },
  {
   "cell_type": "code",
   "execution_count": null,
   "id": "37b97df3-be7f-488a-a6a6-4c56494c70e3",
   "metadata": {},
   "outputs": [],
   "source": []
  },
  {
   "cell_type": "code",
   "execution_count": null,
   "id": "8811644a-184c-46f7-b2f3-ceda17dac532",
   "metadata": {
    "id": "8811644a-184c-46f7-b2f3-ceda17dac532"
   },
   "outputs": [],
   "source": []
  }
 ],
 "metadata": {
  "colab": {
   "provenance": []
  },
  "kernelspec": {
   "display_name": "Python 3 (ipykernel)",
   "language": "python",
   "name": "python3"
  },
  "language_info": {
   "codemirror_mode": {
    "name": "ipython",
    "version": 3
   },
   "file_extension": ".py",
   "mimetype": "text/x-python",
   "name": "python",
   "nbconvert_exporter": "python",
   "pygments_lexer": "ipython3",
   "version": "3.12.4"
  },
  "toc": {
   "base_numbering": 1,
   "nav_menu": {},
   "number_sections": false,
   "sideBar": true,
   "skip_h1_title": false,
   "title_cell": "Table of Contents",
   "title_sidebar": "Contents",
   "toc_cell": false,
   "toc_position": {},
   "toc_section_display": true,
   "toc_window_display": false
  }
 },
 "nbformat": 4,
 "nbformat_minor": 5
}
